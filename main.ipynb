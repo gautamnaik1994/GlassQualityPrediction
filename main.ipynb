{
  "nbformat": 4,
  "nbformat_minor": 0,
  "metadata": {
    "kernelspec": {
      "display_name": "Python 3",
      "language": "python",
      "name": "python3"
    },
    "language_info": {
      "codemirror_mode": {
        "name": "ipython",
        "version": 3
      },
      "file_extension": ".py",
      "mimetype": "text/x-python",
      "name": "python",
      "nbconvert_exporter": "python",
      "pygments_lexer": "ipython3",
      "version": "3.7.6"
    },
    "deepnote_notebook_id": "23b64a66-a67f-48e7-8109-7b3713a195bc",
    "deepnote_execution_queue": [],
    "colab": {
      "name": "main.ipynb",
      "provenance": [],
      "include_colab_link": true
    }
  },
  "cells": [
    {
      "cell_type": "markdown",
      "metadata": {
        "id": "view-in-github",
        "colab_type": "text"
      },
      "source": [
        "<a href=\"https://colab.research.google.com/github/gautamnaik1994/GlassQualityPrediction/blob/master/main.ipynb\" target=\"_parent\"><img src=\"https://colab.research.google.com/assets/colab-badge.svg\" alt=\"Open In Colab\"/></a>"
      ]
    },
    {
      "cell_type": "markdown",
      "metadata": {
        "cell_id": "324c7da9-63d5-43f9-8e4e-2cabe2fe66f3",
        "id": "GRxMv0vQ1VqF",
        "colab_type": "text"
      },
      "source": [
        "# Glass Quality Prediction\n",
        "https://www.machinehack.com/hackathons/glass_quality_prediction_weekend_hackathon_6\n",
        "\n",
        "### Overview\n",
        "We humans have been using glass since ancient times for a variety of applications from building construction to making decorative objects. With technology, glass and its applications have evolved, and today, we have different varieties of glass used for very different purposes from a computer monitor to a bulletproof car window depending on the grade of the glass produced. And not all grades or varieties are manufactured the same way. In this data science challenge, you as a data scientist must use the given data to predict the grade of the glass produced based on the given factors.Given are 15 distinguishing factors that can provide insight into what grade of the glass is being produced. Your objective as a data scientist is to build a machine learning model that can predict the grade of glass based on the given factors.\n",
        "\n",
        "### Evaluation\n",
        "The leaderboard is evaluated on the standard log_loss metric from sklearn\n",
        "\n"
      ]
    },
    {
      "cell_type": "code",
      "metadata": {
        "tags": [],
        "cell_id": "145e5388-d6b5-442f-bffc-bc9058b9512d",
        "id": "JkDj06Th1VqG",
        "colab_type": "code",
        "colab": {},
        "outputId": "96929202-e46f-4b59-a9e4-1824717fafaf"
      },
      "source": [
        "!pip install seaborn"
      ],
      "execution_count": null,
      "outputs": [
        {
          "output_type": "stream",
          "text": [
            "Collecting seaborn\n",
            "  Downloading seaborn-0.10.1-py3-none-any.whl (215 kB)\n",
            "\u001b[K     |████████████████████████████████| 215 kB 3.4 MB/s eta 0:00:01\n",
            "\u001b[?25hRequirement already satisfied: matplotlib>=2.1.2 in /opt/venv/lib/python3.7/site-packages (from seaborn) (3.2.2)\n",
            "Requirement already satisfied: numpy>=1.13.3 in /opt/venv/lib/python3.7/site-packages (from seaborn) (1.19.0)\n",
            "Requirement already satisfied: pandas>=0.22.0 in /opt/venv/lib/python3.7/site-packages (from seaborn) (1.0.5)\n",
            "Requirement already satisfied: scipy>=1.0.1 in /opt/venv/lib/python3.7/site-packages (from seaborn) (1.5.1)\n",
            "Requirement already satisfied: python-dateutil>=2.1 in /opt/venv/lib/python3.7/site-packages (from matplotlib>=2.1.2->seaborn) (2.8.1)\n",
            "Requirement already satisfied: kiwisolver>=1.0.1 in /opt/venv/lib/python3.7/site-packages (from matplotlib>=2.1.2->seaborn) (1.2.0)\n",
            "Requirement already satisfied: cycler>=0.10 in /opt/venv/lib/python3.7/site-packages (from matplotlib>=2.1.2->seaborn) (0.10.0)\n",
            "Requirement already satisfied: pyparsing!=2.0.4,!=2.1.2,!=2.1.6,>=2.0.1 in /opt/venv/lib/python3.7/site-packages (from matplotlib>=2.1.2->seaborn) (2.4.7)\n",
            "Requirement already satisfied: pytz>=2017.2 in /opt/venv/lib/python3.7/site-packages (from pandas>=0.22.0->seaborn) (2020.1)\n",
            "Requirement already satisfied: six>=1.5 in /opt/venv/lib/python3.7/site-packages (from python-dateutil>=2.1->matplotlib>=2.1.2->seaborn) (1.15.0)\n",
            "Installing collected packages: seaborn\n",
            "Successfully installed seaborn-0.10.1\n"
          ],
          "name": "stdout"
        }
      ]
    },
    {
      "cell_type": "code",
      "metadata": {
        "cell_id": "1fd7d473-a501-4cdc-9a4c-1421b55c07d2",
        "id": "bJPeV6Ej1VqN",
        "colab_type": "code",
        "colab": {}
      },
      "source": [
        "import pandas as pd\n",
        "import seaborn as sns\n",
        "from IPython.core.interactiveshell import InteractiveShell\n",
        "import matplotlib.pyplot as plt\n",
        "InteractiveShell.ast_node_interactivity = \"all\"\n",
        "from IPython.core.pylabtools import figsize\n",
        "import numpy as np\n",
        "import pickle\n",
        "from sklearn.metrics import confusion_matrix,classification_report,accuracy_score, log_loss\n",
        "from sklearn.model_selection import cross_val_score\n",
        "from sklearn.linear_model import LogisticRegression\n",
        "from sklearn.linear_model import SGDClassifier\n",
        "from sklearn.preprocessing import StandardScaler\n",
        "from sklearn.model_selection import train_test_split, GridSearchCV\n",
        "from sklearn.ensemble import RandomForestClassifier\n",
        "from sklearn.model_selection import StratifiedKFold\n",
        "from sklearn.neighbors import KNeighborsClassifier\n",
        "from sklearn.naive_bayes import GaussianNB\n",
        "from sklearn.calibration import CalibratedClassifierCV\n",
        "from sklearn import tree"
      ],
      "execution_count": 3,
      "outputs": []
    },
    {
      "cell_type": "code",
      "metadata": {
        "id": "979hdNjd2LIq",
        "colab_type": "code",
        "colab": {
          "base_uri": "https://localhost:8080/",
          "height": 204
        },
        "outputId": "41d69825-f52f-463a-9cb7-e31129290b89"
      },
      "source": [
        "!wget https://raw.githubusercontent.com/gautamnaik1994/GlassQualityPrediction/master/Glass_Quality_Participants_Data/Train.csv"
      ],
      "execution_count": 5,
      "outputs": [
        {
          "output_type": "stream",
          "text": [
            "--2020-07-21 19:28:38--  https://raw.githubusercontent.com/gautamnaik1994/GlassQualityPrediction/master/Glass_Quality_Participants_Data/Train.csv\n",
            "Resolving raw.githubusercontent.com (raw.githubusercontent.com)... 151.101.0.133, 151.101.64.133, 151.101.128.133, ...\n",
            "Connecting to raw.githubusercontent.com (raw.githubusercontent.com)|151.101.0.133|:443... connected.\n",
            "HTTP request sent, awaiting response... 200 OK\n",
            "Length: 93708 (92K) [text/plain]\n",
            "Saving to: ‘Train.csv’\n",
            "\n",
            "\rTrain.csv             0%[                    ]       0  --.-KB/s               \rTrain.csv           100%[===================>]  91.51K  --.-KB/s    in 0.03s   \n",
            "\n",
            "2020-07-21 19:28:38 (2.89 MB/s) - ‘Train.csv’ saved [93708/93708]\n",
            "\n"
          ],
          "name": "stdout"
        }
      ]
    },
    {
      "cell_type": "code",
      "metadata": {
        "id": "4jHK7AAH2ZN-",
        "colab_type": "code",
        "colab": {}
      },
      "source": [
        "# Only for Google Collab\n",
        "train=pd.read_csv(\"./Train.csv\")"
      ],
      "execution_count": 6,
      "outputs": []
    },
    {
      "cell_type": "code",
      "metadata": {
        "cell_id": "1085402e-c564-441e-877d-ee61d2dfff36",
        "id": "kgP3kxzo1VqQ",
        "colab_type": "code",
        "colab": {}
      },
      "source": [
        "train=pd.read_csv(\"./Glass_Quality_Participants_Data/Train.csv\")\n",
        "test=pd.read_csv(\"./Glass_Quality_Participants_Data/Test.csv\")"
      ],
      "execution_count": 7,
      "outputs": []
    },
    {
      "cell_type": "code",
      "metadata": {
        "cell_id": "108920f4-3bb5-422a-a8d9-87aa8855d202",
        "id": "dApWob-_1VqT",
        "colab_type": "code",
        "colab": {}
      },
      "source": [
        "train_orig=train.copy()"
      ],
      "execution_count": 8,
      "outputs": []
    },
    {
      "cell_type": "code",
      "metadata": {
        "cell_id": "52adf7bb-9a01-4025-bbdc-a1635b5cc8f0",
        "id": "81PjF08-1VqW",
        "colab_type": "code",
        "colab": {}
      },
      "source": [
        "def show_missing_count(data):\n",
        "    miss_percent = (data.isnull().sum() / len(data)) * 100\n",
        "    missing = pd.DataFrame({\"Percent\":miss_percent, 'Count':data.isnull().sum()}).sort_values(by=\"Percent\", ascending=False)\n",
        "    missing=missing.loc[missing['Percent'] > 0]\n",
        "    return missing"
      ],
      "execution_count": null,
      "outputs": []
    },
    {
      "cell_type": "markdown",
      "metadata": {
        "cell_id": "8386bacc-e5a5-43f9-8968-aded64dc1aee",
        "id": "A4u1eJAB1VqZ",
        "colab_type": "text"
      },
      "source": [
        "## EDA"
      ]
    },
    {
      "cell_type": "code",
      "metadata": {
        "cell_id": "5400d394-c1b9-4fcc-bff1-cb66588d0d71",
        "id": "HQZ2u08a1VqZ",
        "colab_type": "code",
        "colab": {},
        "outputId": "c831e9fb-2e8a-4c95-81d0-2d6e2f0ffdb0"
      },
      "source": [
        "train.head(10)\n",
        "test.head()"
      ],
      "execution_count": null,
      "outputs": [
        {
          "output_type": "execute_result",
          "data": {
            "text/html": [
              "<div>\n",
              "<style scoped>\n",
              "    .dataframe tbody tr th:only-of-type {\n",
              "        vertical-align: middle;\n",
              "    }\n",
              "\n",
              "    .dataframe tbody tr th {\n",
              "        vertical-align: top;\n",
              "    }\n",
              "\n",
              "    .dataframe thead th {\n",
              "        text-align: right;\n",
              "    }\n",
              "</style>\n",
              "<table border=\"1\" class=\"dataframe\">\n",
              "  <thead>\n",
              "    <tr style=\"text-align: right;\">\n",
              "      <th></th>\n",
              "      <th>grade_A_Component_1</th>\n",
              "      <th>grade_A_Component_2</th>\n",
              "      <th>max_luminosity</th>\n",
              "      <th>thickness</th>\n",
              "      <th>xmin</th>\n",
              "      <th>xmax</th>\n",
              "      <th>ymin</th>\n",
              "      <th>ymax</th>\n",
              "      <th>pixel_area</th>\n",
              "      <th>log_area</th>\n",
              "      <th>x_component_1</th>\n",
              "      <th>x_component_2</th>\n",
              "      <th>x_component_3</th>\n",
              "      <th>x_component_4</th>\n",
              "      <th>x_component_5</th>\n",
              "      <th>class</th>\n",
              "    </tr>\n",
              "  </thead>\n",
              "  <tbody>\n",
              "    <tr>\n",
              "      <th>0</th>\n",
              "      <td>0</td>\n",
              "      <td>1</td>\n",
              "      <td>150</td>\n",
              "      <td>36</td>\n",
              "      <td>144</td>\n",
              "      <td>172</td>\n",
              "      <td>947225</td>\n",
              "      <td>947332</td>\n",
              "      <td>439</td>\n",
              "      <td>439.099273</td>\n",
              "      <td>0</td>\n",
              "      <td>0</td>\n",
              "      <td>1</td>\n",
              "      <td>0</td>\n",
              "      <td>0</td>\n",
              "      <td>1</td>\n",
              "    </tr>\n",
              "    <tr>\n",
              "      <th>1</th>\n",
              "      <td>1</td>\n",
              "      <td>0</td>\n",
              "      <td>134</td>\n",
              "      <td>55</td>\n",
              "      <td>1144</td>\n",
              "      <td>1152</td>\n",
              "      <td>2379058</td>\n",
              "      <td>2379624</td>\n",
              "      <td>329</td>\n",
              "      <td>329.205616</td>\n",
              "      <td>1</td>\n",
              "      <td>0</td>\n",
              "      <td>0</td>\n",
              "      <td>0</td>\n",
              "      <td>0</td>\n",
              "      <td>1</td>\n",
              "    </tr>\n",
              "    <tr>\n",
              "      <th>2</th>\n",
              "      <td>1</td>\n",
              "      <td>0</td>\n",
              "      <td>135</td>\n",
              "      <td>65</td>\n",
              "      <td>950</td>\n",
              "      <td>974</td>\n",
              "      <td>1038442</td>\n",
              "      <td>1036754</td>\n",
              "      <td>300</td>\n",
              "      <td>300.120598</td>\n",
              "      <td>0</td>\n",
              "      <td>0</td>\n",
              "      <td>0</td>\n",
              "      <td>0</td>\n",
              "      <td>0</td>\n",
              "      <td>2</td>\n",
              "    </tr>\n",
              "    <tr>\n",
              "      <th>3</th>\n",
              "      <td>0</td>\n",
              "      <td>1</td>\n",
              "      <td>123</td>\n",
              "      <td>35</td>\n",
              "      <td>41</td>\n",
              "      <td>220</td>\n",
              "      <td>1705580</td>\n",
              "      <td>1705604</td>\n",
              "      <td>6803</td>\n",
              "      <td>6803.778622</td>\n",
              "      <td>0</td>\n",
              "      <td>0</td>\n",
              "      <td>1</td>\n",
              "      <td>0</td>\n",
              "      <td>0</td>\n",
              "      <td>1</td>\n",
              "    </tr>\n",
              "    <tr>\n",
              "      <th>4</th>\n",
              "      <td>1</td>\n",
              "      <td>0</td>\n",
              "      <td>138</td>\n",
              "      <td>69</td>\n",
              "      <td>462</td>\n",
              "      <td>466</td>\n",
              "      <td>1088124</td>\n",
              "      <td>1086579</td>\n",
              "      <td>251</td>\n",
              "      <td>251.401943</td>\n",
              "      <td>0</td>\n",
              "      <td>0</td>\n",
              "      <td>0</td>\n",
              "      <td>0</td>\n",
              "      <td>0</td>\n",
              "      <td>2</td>\n",
              "    </tr>\n",
              "    <tr>\n",
              "      <th>5</th>\n",
              "      <td>1</td>\n",
              "      <td>0</td>\n",
              "      <td>127</td>\n",
              "      <td>72</td>\n",
              "      <td>246</td>\n",
              "      <td>256</td>\n",
              "      <td>1137516</td>\n",
              "      <td>1136929</td>\n",
              "      <td>177</td>\n",
              "      <td>177.184821</td>\n",
              "      <td>0</td>\n",
              "      <td>1</td>\n",
              "      <td>0</td>\n",
              "      <td>0</td>\n",
              "      <td>0</td>\n",
              "      <td>1</td>\n",
              "    </tr>\n",
              "    <tr>\n",
              "      <th>6</th>\n",
              "      <td>0</td>\n",
              "      <td>1</td>\n",
              "      <td>99</td>\n",
              "      <td>39</td>\n",
              "      <td>242</td>\n",
              "      <td>359</td>\n",
              "      <td>87212</td>\n",
              "      <td>87169</td>\n",
              "      <td>3369</td>\n",
              "      <td>3369.037497</td>\n",
              "      <td>0</td>\n",
              "      <td>0</td>\n",
              "      <td>1</td>\n",
              "      <td>0</td>\n",
              "      <td>0</td>\n",
              "      <td>1</td>\n",
              "    </tr>\n",
              "    <tr>\n",
              "      <th>7</th>\n",
              "      <td>0</td>\n",
              "      <td>1</td>\n",
              "      <td>136</td>\n",
              "      <td>38</td>\n",
              "      <td>48</td>\n",
              "      <td>202</td>\n",
              "      <td>697615</td>\n",
              "      <td>696534</td>\n",
              "      <td>6159</td>\n",
              "      <td>6159.902918</td>\n",
              "      <td>0</td>\n",
              "      <td>0</td>\n",
              "      <td>1</td>\n",
              "      <td>0</td>\n",
              "      <td>0</td>\n",
              "      <td>1</td>\n",
              "    </tr>\n",
              "    <tr>\n",
              "      <th>8</th>\n",
              "      <td>0</td>\n",
              "      <td>1</td>\n",
              "      <td>121</td>\n",
              "      <td>43</td>\n",
              "      <td>42</td>\n",
              "      <td>214</td>\n",
              "      <td>4401789</td>\n",
              "      <td>4401986</td>\n",
              "      <td>5667</td>\n",
              "      <td>5667.675157</td>\n",
              "      <td>0</td>\n",
              "      <td>0</td>\n",
              "      <td>1</td>\n",
              "      <td>0</td>\n",
              "      <td>0</td>\n",
              "      <td>1</td>\n",
              "    </tr>\n",
              "    <tr>\n",
              "      <th>9</th>\n",
              "      <td>1</td>\n",
              "      <td>0</td>\n",
              "      <td>115</td>\n",
              "      <td>99</td>\n",
              "      <td>1289</td>\n",
              "      <td>1304</td>\n",
              "      <td>1005611</td>\n",
              "      <td>1006124</td>\n",
              "      <td>281</td>\n",
              "      <td>281.072866</td>\n",
              "      <td>1</td>\n",
              "      <td>0</td>\n",
              "      <td>0</td>\n",
              "      <td>0</td>\n",
              "      <td>0</td>\n",
              "      <td>1</td>\n",
              "    </tr>\n",
              "  </tbody>\n",
              "</table>\n",
              "</div>"
            ],
            "text/plain": [
              "   grade_A_Component_1  grade_A_Component_2  max_luminosity  thickness  xmin  \\\n",
              "0                    0                    1             150         36   144   \n",
              "1                    1                    0             134         55  1144   \n",
              "2                    1                    0             135         65   950   \n",
              "3                    0                    1             123         35    41   \n",
              "4                    1                    0             138         69   462   \n",
              "5                    1                    0             127         72   246   \n",
              "6                    0                    1              99         39   242   \n",
              "7                    0                    1             136         38    48   \n",
              "8                    0                    1             121         43    42   \n",
              "9                    1                    0             115         99  1289   \n",
              "\n",
              "   xmax     ymin     ymax  pixel_area     log_area  x_component_1  \\\n",
              "0   172   947225   947332         439   439.099273              0   \n",
              "1  1152  2379058  2379624         329   329.205616              1   \n",
              "2   974  1038442  1036754         300   300.120598              0   \n",
              "3   220  1705580  1705604        6803  6803.778622              0   \n",
              "4   466  1088124  1086579         251   251.401943              0   \n",
              "5   256  1137516  1136929         177   177.184821              0   \n",
              "6   359    87212    87169        3369  3369.037497              0   \n",
              "7   202   697615   696534        6159  6159.902918              0   \n",
              "8   214  4401789  4401986        5667  5667.675157              0   \n",
              "9  1304  1005611  1006124         281   281.072866              1   \n",
              "\n",
              "   x_component_2  x_component_3  x_component_4  x_component_5  class  \n",
              "0              0              1              0              0      1  \n",
              "1              0              0              0              0      1  \n",
              "2              0              0              0              0      2  \n",
              "3              0              1              0              0      1  \n",
              "4              0              0              0              0      2  \n",
              "5              1              0              0              0      1  \n",
              "6              0              1              0              0      1  \n",
              "7              0              1              0              0      1  \n",
              "8              0              1              0              0      1  \n",
              "9              0              0              0              0      1  "
            ]
          },
          "metadata": {
            "tags": []
          },
          "execution_count": 5
        },
        {
          "output_type": "execute_result",
          "data": {
            "text/html": [
              "<div>\n",
              "<style scoped>\n",
              "    .dataframe tbody tr th:only-of-type {\n",
              "        vertical-align: middle;\n",
              "    }\n",
              "\n",
              "    .dataframe tbody tr th {\n",
              "        vertical-align: top;\n",
              "    }\n",
              "\n",
              "    .dataframe thead th {\n",
              "        text-align: right;\n",
              "    }\n",
              "</style>\n",
              "<table border=\"1\" class=\"dataframe\">\n",
              "  <thead>\n",
              "    <tr style=\"text-align: right;\">\n",
              "      <th></th>\n",
              "      <th>grade_A_Component_1</th>\n",
              "      <th>grade_A_Component_2</th>\n",
              "      <th>max_luminosity</th>\n",
              "      <th>thickness</th>\n",
              "      <th>xmin</th>\n",
              "      <th>xmax</th>\n",
              "      <th>ymin</th>\n",
              "      <th>ymax</th>\n",
              "      <th>pixel_area</th>\n",
              "      <th>log_area</th>\n",
              "      <th>x_component_1</th>\n",
              "      <th>x_component_2</th>\n",
              "      <th>x_component_3</th>\n",
              "      <th>x_component_4</th>\n",
              "      <th>x_component_5</th>\n",
              "    </tr>\n",
              "  </thead>\n",
              "  <tbody>\n",
              "    <tr>\n",
              "      <th>0</th>\n",
              "      <td>1</td>\n",
              "      <td>0</td>\n",
              "      <td>123</td>\n",
              "      <td>65</td>\n",
              "      <td>33</td>\n",
              "      <td>54</td>\n",
              "      <td>1646439</td>\n",
              "      <td>1646893</td>\n",
              "      <td>632</td>\n",
              "      <td>632.391749</td>\n",
              "      <td>0</td>\n",
              "      <td>1</td>\n",
              "      <td>0</td>\n",
              "      <td>0</td>\n",
              "      <td>0</td>\n",
              "    </tr>\n",
              "    <tr>\n",
              "      <th>1</th>\n",
              "      <td>0</td>\n",
              "      <td>1</td>\n",
              "      <td>158</td>\n",
              "      <td>99</td>\n",
              "      <td>125</td>\n",
              "      <td>132</td>\n",
              "      <td>189874</td>\n",
              "      <td>189529</td>\n",
              "      <td>421</td>\n",
              "      <td>421.928609</td>\n",
              "      <td>0</td>\n",
              "      <td>0</td>\n",
              "      <td>0</td>\n",
              "      <td>0</td>\n",
              "      <td>0</td>\n",
              "    </tr>\n",
              "    <tr>\n",
              "      <th>2</th>\n",
              "      <td>0</td>\n",
              "      <td>1</td>\n",
              "      <td>120</td>\n",
              "      <td>35</td>\n",
              "      <td>64</td>\n",
              "      <td>75</td>\n",
              "      <td>12986873</td>\n",
              "      <td>12986862</td>\n",
              "      <td>272</td>\n",
              "      <td>272.212214</td>\n",
              "      <td>1</td>\n",
              "      <td>0</td>\n",
              "      <td>0</td>\n",
              "      <td>0</td>\n",
              "      <td>0</td>\n",
              "    </tr>\n",
              "    <tr>\n",
              "      <th>3</th>\n",
              "      <td>0</td>\n",
              "      <td>1</td>\n",
              "      <td>130</td>\n",
              "      <td>39</td>\n",
              "      <td>57</td>\n",
              "      <td>177</td>\n",
              "      <td>309634</td>\n",
              "      <td>310824</td>\n",
              "      <td>3312</td>\n",
              "      <td>3312.310581</td>\n",
              "      <td>0</td>\n",
              "      <td>0</td>\n",
              "      <td>1</td>\n",
              "      <td>0</td>\n",
              "      <td>0</td>\n",
              "    </tr>\n",
              "    <tr>\n",
              "      <th>4</th>\n",
              "      <td>1</td>\n",
              "      <td>0</td>\n",
              "      <td>142</td>\n",
              "      <td>75</td>\n",
              "      <td>23</td>\n",
              "      <td>79</td>\n",
              "      <td>5368307</td>\n",
              "      <td>5367467</td>\n",
              "      <td>862</td>\n",
              "      <td>862.499179</td>\n",
              "      <td>0</td>\n",
              "      <td>0</td>\n",
              "      <td>0</td>\n",
              "      <td>0</td>\n",
              "      <td>0</td>\n",
              "    </tr>\n",
              "  </tbody>\n",
              "</table>\n",
              "</div>"
            ],
            "text/plain": [
              "   grade_A_Component_1  grade_A_Component_2  max_luminosity  thickness  xmin  \\\n",
              "0                    1                    0             123         65    33   \n",
              "1                    0                    1             158         99   125   \n",
              "2                    0                    1             120         35    64   \n",
              "3                    0                    1             130         39    57   \n",
              "4                    1                    0             142         75    23   \n",
              "\n",
              "   xmax      ymin      ymax  pixel_area     log_area  x_component_1  \\\n",
              "0    54   1646439   1646893         632   632.391749              0   \n",
              "1   132    189874    189529         421   421.928609              0   \n",
              "2    75  12986873  12986862         272   272.212214              1   \n",
              "3   177    309634    310824        3312  3312.310581              0   \n",
              "4    79   5368307   5367467         862   862.499179              0   \n",
              "\n",
              "   x_component_2  x_component_3  x_component_4  x_component_5  \n",
              "0              1              0              0              0  \n",
              "1              0              0              0              0  \n",
              "2              0              0              0              0  \n",
              "3              0              1              0              0  \n",
              "4              0              0              0              0  "
            ]
          },
          "metadata": {
            "tags": []
          },
          "execution_count": 5
        }
      ]
    },
    {
      "cell_type": "code",
      "metadata": {
        "cell_id": "2c537554-1444-4c22-823a-9f4093cb81ac",
        "id": "cVz3jKc11Vqc",
        "colab_type": "code",
        "colab": {},
        "outputId": "d2cd8a45-d148-48f9-eec3-05d11844a62e"
      },
      "source": [
        "train.describe()\n",
        "train.info()"
      ],
      "execution_count": null,
      "outputs": [
        {
          "output_type": "execute_result",
          "data": {
            "text/html": [
              "<div>\n",
              "<style scoped>\n",
              "    .dataframe tbody tr th:only-of-type {\n",
              "        vertical-align: middle;\n",
              "    }\n",
              "\n",
              "    .dataframe tbody tr th {\n",
              "        vertical-align: top;\n",
              "    }\n",
              "\n",
              "    .dataframe thead th {\n",
              "        text-align: right;\n",
              "    }\n",
              "</style>\n",
              "<table border=\"1\" class=\"dataframe\">\n",
              "  <thead>\n",
              "    <tr style=\"text-align: right;\">\n",
              "      <th></th>\n",
              "      <th>grade_A_Component_1</th>\n",
              "      <th>grade_A_Component_2</th>\n",
              "      <th>max_luminosity</th>\n",
              "      <th>thickness</th>\n",
              "      <th>xmin</th>\n",
              "      <th>xmax</th>\n",
              "      <th>ymin</th>\n",
              "      <th>ymax</th>\n",
              "      <th>pixel_area</th>\n",
              "      <th>log_area</th>\n",
              "      <th>x_component_1</th>\n",
              "      <th>x_component_2</th>\n",
              "      <th>x_component_3</th>\n",
              "      <th>x_component_4</th>\n",
              "      <th>x_component_5</th>\n",
              "      <th>class</th>\n",
              "    </tr>\n",
              "  </thead>\n",
              "  <tbody>\n",
              "    <tr>\n",
              "      <th>count</th>\n",
              "      <td>1358.000000</td>\n",
              "      <td>1358.000000</td>\n",
              "      <td>1358.000000</td>\n",
              "      <td>1358.000000</td>\n",
              "      <td>1358.000000</td>\n",
              "      <td>1358.000000</td>\n",
              "      <td>1.358000e+03</td>\n",
              "      <td>1.358000e+03</td>\n",
              "      <td>1358.000000</td>\n",
              "      <td>1358.000000</td>\n",
              "      <td>1358.000000</td>\n",
              "      <td>1358.000000</td>\n",
              "      <td>1358.000000</td>\n",
              "      <td>1358.000000</td>\n",
              "      <td>1358.000000</td>\n",
              "      <td>1358.000000</td>\n",
              "    </tr>\n",
              "    <tr>\n",
              "      <th>mean</th>\n",
              "      <td>0.406480</td>\n",
              "      <td>0.593520</td>\n",
              "      <td>137.893225</td>\n",
              "      <td>78.977909</td>\n",
              "      <td>567.370398</td>\n",
              "      <td>614.032401</td>\n",
              "      <td>1.660107e+06</td>\n",
              "      <td>1.660139e+06</td>\n",
              "      <td>1903.402798</td>\n",
              "      <td>1903.896240</td>\n",
              "      <td>0.081738</td>\n",
              "      <td>0.106038</td>\n",
              "      <td>0.197349</td>\n",
              "      <td>0.035346</td>\n",
              "      <td>0.027982</td>\n",
              "      <td>1.346834</td>\n",
              "    </tr>\n",
              "    <tr>\n",
              "      <th>std</th>\n",
              "      <td>0.491357</td>\n",
              "      <td>0.491357</td>\n",
              "      <td>20.480512</td>\n",
              "      <td>55.324842</td>\n",
              "      <td>522.013094</td>\n",
              "      <td>500.505513</td>\n",
              "      <td>1.778153e+06</td>\n",
              "      <td>1.778177e+06</td>\n",
              "      <td>3839.156721</td>\n",
              "      <td>3839.163241</td>\n",
              "      <td>0.274066</td>\n",
              "      <td>0.308000</td>\n",
              "      <td>0.398145</td>\n",
              "      <td>0.184721</td>\n",
              "      <td>0.164983</td>\n",
              "      <td>0.476138</td>\n",
              "    </tr>\n",
              "    <tr>\n",
              "      <th>min</th>\n",
              "      <td>0.000000</td>\n",
              "      <td>0.000000</td>\n",
              "      <td>71.000000</td>\n",
              "      <td>35.000000</td>\n",
              "      <td>0.000000</td>\n",
              "      <td>4.000000</td>\n",
              "      <td>7.527000e+03</td>\n",
              "      <td>7.453000e+03</td>\n",
              "      <td>3.000000</td>\n",
              "      <td>3.445293</td>\n",
              "      <td>0.000000</td>\n",
              "      <td>0.000000</td>\n",
              "      <td>0.000000</td>\n",
              "      <td>0.000000</td>\n",
              "      <td>0.000000</td>\n",
              "      <td>1.000000</td>\n",
              "    </tr>\n",
              "    <tr>\n",
              "      <th>25%</th>\n",
              "      <td>0.000000</td>\n",
              "      <td>0.000000</td>\n",
              "      <td>127.000000</td>\n",
              "      <td>42.000000</td>\n",
              "      <td>53.000000</td>\n",
              "      <td>192.000000</td>\n",
              "      <td>4.662742e+05</td>\n",
              "      <td>4.666918e+05</td>\n",
              "      <td>234.000000</td>\n",
              "      <td>234.335948</td>\n",
              "      <td>0.000000</td>\n",
              "      <td>0.000000</td>\n",
              "      <td>0.000000</td>\n",
              "      <td>0.000000</td>\n",
              "      <td>0.000000</td>\n",
              "      <td>1.000000</td>\n",
              "    </tr>\n",
              "    <tr>\n",
              "      <th>50%</th>\n",
              "      <td>0.000000</td>\n",
              "      <td>1.000000</td>\n",
              "      <td>137.000000</td>\n",
              "      <td>66.000000</td>\n",
              "      <td>407.500000</td>\n",
              "      <td>457.000000</td>\n",
              "      <td>1.216168e+06</td>\n",
              "      <td>1.214700e+06</td>\n",
              "      <td>346.000000</td>\n",
              "      <td>346.044490</td>\n",
              "      <td>0.000000</td>\n",
              "      <td>0.000000</td>\n",
              "      <td>0.000000</td>\n",
              "      <td>0.000000</td>\n",
              "      <td>0.000000</td>\n",
              "      <td>1.000000</td>\n",
              "    </tr>\n",
              "    <tr>\n",
              "      <th>75%</th>\n",
              "      <td>1.000000</td>\n",
              "      <td>1.000000</td>\n",
              "      <td>146.000000</td>\n",
              "      <td>83.000000</td>\n",
              "      <td>1041.750000</td>\n",
              "      <td>1064.000000</td>\n",
              "      <td>2.210012e+06</td>\n",
              "      <td>2.210076e+06</td>\n",
              "      <td>915.250000</td>\n",
              "      <td>915.367817</td>\n",
              "      <td>0.000000</td>\n",
              "      <td>0.000000</td>\n",
              "      <td>0.000000</td>\n",
              "      <td>0.000000</td>\n",
              "      <td>0.000000</td>\n",
              "      <td>2.000000</td>\n",
              "    </tr>\n",
              "    <tr>\n",
              "      <th>max</th>\n",
              "      <td>1.000000</td>\n",
              "      <td>1.000000</td>\n",
              "      <td>266.000000</td>\n",
              "      <td>305.000000</td>\n",
              "      <td>1692.000000</td>\n",
              "      <td>1717.000000</td>\n",
              "      <td>1.291748e+07</td>\n",
              "      <td>1.291731e+07</td>\n",
              "      <td>37392.000000</td>\n",
              "      <td>37392.672970</td>\n",
              "      <td>1.000000</td>\n",
              "      <td>1.000000</td>\n",
              "      <td>1.000000</td>\n",
              "      <td>1.000000</td>\n",
              "      <td>1.000000</td>\n",
              "      <td>2.000000</td>\n",
              "    </tr>\n",
              "  </tbody>\n",
              "</table>\n",
              "</div>"
            ],
            "text/plain": [
              "       grade_A_Component_1  grade_A_Component_2  max_luminosity    thickness  \\\n",
              "count          1358.000000          1358.000000     1358.000000  1358.000000   \n",
              "mean              0.406480             0.593520      137.893225    78.977909   \n",
              "std               0.491357             0.491357       20.480512    55.324842   \n",
              "min               0.000000             0.000000       71.000000    35.000000   \n",
              "25%               0.000000             0.000000      127.000000    42.000000   \n",
              "50%               0.000000             1.000000      137.000000    66.000000   \n",
              "75%               1.000000             1.000000      146.000000    83.000000   \n",
              "max               1.000000             1.000000      266.000000   305.000000   \n",
              "\n",
              "              xmin         xmax          ymin          ymax    pixel_area  \\\n",
              "count  1358.000000  1358.000000  1.358000e+03  1.358000e+03   1358.000000   \n",
              "mean    567.370398   614.032401  1.660107e+06  1.660139e+06   1903.402798   \n",
              "std     522.013094   500.505513  1.778153e+06  1.778177e+06   3839.156721   \n",
              "min       0.000000     4.000000  7.527000e+03  7.453000e+03      3.000000   \n",
              "25%      53.000000   192.000000  4.662742e+05  4.666918e+05    234.000000   \n",
              "50%     407.500000   457.000000  1.216168e+06  1.214700e+06    346.000000   \n",
              "75%    1041.750000  1064.000000  2.210012e+06  2.210076e+06    915.250000   \n",
              "max    1692.000000  1717.000000  1.291748e+07  1.291731e+07  37392.000000   \n",
              "\n",
              "           log_area  x_component_1  x_component_2  x_component_3  \\\n",
              "count   1358.000000    1358.000000    1358.000000    1358.000000   \n",
              "mean    1903.896240       0.081738       0.106038       0.197349   \n",
              "std     3839.163241       0.274066       0.308000       0.398145   \n",
              "min        3.445293       0.000000       0.000000       0.000000   \n",
              "25%      234.335948       0.000000       0.000000       0.000000   \n",
              "50%      346.044490       0.000000       0.000000       0.000000   \n",
              "75%      915.367817       0.000000       0.000000       0.000000   \n",
              "max    37392.672970       1.000000       1.000000       1.000000   \n",
              "\n",
              "       x_component_4  x_component_5        class  \n",
              "count    1358.000000    1358.000000  1358.000000  \n",
              "mean        0.035346       0.027982     1.346834  \n",
              "std         0.184721       0.164983     0.476138  \n",
              "min         0.000000       0.000000     1.000000  \n",
              "25%         0.000000       0.000000     1.000000  \n",
              "50%         0.000000       0.000000     1.000000  \n",
              "75%         0.000000       0.000000     2.000000  \n",
              "max         1.000000       1.000000     2.000000  "
            ]
          },
          "metadata": {
            "tags": []
          },
          "execution_count": 6
        },
        {
          "output_type": "stream",
          "text": [
            "<class 'pandas.core.frame.DataFrame'>\n",
            "RangeIndex: 1358 entries, 0 to 1357\n",
            "Data columns (total 16 columns):\n",
            " #   Column               Non-Null Count  Dtype  \n",
            "---  ------               --------------  -----  \n",
            " 0   grade_A_Component_1  1358 non-null   int64  \n",
            " 1   grade_A_Component_2  1358 non-null   int64  \n",
            " 2   max_luminosity       1358 non-null   int64  \n",
            " 3   thickness            1358 non-null   int64  \n",
            " 4   xmin                 1358 non-null   int64  \n",
            " 5   xmax                 1358 non-null   int64  \n",
            " 6   ymin                 1358 non-null   int64  \n",
            " 7   ymax                 1358 non-null   int64  \n",
            " 8   pixel_area           1358 non-null   int64  \n",
            " 9   log_area             1358 non-null   float64\n",
            " 10  x_component_1        1358 non-null   int64  \n",
            " 11  x_component_2        1358 non-null   int64  \n",
            " 12  x_component_3        1358 non-null   int64  \n",
            " 13  x_component_4        1358 non-null   int64  \n",
            " 14  x_component_5        1358 non-null   int64  \n",
            " 15  class                1358 non-null   int64  \n",
            "dtypes: float64(1), int64(15)\n",
            "memory usage: 169.9 KB\n"
          ],
          "name": "stdout"
        }
      ]
    },
    {
      "cell_type": "code",
      "metadata": {
        "cell_id": "3d14a8d8-c73d-4a20-9ae6-40c491eb2fa2",
        "id": "WKkoMx_11Vqf",
        "colab_type": "code",
        "colab": {}
      },
      "source": [
        "class1=train.loc[train[\"class\"]==1]\n",
        "class2=train.loc[train[\"class\"]==2]"
      ],
      "execution_count": null,
      "outputs": []
    },
    {
      "cell_type": "code",
      "metadata": {
        "cell_id": "9c47331a-9c48-4ae8-872c-36bcded13910",
        "id": "ouHI1rML1Vqi",
        "colab_type": "code",
        "colab": {},
        "outputId": "f0e997d7-397f-4549-fe18-dcd2e08a2955"
      },
      "source": [
        "train[\"class\"].value_counts()"
      ],
      "execution_count": null,
      "outputs": [
        {
          "output_type": "execute_result",
          "data": {
            "text/plain": [
              "1    887\n",
              "2    471\n",
              "Name: class, dtype: int64"
            ]
          },
          "metadata": {
            "tags": []
          },
          "execution_count": 8
        }
      ]
    },
    {
      "cell_type": "code",
      "metadata": {
        "cell_id": "cbd21511-70e5-4629-bab6-a3929e8dcf7f",
        "id": "WU0fkjRk1Vqk",
        "colab_type": "code",
        "colab": {},
        "outputId": "9a10e460-97ec-49b5-98f1-bbcf59279c75"
      },
      "source": [
        "train[\"max_luminosity\"].hist(bins=50);\n",
        "print(f'Skew : {train[\"max_luminosity\"].skew()}')\n",
        "print(f'Kurtosis : {train[\"max_luminosity\"].kurtosis()}')"
      ],
      "execution_count": null,
      "outputs": [
        {
          "output_type": "execute_result",
          "data": {
            "text/plain": [
              "<matplotlib.axes._subplots.AxesSubplot at 0x1bfba4d9788>"
            ]
          },
          "metadata": {
            "tags": []
          },
          "execution_count": 46
        },
        {
          "output_type": "stream",
          "text": [
            "Skew : 1.2660266921078014\n",
            "Kurtosis : 6.009707701418586\n"
          ],
          "name": "stdout"
        },
        {
          "output_type": "display_data",
          "data": {
            "image/png": "[encoded data removed]",
            "text/plain": [
              "<Figure size 432x288 with 1 Axes>"
            ]
          },
          "metadata": {
            "tags": [],
            "needs_background": "light"
          }
        }
      ]
    },
    {
      "cell_type": "code",
      "metadata": {
        "cell_id": "f8bdb00b-e0f5-4ae1-b16e-ce5b9f2da058",
        "id": "hlryz2xy1Vqn",
        "colab_type": "code",
        "colab": {},
        "outputId": "01a45188-6e72-4ad8-f36b-3685c3b8ce19"
      },
      "source": [
        "plt.hist(np.log(train[\"max_luminosity\"]), bins=50);\n",
        "print(f'Skew : {np.log(train[\"max_luminosity\"]).skew()}');"
      ],
      "execution_count": null,
      "outputs": [
        {
          "output_type": "stream",
          "text": [
            "Skew : 0.08469729350101923\n"
          ],
          "name": "stdout"
        },
        {
          "output_type": "display_data",
          "data": {
            "image/png": "[encoded data removed]",
            "text/plain": [
              "<Figure size 432x288 with 1 Axes>"
            ]
          },
          "metadata": {
            "tags": [],
            "needs_background": "light"
          }
        }
      ]
    },
    {
      "cell_type": "code",
      "metadata": {
        "cell_id": "4332e243-0068-4bb8-82df-14cdba8bf0e0",
        "id": "vq5r0zz01Vqq",
        "colab_type": "code",
        "colab": {},
        "outputId": "7a21efaf-85e9-49bf-9242-5d23d6b4fb59"
      },
      "source": [
        "sns.violinplot(y=\"max_luminosity\",data=train, x=\"class\")"
      ],
      "execution_count": null,
      "outputs": [
        {
          "output_type": "execute_result",
          "data": {
            "text/plain": [
              "<matplotlib.axes._subplots.AxesSubplot at 0x1bfba36fe48>"
            ]
          },
          "metadata": {
            "tags": []
          },
          "execution_count": 10
        },
        {
          "output_type": "display_data",
          "data": {
            "image/png": "[encoded data removed]",
            "text/plain": [
              "<Figure size 432x288 with 1 Axes>"
            ]
          },
          "metadata": {
            "tags": [],
            "needs_background": "light"
          }
        }
      ]
    },
    {
      "cell_type": "code",
      "metadata": {
        "cell_id": "c9b1b962-e2c9-468c-a9fd-ccf6f9c49592",
        "id": "y686o78t1Vqs",
        "colab_type": "code",
        "colab": {},
        "outputId": "3b39a04b-c721-444a-b76e-e1e128a190cf"
      },
      "source": [
        "train[\"thickness\"].hist(bins=50)"
      ],
      "execution_count": null,
      "outputs": [
        {
          "output_type": "execute_result",
          "data": {
            "text/plain": [
              "<matplotlib.axes._subplots.AxesSubplot at 0x1bfba42e688>"
            ]
          },
          "metadata": {
            "tags": []
          },
          "execution_count": 11
        },
        {
          "output_type": "display_data",
          "data": {
            "image/png": "[encoded data removed]",
            "text/plain": [
              "<Figure size 432x288 with 1 Axes>"
            ]
          },
          "metadata": {
            "tags": [],
            "needs_background": "light"
          }
        }
      ]
    },
    {
      "cell_type": "code",
      "metadata": {
        "cell_id": "09a9cc7d-75c4-426b-9737-53a2ce5a273d",
        "id": "R5j29Cjn1Vqw",
        "colab_type": "code",
        "colab": {},
        "outputId": "fd08b23e-4632-4a9d-97c0-623fbb628307"
      },
      "source": [
        "sns.violinplot(y=\"thickness\",data=train, x=\"class\")"
      ],
      "execution_count": null,
      "outputs": [
        {
          "output_type": "execute_result",
          "data": {
            "text/plain": [
              "<matplotlib.axes._subplots.AxesSubplot at 0x1bfba541748>"
            ]
          },
          "metadata": {
            "tags": []
          },
          "execution_count": 12
        },
        {
          "output_type": "display_data",
          "data": {
            "image/png": "[encoded data removed]",
            "text/plain": [
              "<Figure size 432x288 with 1 Axes>"
            ]
          },
          "metadata": {
            "tags": [],
            "needs_background": "light"
          }
        }
      ]
    },
    {
      "cell_type": "code",
      "metadata": {
        "cell_id": "32d489e1-cef4-4670-b145-31391a85be94",
        "id": "JzLQNTV11Vqz",
        "colab_type": "code",
        "colab": {},
        "outputId": "c57f080c-c247-4f59-ed8b-3ba63b23e861"
      },
      "source": [
        "train[\"pixel_area\"].hist(bins=50)"
      ],
      "execution_count": null,
      "outputs": [
        {
          "output_type": "execute_result",
          "data": {
            "text/plain": [
              "<matplotlib.axes._subplots.AxesSubplot at 0x1bfba59af88>"
            ]
          },
          "metadata": {
            "tags": []
          },
          "execution_count": 13
        },
        {
          "output_type": "display_data",
          "data": {
            "image/png": "[encoded data removed]",
            "text/plain": [
              "<Figure size 432x288 with 1 Axes>"
            ]
          },
          "metadata": {
            "tags": [],
            "needs_background": "light"
          }
        }
      ]
    },
    {
      "cell_type": "code",
      "metadata": {
        "cell_id": "b91792f7-7064-4cce-a418-f2da47c59e5f",
        "id": "T_rJhOsg1Vq1",
        "colab_type": "code",
        "colab": {},
        "outputId": "8d937938-f879-4afb-fe08-b58d0273f6de"
      },
      "source": [
        "np.log(train[\"pixel_area\"]).hist(bins=50)"
      ],
      "execution_count": null,
      "outputs": [
        {
          "output_type": "execute_result",
          "data": {
            "text/plain": [
              "<matplotlib.axes._subplots.AxesSubplot at 0x1bfbee840c8>"
            ]
          },
          "metadata": {
            "tags": []
          },
          "execution_count": 85
        },
        {
          "output_type": "display_data",
          "data": {
            "image/png": "[encoded data removed]",
            "text/plain": [
              "<Figure size 432x288 with 1 Axes>"
            ]
          },
          "metadata": {
            "tags": [],
            "needs_background": "light"
          }
        }
      ]
    },
    {
      "cell_type": "code",
      "metadata": {
        "cell_id": "34606336-1f5e-4add-9548-60491ae4aec8",
        "id": "HSlrd6yF1Vq4",
        "colab_type": "code",
        "colab": {},
        "outputId": "7f219f5c-1992-4c12-c7fa-e5e3e3638cda"
      },
      "source": [
        "plt.hist(train[\"pixel_area\"], 50, density=True, histtype='step',cumulative=True);"
      ],
      "execution_count": null,
      "outputs": [
        {
          "output_type": "display_data",
          "data": {
            "image/png": "[encoded data removed]",
            "text/plain": [
              "<Figure size 432x288 with 1 Axes>"
            ]
          },
          "metadata": {
            "tags": [],
            "needs_background": "light"
          }
        }
      ]
    },
    {
      "cell_type": "code",
      "metadata": {
        "cell_id": "4e973003-8972-46c5-b40e-50ea36e9d165",
        "id": "7HeO1LDH1Vq6",
        "colab_type": "code",
        "colab": {},
        "outputId": "edabb4a0-b410-4a4a-a4d9-7384733c80cc"
      },
      "source": [
        "train.loc[train[\"pixel_area\"]>20000].describe()  "
      ],
      "execution_count": null,
      "outputs": [
        {
          "output_type": "execute_result",
          "data": {
            "text/html": [
              "<div>\n",
              "<style scoped>\n",
              "    .dataframe tbody tr th:only-of-type {\n",
              "        vertical-align: middle;\n",
              "    }\n",
              "\n",
              "    .dataframe tbody tr th {\n",
              "        vertical-align: top;\n",
              "    }\n",
              "\n",
              "    .dataframe thead th {\n",
              "        text-align: right;\n",
              "    }\n",
              "</style>\n",
              "<table border=\"1\" class=\"dataframe\">\n",
              "  <thead>\n",
              "    <tr style=\"text-align: right;\">\n",
              "      <th></th>\n",
              "      <th>grade_A_Component_1</th>\n",
              "      <th>grade_A_Component_2</th>\n",
              "      <th>max_luminosity</th>\n",
              "      <th>thickness</th>\n",
              "      <th>xmin</th>\n",
              "      <th>xmax</th>\n",
              "      <th>ymin</th>\n",
              "      <th>ymax</th>\n",
              "      <th>pixel_area</th>\n",
              "      <th>log_area</th>\n",
              "      <th>x_component_1</th>\n",
              "      <th>x_component_2</th>\n",
              "      <th>x_component_3</th>\n",
              "      <th>x_component_4</th>\n",
              "      <th>x_component_5</th>\n",
              "      <th>class</th>\n",
              "    </tr>\n",
              "  </thead>\n",
              "  <tbody>\n",
              "    <tr>\n",
              "      <th>count</th>\n",
              "      <td>8.0</td>\n",
              "      <td>8.0</td>\n",
              "      <td>8.000000</td>\n",
              "      <td>8.000000</td>\n",
              "      <td>8.000000</td>\n",
              "      <td>8.000000</td>\n",
              "      <td>8.000000e+00</td>\n",
              "      <td>8.000000e+00</td>\n",
              "      <td>8.000000</td>\n",
              "      <td>8.000000</td>\n",
              "      <td>8.0</td>\n",
              "      <td>8.0</td>\n",
              "      <td>8.000000</td>\n",
              "      <td>8.0</td>\n",
              "      <td>8.0</td>\n",
              "      <td>8.000000</td>\n",
              "    </tr>\n",
              "    <tr>\n",
              "      <th>mean</th>\n",
              "      <td>0.0</td>\n",
              "      <td>1.0</td>\n",
              "      <td>153.250000</td>\n",
              "      <td>38.500000</td>\n",
              "      <td>5.875000</td>\n",
              "      <td>319.125000</td>\n",
              "      <td>6.325196e+05</td>\n",
              "      <td>6.329789e+05</td>\n",
              "      <td>24788.875000</td>\n",
              "      <td>24789.448257</td>\n",
              "      <td>0.0</td>\n",
              "      <td>0.0</td>\n",
              "      <td>0.875000</td>\n",
              "      <td>0.0</td>\n",
              "      <td>0.0</td>\n",
              "      <td>1.125000</td>\n",
              "    </tr>\n",
              "    <tr>\n",
              "      <th>std</th>\n",
              "      <td>0.0</td>\n",
              "      <td>0.0</td>\n",
              "      <td>8.241879</td>\n",
              "      <td>3.070598</td>\n",
              "      <td>6.243568</td>\n",
              "      <td>222.752545</td>\n",
              "      <td>6.685811e+05</td>\n",
              "      <td>6.686643e+05</td>\n",
              "      <td>5488.647672</td>\n",
              "      <td>5488.746230</td>\n",
              "      <td>0.0</td>\n",
              "      <td>0.0</td>\n",
              "      <td>0.353553</td>\n",
              "      <td>0.0</td>\n",
              "      <td>0.0</td>\n",
              "      <td>0.353553</td>\n",
              "    </tr>\n",
              "    <tr>\n",
              "      <th>min</th>\n",
              "      <td>0.0</td>\n",
              "      <td>1.0</td>\n",
              "      <td>143.000000</td>\n",
              "      <td>35.000000</td>\n",
              "      <td>0.000000</td>\n",
              "      <td>151.000000</td>\n",
              "      <td>3.075550e+05</td>\n",
              "      <td>3.096670e+05</td>\n",
              "      <td>20752.000000</td>\n",
              "      <td>20752.149798</td>\n",
              "      <td>0.0</td>\n",
              "      <td>0.0</td>\n",
              "      <td>0.000000</td>\n",
              "      <td>0.0</td>\n",
              "      <td>0.0</td>\n",
              "      <td>1.000000</td>\n",
              "    </tr>\n",
              "    <tr>\n",
              "      <th>25%</th>\n",
              "      <td>0.0</td>\n",
              "      <td>1.0</td>\n",
              "      <td>145.250000</td>\n",
              "      <td>35.750000</td>\n",
              "      <td>2.500000</td>\n",
              "      <td>223.750000</td>\n",
              "      <td>3.418710e+05</td>\n",
              "      <td>3.419968e+05</td>\n",
              "      <td>21175.250000</td>\n",
              "      <td>21175.653058</td>\n",
              "      <td>0.0</td>\n",
              "      <td>0.0</td>\n",
              "      <td>1.000000</td>\n",
              "      <td>0.0</td>\n",
              "      <td>0.0</td>\n",
              "      <td>1.000000</td>\n",
              "    </tr>\n",
              "    <tr>\n",
              "      <th>50%</th>\n",
              "      <td>0.0</td>\n",
              "      <td>1.0</td>\n",
              "      <td>156.000000</td>\n",
              "      <td>38.500000</td>\n",
              "      <td>5.000000</td>\n",
              "      <td>226.500000</td>\n",
              "      <td>4.132280e+05</td>\n",
              "      <td>4.134760e+05</td>\n",
              "      <td>23373.500000</td>\n",
              "      <td>23374.240741</td>\n",
              "      <td>0.0</td>\n",
              "      <td>0.0</td>\n",
              "      <td>1.000000</td>\n",
              "      <td>0.0</td>\n",
              "      <td>0.0</td>\n",
              "      <td>1.000000</td>\n",
              "    </tr>\n",
              "    <tr>\n",
              "      <th>75%</th>\n",
              "      <td>0.0</td>\n",
              "      <td>1.0</td>\n",
              "      <td>157.750000</td>\n",
              "      <td>41.250000</td>\n",
              "      <td>5.750000</td>\n",
              "      <td>283.500000</td>\n",
              "      <td>4.759692e+05</td>\n",
              "      <td>4.769512e+05</td>\n",
              "      <td>25597.250000</td>\n",
              "      <td>25598.000504</td>\n",
              "      <td>0.0</td>\n",
              "      <td>0.0</td>\n",
              "      <td>1.000000</td>\n",
              "      <td>0.0</td>\n",
              "      <td>0.0</td>\n",
              "      <td>1.000000</td>\n",
              "    </tr>\n",
              "    <tr>\n",
              "      <th>max</th>\n",
              "      <td>0.0</td>\n",
              "      <td>1.0</td>\n",
              "      <td>163.000000</td>\n",
              "      <td>42.000000</td>\n",
              "      <td>20.000000</td>\n",
              "      <td>830.000000</td>\n",
              "      <td>2.278939e+06</td>\n",
              "      <td>2.279698e+06</td>\n",
              "      <td>37392.000000</td>\n",
              "      <td>37392.672970</td>\n",
              "      <td>0.0</td>\n",
              "      <td>0.0</td>\n",
              "      <td>1.000000</td>\n",
              "      <td>0.0</td>\n",
              "      <td>0.0</td>\n",
              "      <td>2.000000</td>\n",
              "    </tr>\n",
              "  </tbody>\n",
              "</table>\n",
              "</div>"
            ],
            "text/plain": [
              "       grade_A_Component_1  grade_A_Component_2  max_luminosity  thickness  \\\n",
              "count                  8.0                  8.0        8.000000   8.000000   \n",
              "mean                   0.0                  1.0      153.250000  38.500000   \n",
              "std                    0.0                  0.0        8.241879   3.070598   \n",
              "min                    0.0                  1.0      143.000000  35.000000   \n",
              "25%                    0.0                  1.0      145.250000  35.750000   \n",
              "50%                    0.0                  1.0      156.000000  38.500000   \n",
              "75%                    0.0                  1.0      157.750000  41.250000   \n",
              "max                    0.0                  1.0      163.000000  42.000000   \n",
              "\n",
              "            xmin        xmax          ymin          ymax    pixel_area  \\\n",
              "count   8.000000    8.000000  8.000000e+00  8.000000e+00      8.000000   \n",
              "mean    5.875000  319.125000  6.325196e+05  6.329789e+05  24788.875000   \n",
              "std     6.243568  222.752545  6.685811e+05  6.686643e+05   5488.647672   \n",
              "min     0.000000  151.000000  3.075550e+05  3.096670e+05  20752.000000   \n",
              "25%     2.500000  223.750000  3.418710e+05  3.419968e+05  21175.250000   \n",
              "50%     5.000000  226.500000  4.132280e+05  4.134760e+05  23373.500000   \n",
              "75%     5.750000  283.500000  4.759692e+05  4.769512e+05  25597.250000   \n",
              "max    20.000000  830.000000  2.278939e+06  2.279698e+06  37392.000000   \n",
              "\n",
              "           log_area  x_component_1  x_component_2  x_component_3  \\\n",
              "count      8.000000            8.0            8.0       8.000000   \n",
              "mean   24789.448257            0.0            0.0       0.875000   \n",
              "std     5488.746230            0.0            0.0       0.353553   \n",
              "min    20752.149798            0.0            0.0       0.000000   \n",
              "25%    21175.653058            0.0            0.0       1.000000   \n",
              "50%    23374.240741            0.0            0.0       1.000000   \n",
              "75%    25598.000504            0.0            0.0       1.000000   \n",
              "max    37392.672970            0.0            0.0       1.000000   \n",
              "\n",
              "       x_component_4  x_component_5     class  \n",
              "count            8.0            8.0  8.000000  \n",
              "mean             0.0            0.0  1.125000  \n",
              "std              0.0            0.0  0.353553  \n",
              "min              0.0            0.0  1.000000  \n",
              "25%              0.0            0.0  1.000000  \n",
              "50%              0.0            0.0  1.000000  \n",
              "75%              0.0            0.0  1.000000  \n",
              "max              0.0            0.0  2.000000  "
            ]
          },
          "metadata": {
            "tags": []
          },
          "execution_count": 35
        }
      ]
    },
    {
      "cell_type": "code",
      "metadata": {
        "cell_id": "4f7cca10-ec20-4a58-9175-e160900ea4ed",
        "id": "uRXTQBhb1Vq9",
        "colab_type": "code",
        "colab": {},
        "outputId": "0bb8b3ea-8634-4ac3-e662-9096114199eb"
      },
      "source": [
        "sns.violinplot(y=\"pixel_area\",data=train, x=\"class\")"
      ],
      "execution_count": null,
      "outputs": [
        {
          "output_type": "execute_result",
          "data": {
            "text/plain": [
              "<matplotlib.axes._subplots.AxesSubplot at 0x1bfba698d88>"
            ]
          },
          "metadata": {
            "tags": []
          },
          "execution_count": 14
        },
        {
          "output_type": "display_data",
          "data": {
            "image/png": "[encoded data removed]",
            "text/plain": [
              "<Figure size 432x288 with 1 Axes>"
            ]
          },
          "metadata": {
            "tags": [],
            "needs_background": "light"
          }
        }
      ]
    },
    {
      "cell_type": "code",
      "metadata": {
        "cell_id": "fe484240-f7ec-4bfe-81db-49e0c44564d6",
        "id": "x_E5wmvO1VrA",
        "colab_type": "code",
        "colab": {},
        "outputId": "b3567479-fb20-4e94-dfb3-08df38bd95b8"
      },
      "source": [
        "%%time\n",
        "\n",
        "cols=[\"xmin\"\t,\"xmax\"\t,\"ymin\"\t,\"ymax\"\t]\n",
        "\n",
        "fig, axes = plt.subplots(2, 2)\n",
        "cnt=0\n",
        "for row in axes:\n",
        "    for col in row:\n",
        "#         col.hist(df.iloc[:,cnt])\n",
        "#         col.set_title(cols[cnt])\n",
        "        sns.distplot(train[cols[cnt]] ,ax=col)\n",
        "        cnt=cnt+1\n",
        "\n",
        "plt.tight_layout()"
      ],
      "execution_count": null,
      "outputs": [
        {
          "output_type": "stream",
          "text": [
            "Wall time: 347 ms\n"
          ],
          "name": "stdout"
        },
        {
          "output_type": "display_data",
          "data": {
            "image/png": "[encoded data removed]",
            "text/plain": [
              "<Figure size 432x288 with 4 Axes>"
            ]
          },
          "metadata": {
            "tags": [],
            "needs_background": "light"
          }
        }
      ]
    },
    {
      "cell_type": "code",
      "metadata": {
        "cell_id": "e12e3105-d39a-4f76-95ef-1a2e2dad9e42",
        "id": "eKB2juXP1VrC",
        "colab_type": "code",
        "colab": {}
      },
      "source": [
        "tmpArea=abs(train[\"xmax\"]-train[\"xmin\"]) * abs(train[\"ymax\"]-train[\"ymin\"])"
      ],
      "execution_count": null,
      "outputs": []
    },
    {
      "cell_type": "code",
      "metadata": {
        "cell_id": "a305bf60-526f-49ea-b0ce-cfe9123ad73d",
        "id": "gaqxzUC51VrE",
        "colab_type": "code",
        "colab": {},
        "outputId": "f5bfd63a-1421-49df-d116-2ce65982fdc4"
      },
      "source": [
        "tmpArea.describe()"
      ],
      "execution_count": null,
      "outputs": [
        {
          "output_type": "execute_result",
          "data": {
            "text/plain": [
              "count    1.358000e+03\n",
              "mean     3.198133e+04\n",
              "std      8.714268e+04\n",
              "min      0.000000e+00\n",
              "25%      4.011000e+03\n",
              "50%      9.195500e+03\n",
              "75%      2.090000e+04\n",
              "max      1.635686e+06\n",
              "dtype: float64"
            ]
          },
          "metadata": {
            "tags": []
          },
          "execution_count": 75
        }
      ]
    },
    {
      "cell_type": "code",
      "metadata": {
        "cell_id": "7e61792c-68b0-4124-bc72-2e0eaa204d14",
        "id": "WB3LDU4D1VrH",
        "colab_type": "code",
        "colab": {},
        "outputId": "ad5831fd-7626-4154-9b64-a177c23c007a"
      },
      "source": [
        "tmpArea.loc[tmpArea ==0]"
      ],
      "execution_count": null,
      "outputs": [
        {
          "output_type": "execute_result",
          "data": {
            "text/plain": [
              "144    0\n",
              "464    0\n",
              "dtype: int64"
            ]
          },
          "metadata": {
            "tags": []
          },
          "execution_count": 71
        }
      ]
    },
    {
      "cell_type": "code",
      "metadata": {
        "cell_id": "48775287-9d39-4ace-8e68-ed1855cd23b7",
        "id": "CkjRlnbH1VrJ",
        "colab_type": "code",
        "colab": {},
        "outputId": "aa6b1013-b187-4d82-eee7-35e97e9f990d"
      },
      "source": [
        "train.iloc[464,:]"
      ],
      "execution_count": null,
      "outputs": [
        {
          "output_type": "execute_result",
          "data": {
            "text/plain": [
              "grade_A_Component_1    1.000000e+00\n",
              "grade_A_Component_2    0.000000e+00\n",
              "max_luminosity         1.360000e+02\n",
              "thickness              7.500000e+01\n",
              "xmin                   7.590000e+02\n",
              "xmax                   7.710000e+02\n",
              "ymin                   3.897375e+06\n",
              "ymax                   3.897375e+06\n",
              "pixel_area             2.060000e+02\n",
              "log_area               2.063788e+02\n",
              "x_component_1          0.000000e+00\n",
              "x_component_2          0.000000e+00\n",
              "x_component_3          0.000000e+00\n",
              "x_component_4          0.000000e+00\n",
              "x_component_5          0.000000e+00\n",
              "class                  1.000000e+00\n",
              "Name: 464, dtype: float64"
            ]
          },
          "metadata": {
            "tags": []
          },
          "execution_count": 63
        }
      ]
    },
    {
      "cell_type": "markdown",
      "metadata": {
        "cell_id": "c445c94c-f1eb-4640-a1ce-ef3efb728aef",
        "id": "nj2nHAZ71VrL",
        "colab_type": "text"
      },
      "source": [
        "Need to drop rows with \"area\" == 0"
      ]
    },
    {
      "cell_type": "code",
      "metadata": {
        "cell_id": "1bb49331-d5f1-47a8-bcd7-7c50d45632ec",
        "id": "10qcRusE1VrM",
        "colab_type": "code",
        "colab": {},
        "outputId": "22b1b6c5-c56f-41fd-f7cf-f56e26b4616d"
      },
      "source": [
        "tmpArea=tmpArea.loc[tmpArea > 0]\n",
        "tmpArea.hist()"
      ],
      "execution_count": null,
      "outputs": [
        {
          "output_type": "execute_result",
          "data": {
            "text/plain": [
              "<matplotlib.axes._subplots.AxesSubplot at 0x1bfbda3fdc8>"
            ]
          },
          "metadata": {
            "tags": []
          },
          "execution_count": 78
        },
        {
          "output_type": "display_data",
          "data": {
            "image/png": "[encoded data removed]",
            "text/plain": [
              "<Figure size 432x288 with 1 Axes>"
            ]
          },
          "metadata": {
            "tags": [],
            "needs_background": "light"
          }
        }
      ]
    },
    {
      "cell_type": "code",
      "metadata": {
        "cell_id": "139abee4-9b78-4b3a-b22d-9862dd24671f",
        "id": "-f1IFcji1VrP",
        "colab_type": "code",
        "colab": {},
        "outputId": "7367a6ed-d3b4-41d7-eb20-06a73bc1f2e4"
      },
      "source": [
        "np.log(tmpArea).hist()"
      ],
      "execution_count": null,
      "outputs": [
        {
          "output_type": "execute_result",
          "data": {
            "text/plain": [
              "<matplotlib.axes._subplots.AxesSubplot at 0x1bfbd992b88>"
            ]
          },
          "metadata": {
            "tags": []
          },
          "execution_count": 77
        },
        {
          "output_type": "display_data",
          "data": {
            "image/png": "[encoded data removed]",
            "text/plain": [
              "<Figure size 432x288 with 1 Axes>"
            ]
          },
          "metadata": {
            "tags": [],
            "needs_background": "light"
          }
        }
      ]
    },
    {
      "cell_type": "code",
      "metadata": {
        "cell_id": "64a7052b-ba13-4187-9124-9f55aa737c46",
        "id": "CF2OryyE1VrS",
        "colab_type": "code",
        "colab": {},
        "outputId": "c0b0a860-428d-4923-ea04-22cc50bfbb4d"
      },
      "source": [
        "tmpVol=abs(train[\"xmax\"]-train[\"xmin\"]) * abs(train[\"ymax\"]-train[\"ymin\"]) * train[\"thickness\"]\n",
        "tmpVol = tmpVol.loc[tmpVol > 0]\n",
        "np.log(tmpVol).hist()"
      ],
      "execution_count": null,
      "outputs": [
        {
          "output_type": "execute_result",
          "data": {
            "text/plain": [
              "<matplotlib.axes._subplots.AxesSubplot at 0x1bfbe28af88>"
            ]
          },
          "metadata": {
            "tags": []
          },
          "execution_count": 82
        },
        {
          "output_type": "display_data",
          "data": {
            "image/png": "[encoded data removed]",
            "text/plain": [
              "<Figure size 432x288 with 1 Axes>"
            ]
          },
          "metadata": {
            "tags": [],
            "needs_background": "light"
          }
        }
      ]
    },
    {
      "cell_type": "code",
      "metadata": {
        "cell_id": "a5890d97-a034-44fb-8657-5a24f5c82232",
        "id": "dAZH_uoh1VrU",
        "colab_type": "code",
        "colab": {},
        "outputId": "9a0b44f1-4f3e-4a14-db26-cb7330da288b"
      },
      "source": [
        "%%time\n",
        "\n",
        "cols=[\"x_component_1\",\"x_component_2\",\"x_component_3\",\"x_component_4\",\"x_component_5\",\"x_component_5\"]\n",
        "\n",
        "fig, axes = plt.subplots(2, 3)\n",
        "cnt=0\n",
        "for row in axes:\n",
        "    for col in row:\n",
        "#         col.hist(df.iloc[:,cnt])\n",
        "#         col.set_title(cols[cnt])\n",
        "        sns.violinplot(y=cols[cnt],data=train, x=\"class\" ,ax=col)\n",
        "        cnt=cnt+1\n",
        "\n",
        "plt.tight_layout()"
      ],
      "execution_count": null,
      "outputs": [
        {
          "output_type": "stream",
          "text": [
            "Wall time: 279 ms\n"
          ],
          "name": "stdout"
        },
        {
          "output_type": "display_data",
          "data": {
            "image/png": "[encoded data removed]",
            "text/plain": [
              "<Figure size 432x288 with 6 Axes>"
            ]
          },
          "metadata": {
            "tags": [],
            "needs_background": "light"
          }
        }
      ]
    },
    {
      "cell_type": "code",
      "metadata": {
        "cell_id": "70a575e9-bf1c-4807-b62b-b4f20948c9d8",
        "id": "Ok_PMJwN1VrW",
        "colab_type": "code",
        "colab": {},
        "outputId": "46621fb7-3d74-4957-a35d-c776f86d1090"
      },
      "source": [
        "%%time\n",
        "\n",
        "cols=[\"x_component_1\",\"x_component_2\",\"x_component_3\",\"x_component_4\",\"x_component_5\",\"x_component_5\"]\n",
        "\n",
        "fig, axes = plt.subplots(2, 3)\n",
        "cnt=0\n",
        "for row in axes:\n",
        "    for col in row:\n",
        "        sns.boxplot(y=cols[cnt],data=train, x=\"class\" ,ax=col)\n",
        "        cnt=cnt+1\n",
        "        \n",
        "plt.tight_layout()"
      ],
      "execution_count": null,
      "outputs": [
        {
          "output_type": "stream",
          "text": [
            "Wall time: 284 ms\n"
          ],
          "name": "stdout"
        },
        {
          "output_type": "display_data",
          "data": {
            "image/png": "[encoded data removed]",
            "text/plain": [
              "<Figure size 432x288 with 6 Axes>"
            ]
          },
          "metadata": {
            "tags": [],
            "needs_background": "light"
          }
        }
      ]
    },
    {
      "cell_type": "markdown",
      "metadata": {
        "cell_id": "10155bf3-4b7b-4678-af99-81b12f583c78",
        "id": "KKkMmqCD1VrY",
        "colab_type": "text"
      },
      "source": [
        "It is clear from above plot that \"x_component_3\" can be used to separate class 1 and class 2"
      ]
    },
    {
      "cell_type": "markdown",
      "metadata": {
        "cell_id": "5c0e05ff-3a9c-47cc-80c6-a0a8519d1f03",
        "id": "2A3sMSBe1VrZ",
        "colab_type": "text"
      },
      "source": [
        "## Feature Engineering"
      ]
    },
    {
      "cell_type": "code",
      "metadata": {
        "cell_id": "fda0abbb-bcb2-4732-bec7-1492df817dec",
        "id": "4LokcJ7a1Vra",
        "colab_type": "code",
        "colab": {}
      },
      "source": [
        "def features(data):\n",
        "    data[\"log_max_luminosity\"]=np.log(data[\"max_luminosity\"])\n",
        "    data[\"area\"] = abs(data[\"xmax\"]-data[\"xmin\"]) * abs(data[\"ymax\"]-data[\"ymin\"])\n",
        "    data = data.loc[data[\"area\"]>0].copy() ##to hide \"Try using .loc[row_indexer,col_indexer] = value instead\" error\n",
        "    data[\"volume\"]=data[\"area\"] * data[\"thickness\"]\n",
        "    \n",
        "    data[\"log_area\"] = np.log(data[\"area\"])\n",
        "    data[\"log_volume\"] = np.log(data[\"volume\"])\n",
        "    data[\"log_pixel_area\"] = np.log(data[\"pixel_area\"])\n",
        "    \n",
        "    data=data.drop([\"area\",\"volume\",\"max_luminosity\",\"xmax\",\"xmin\",\"ymax\",\"ymin\",\"pixel_area\",\"grade_A_Component_2\"],axis=1)\n",
        "    return data\n",
        "    "
      ],
      "execution_count": 9,
      "outputs": []
    },
    {
      "cell_type": "code",
      "metadata": {
        "cell_id": "1afea553-7c99-4906-9d64-aa73796fc748",
        "id": "7-4fyimY1Vrd",
        "colab_type": "code",
        "colab": {
          "base_uri": "https://localhost:8080/",
          "height": 224
        },
        "outputId": "b5e93292-b40e-4ff7-b81b-b4f33b8bbf53"
      },
      "source": [
        "X=features(train)\n",
        "X.head()"
      ],
      "execution_count": 10,
      "outputs": [
        {
          "output_type": "execute_result",
          "data": {
            "text/html": [
              "<div>\n",
              "<style scoped>\n",
              "    .dataframe tbody tr th:only-of-type {\n",
              "        vertical-align: middle;\n",
              "    }\n",
              "\n",
              "    .dataframe tbody tr th {\n",
              "        vertical-align: top;\n",
              "    }\n",
              "\n",
              "    .dataframe thead th {\n",
              "        text-align: right;\n",
              "    }\n",
              "</style>\n",
              "<table border=\"1\" class=\"dataframe\">\n",
              "  <thead>\n",
              "    <tr style=\"text-align: right;\">\n",
              "      <th></th>\n",
              "      <th>grade_A_Component_1</th>\n",
              "      <th>thickness</th>\n",
              "      <th>log_area</th>\n",
              "      <th>x_component_1</th>\n",
              "      <th>x_component_2</th>\n",
              "      <th>x_component_3</th>\n",
              "      <th>x_component_4</th>\n",
              "      <th>x_component_5</th>\n",
              "      <th>class</th>\n",
              "      <th>log_max_luminosity</th>\n",
              "      <th>log_volume</th>\n",
              "      <th>log_pixel_area</th>\n",
              "    </tr>\n",
              "  </thead>\n",
              "  <tbody>\n",
              "    <tr>\n",
              "      <th>0</th>\n",
              "      <td>0</td>\n",
              "      <td>36</td>\n",
              "      <td>8.005033</td>\n",
              "      <td>0</td>\n",
              "      <td>0</td>\n",
              "      <td>1</td>\n",
              "      <td>0</td>\n",
              "      <td>0</td>\n",
              "      <td>1</td>\n",
              "      <td>5.010635</td>\n",
              "      <td>11.588552</td>\n",
              "      <td>6.084499</td>\n",
              "    </tr>\n",
              "    <tr>\n",
              "      <th>1</th>\n",
              "      <td>1</td>\n",
              "      <td>55</td>\n",
              "      <td>8.418036</td>\n",
              "      <td>1</td>\n",
              "      <td>0</td>\n",
              "      <td>0</td>\n",
              "      <td>0</td>\n",
              "      <td>0</td>\n",
              "      <td>1</td>\n",
              "      <td>4.897840</td>\n",
              "      <td>12.425369</td>\n",
              "      <td>5.796058</td>\n",
              "    </tr>\n",
              "    <tr>\n",
              "      <th>2</th>\n",
              "      <td>1</td>\n",
              "      <td>65</td>\n",
              "      <td>10.609354</td>\n",
              "      <td>0</td>\n",
              "      <td>0</td>\n",
              "      <td>0</td>\n",
              "      <td>0</td>\n",
              "      <td>0</td>\n",
              "      <td>2</td>\n",
              "      <td>4.905275</td>\n",
              "      <td>14.783741</td>\n",
              "      <td>5.703782</td>\n",
              "    </tr>\n",
              "    <tr>\n",
              "      <th>3</th>\n",
              "      <td>0</td>\n",
              "      <td>35</td>\n",
              "      <td>8.365440</td>\n",
              "      <td>0</td>\n",
              "      <td>0</td>\n",
              "      <td>1</td>\n",
              "      <td>0</td>\n",
              "      <td>0</td>\n",
              "      <td>1</td>\n",
              "      <td>4.812184</td>\n",
              "      <td>11.920788</td>\n",
              "      <td>8.825119</td>\n",
              "    </tr>\n",
              "    <tr>\n",
              "      <th>4</th>\n",
              "      <td>1</td>\n",
              "      <td>69</td>\n",
              "      <td>8.729074</td>\n",
              "      <td>0</td>\n",
              "      <td>0</td>\n",
              "      <td>0</td>\n",
              "      <td>0</td>\n",
              "      <td>0</td>\n",
              "      <td>2</td>\n",
              "      <td>4.927254</td>\n",
              "      <td>12.963180</td>\n",
              "      <td>5.525453</td>\n",
              "    </tr>\n",
              "  </tbody>\n",
              "</table>\n",
              "</div>"
            ],
            "text/plain": [
              "   grade_A_Component_1  thickness  ...  log_volume  log_pixel_area\n",
              "0                    0         36  ...   11.588552        6.084499\n",
              "1                    1         55  ...   12.425369        5.796058\n",
              "2                    1         65  ...   14.783741        5.703782\n",
              "3                    0         35  ...   11.920788        8.825119\n",
              "4                    1         69  ...   12.963180        5.525453\n",
              "\n",
              "[5 rows x 12 columns]"
            ]
          },
          "metadata": {
            "tags": []
          },
          "execution_count": 10
        }
      ]
    },
    {
      "cell_type": "code",
      "metadata": {
        "cell_id": "523b05b7-743a-4401-a3a1-b4226bf80a30",
        "id": "MDrc1bNr1Vrf",
        "colab_type": "code",
        "colab": {
          "base_uri": "https://localhost:8080/",
          "height": 609
        },
        "outputId": "72e4af5e-a15d-4fbe-dfa4-6b28633b8ef3"
      },
      "source": [
        "figsize(15,8)\n",
        "sns.heatmap(X.corr(),cmap=\"viridis\",annot=True)"
      ],
      "execution_count": 11,
      "outputs": [
        {
          "output_type": "execute_result",
          "data": {
            "text/plain": [
              "<matplotlib.axes._subplots.AxesSubplot at 0x7f31a6a50240>"
            ]
          },
          "metadata": {
            "tags": []
          },
          "execution_count": 11
        },
        {
          "output_type": "display_data",
          "data": {
            "image/png": "[encoded data removed]",
            "text/plain": [
              "<Figure size 1080x576 with 2 Axes>"
            ]
          },
          "metadata": {
            "tags": [],
            "needs_background": "light"
          }
        }
      ]
    },
    {
      "cell_type": "markdown",
      "metadata": {
        "cell_id": "b2ba944e-bd3a-4f55-a267-83e5182714b5",
        "id": "xyLn4PKd1Vrh",
        "colab_type": "text"
      },
      "source": [
        "## Modelling"
      ]
    },
    {
      "cell_type": "code",
      "metadata": {
        "cell_id": "7a20309f-4cb5-4b49-b8f1-253519b0dcca",
        "id": "hojiqsPY1Vri",
        "colab_type": "code",
        "colab": {}
      },
      "source": [
        "y_true = X['class'].values\n",
        "\n",
        "X_train, X_test, y_train, y_test = train_test_split(X, y_true, stratify=y_true, test_size=0.2)\n",
        "# Cross Validation Set\n",
        "# X_train_cv, X_test_cv, y_train_cv, y_test_cv = train_test_split(X_train, y_train, stratify=y_train, test_size=0.2)"
      ],
      "execution_count": 12,
      "outputs": []
    },
    {
      "cell_type": "code",
      "metadata": {
        "cell_id": "b4c25055-c626-49c0-9f93-fa02b8e68e5f",
        "id": "pyg2yidk1Vrm",
        "colab_type": "code",
        "colab": {
          "base_uri": "https://localhost:8080/",
          "height": 51
        },
        "outputId": "9d548084-276b-4f1d-d4db-7a7b2014c3e2"
      },
      "source": [
        "print('Number of points in train data:', X_train.shape[0])\n",
        "print('Number of points in test data:', X_test.shape[0])"
      ],
      "execution_count": 13,
      "outputs": [
        {
          "output_type": "stream",
          "text": [
            "Number of points in train data: 1084\n",
            "Number of points in test data: 272\n"
          ],
          "name": "stdout"
        }
      ]
    },
    {
      "cell_type": "code",
      "metadata": {
        "cell_id": "726962be-4cbf-4a00-99b0-895da9b88d1b",
        "id": "XNmD1Rl81Vrp",
        "colab_type": "code",
        "colab": {
          "base_uri": "https://localhost:8080/",
          "height": 119
        },
        "outputId": "66c57bca-e124-4dc9-f909-1db30a6b4ee6"
      },
      "source": [
        "\n",
        "train_class_distribution = X_train['class'].value_counts()\n",
        "test_class_distribution = X_test['class'].value_counts()\n",
        "\n",
        "sorted_yi = np.argsort(-train_class_distribution.values)\n",
        "\n",
        "for i in sorted_yi:\n",
        "    print('Number of data points in train_df class', i+1, ':',train_class_distribution.values[i], '(', np.round((train_class_distribution.values[i]/X_train.shape[0]*100), 3), '%)')\n",
        "\n",
        "    \n",
        "print('-'*80)\n",
        "\n",
        "sorted_yi = np.argsort(-test_class_distribution.values)\n",
        "for i in sorted_yi:\n",
        "    print('Number of data points in test_df class', i+1, ':',test_class_distribution.values[i], '(', np.round((test_class_distribution.values[i]/X_test.shape[0]*100), 3), '%)')\n",
        "\n",
        "print('-'*80)\n"
      ],
      "execution_count": 15,
      "outputs": [
        {
          "output_type": "stream",
          "text": [
            "Number of data points in train_df class 1 : 708 ( 65.314 %)\n",
            "Number of data points in train_df class 2 : 376 ( 34.686 %)\n",
            "--------------------------------------------------------------------------------\n",
            "Number of data points in test_df class 1 : 178 ( 65.441 %)\n",
            "Number of data points in test_df class 2 : 94 ( 34.559 %)\n",
            "--------------------------------------------------------------------------------\n"
          ],
          "name": "stdout"
        }
      ]
    },
    {
      "cell_type": "code",
      "metadata": {
        "cell_id": "9244072e-45aa-4b95-bb83-66dfd4ace3e2",
        "id": "96O9Kb421Vrt",
        "colab_type": "code",
        "colab": {},
        "outputId": "20727241-41fb-4468-9fc4-bab8cf9101dc"
      },
      "source": [
        "rand_probs=np.random.rand(1,2)\n",
        "rand_probs\n",
        "sum(sum(rand_probs))\n",
        "rand_probs/sum(sum(rand_probs))\n",
        "sum(sum(rand_probs/sum(sum(rand_probs))))\n",
        "# cv_predicted_y[i] = ((rand_probs/sum(sum(rand_probs)))[0])"
      ],
      "execution_count": null,
      "outputs": [
        {
          "output_type": "execute_result",
          "data": {
            "text/plain": [
              "array([[0.30052897, 0.39555626]])"
            ]
          },
          "metadata": {
            "tags": []
          },
          "execution_count": 148
        },
        {
          "output_type": "execute_result",
          "data": {
            "text/plain": [
              "0.6960852363964121"
            ]
          },
          "metadata": {
            "tags": []
          },
          "execution_count": 148
        },
        {
          "output_type": "execute_result",
          "data": {
            "text/plain": [
              "array([[0.43174163, 0.56825837]])"
            ]
          },
          "metadata": {
            "tags": []
          },
          "execution_count": 148
        },
        {
          "output_type": "execute_result",
          "data": {
            "text/plain": [
              "1.0"
            ]
          },
          "metadata": {
            "tags": []
          },
          "execution_count": 148
        }
      ]
    },
    {
      "cell_type": "code",
      "metadata": {
        "cell_id": "81dd074e-4c61-482d-9057-30e4ca555589",
        "id": "rh1qCIO_1Vrw",
        "colab_type": "code",
        "colab": {
          "base_uri": "https://localhost:8080/",
          "height": 51
        },
        "outputId": "cd62ba77-fbca-406e-be3a-1d132119b7cb"
      },
      "source": [
        "X_test_len = X_test.shape[0]\n",
        "X_train_len = X_train.shape[0]\n",
        "\n",
        "# we create a output array that has exactly same size as the CV data\n",
        "predicted_y = np.zeros((X_train_len,2))\n",
        "for i in range(X_train_len):\n",
        "    rand_probs = np.random.rand(1,2)\n",
        "    predicted_y[i] = ((rand_probs/sum(sum(rand_probs)))[0])\n",
        "print(\"Log loss on Train data using Random Model\",log_loss(y_train,predicted_y, eps=1e-15))\n",
        "\n",
        "\n",
        "# Test-Set error.\n",
        "#we create a output array that has exactly same as the test data\n",
        "test_predicted_y = np.zeros((X_test_len,2))\n",
        "for i in range(X_test_len):\n",
        "    rand_probs = np.random.rand(1,2)\n",
        "    test_predicted_y[i] = ((rand_probs/sum(sum(rand_probs)))[0])\n",
        "print(\"Log loss on Test Data using Random Model\",log_loss(y_test,test_predicted_y, eps=1e-15))"
      ],
      "execution_count": 18,
      "outputs": [
        {
          "output_type": "stream",
          "text": [
            "Log loss on Train data using Random Model 0.9019860054790326\n",
            "Log loss on Test Data using Random Model 0.9385700597786073\n"
          ],
          "name": "stdout"
        }
      ]
    },
    {
      "cell_type": "code",
      "metadata": {
        "cell_id": "c5327368-a1cb-496f-9f37-779a2a5a4894",
        "id": "u-5MdORT1Vry",
        "colab_type": "code",
        "colab": {
          "base_uri": "https://localhost:8080/",
          "height": 102
        },
        "outputId": "f4125bd9-b9dd-4837-cc58-9bf9fd1f5741"
      },
      "source": [
        "# dropping class column \n",
        "\n",
        "X_train.drop(\"class\",inplace=True,axis=1)\n",
        "X_test.drop(\"class\",inplace=True,axis=1)"
      ],
      "execution_count": 19,
      "outputs": [
        {
          "output_type": "stream",
          "text": [
            "/usr/local/lib/python3.6/dist-packages/pandas/core/frame.py:3997: SettingWithCopyWarning: \n",
            "A value is trying to be set on a copy of a slice from a DataFrame\n",
            "\n",
            "See the caveats in the documentation: https://pandas.pydata.org/pandas-docs/stable/user_guide/indexing.html#returning-a-view-versus-a-copy\n",
            "  errors=errors,\n"
          ],
          "name": "stderr"
        }
      ]
    },
    {
      "cell_type": "code",
      "metadata": {
        "cell_id": "425654e5-dad9-496a-a4ec-cd31bd6673b2",
        "id": "_c352Tkx1Vr0",
        "colab_type": "code",
        "colab": {}
      },
      "source": [
        "skf = StratifiedKFold(n_splits=10)"
      ],
      "execution_count": 20,
      "outputs": []
    },
    {
      "cell_type": "markdown",
      "metadata": {
        "cell_id": "87174f02-fba8-4259-bd41-6862a942661d",
        "id": "pwW1DJXB1Vr3",
        "colab_type": "text"
      },
      "source": [
        "### Naive Bayes"
      ]
    },
    {
      "cell_type": "code",
      "metadata": {
        "cell_id": "6f40a8cb-3063-4d90-9252-e8c5b9ebad71",
        "id": "o7xcoeAo1Vr3",
        "colab_type": "code",
        "colab": {
          "base_uri": "https://localhost:8080/",
          "height": 68
        },
        "outputId": "fed135c1-267b-499c-d7c0-18a514bf92a7"
      },
      "source": [
        "# X_train, test_df, y_train, y_test = train_test_split(X, y_true, stratify=y_true, test_size=0.2)\n",
        "# train_df, cv_df, y_train, y_cv = train_test_split(X_train, y_train, stratify=y_train, test_size=0.2)\n",
        "\n",
        "clf = GaussianNB()\n",
        "clf.fit(X_train, y_train)\n",
        "sig_clf = CalibratedClassifierCV(clf, method=\"sigmoid\")\n",
        "sig_clf.fit(X_train, y_train)"
      ],
      "execution_count": 21,
      "outputs": [
        {
          "output_type": "execute_result",
          "data": {
            "text/plain": [
              "GaussianNB(priors=None, var_smoothing=1e-09)"
            ]
          },
          "metadata": {
            "tags": []
          },
          "execution_count": 21
        },
        {
          "output_type": "execute_result",
          "data": {
            "text/plain": [
              "CalibratedClassifierCV(base_estimator=GaussianNB(priors=None,\n",
              "                                                 var_smoothing=1e-09),\n",
              "                       cv=None, method='sigmoid')"
            ]
          },
          "metadata": {
            "tags": []
          },
          "execution_count": 21
        }
      ]
    },
    {
      "cell_type": "code",
      "metadata": {
        "cell_id": "d5f1e9dc-f377-4e01-bab0-a48781245067",
        "id": "VUWqaFYO1Vr8",
        "colab_type": "code",
        "colab": {
          "base_uri": "https://localhost:8080/",
          "height": 51
        },
        "outputId": "45e57126-7c63-46d3-ebcd-b11b477a3a00"
      },
      "source": [
        "cross_val_score(sig_clf,X_train,y_train,scoring=\"neg_log_loss\",cv=10,n_jobs=-1) "
      ],
      "execution_count": 22,
      "outputs": [
        {
          "output_type": "execute_result",
          "data": {
            "text/plain": [
              "array([-0.41924315, -0.27214359, -0.41908665, -0.37423351, -0.39131161,\n",
              "       -0.34670917, -0.36438287, -0.33802983, -0.38654545, -0.39552276])"
            ]
          },
          "metadata": {
            "tags": []
          },
          "execution_count": 22
        }
      ]
    },
    {
      "cell_type": "code",
      "metadata": {
        "cell_id": "655361c6-4e09-480c-8af6-eb81adc1a746",
        "id": "DlbI3XbU1Vr-",
        "colab_type": "code",
        "colab": {
          "base_uri": "https://localhost:8080/",
          "height": 68
        },
        "outputId": "d6af63bb-50c7-48e5-dd02-a0293cc562bd"
      },
      "source": [
        "predict_y = sig_clf.predict_proba(X_train)\n",
        "print(\"The train log loss is:\",log_loss(y_train, predict_y,  eps=1e-15))\n",
        "predict_y = sig_clf.predict_proba(X_test)\n",
        "print(\"The test log loss is:\",log_loss(y_test, predict_y,  eps=1e-15))\n",
        "print(\"Number of missclassified point :\", np.count_nonzero((sig_clf.predict(X_test) - y_test))/y_test.shape[0])"
      ],
      "execution_count": 23,
      "outputs": [
        {
          "output_type": "stream",
          "text": [
            "The train log loss is: 0.3697494788201036\n",
            "The test log loss is: 0.3533593720990996\n",
            "Number of missclassified point : 0.19117647058823528\n"
          ],
          "name": "stdout"
        }
      ]
    },
    {
      "cell_type": "markdown",
      "metadata": {
        "cell_id": "e9ff056d-c7b6-49f3-874f-af66bb829ac9",
        "id": "CVcjXAXJ1VsB",
        "colab_type": "text"
      },
      "source": [
        "### Logistic Regression"
      ]
    },
    {
      "cell_type": "code",
      "metadata": {
        "collapsed": true,
        "jupyter": {
          "outputs_hidden": true,
          "source_hidden": true
        },
        "cell_id": "fef9adfb-1f08-4f9b-addd-1ddeb250a753",
        "id": "I0jwtkhg1VsC",
        "colab_type": "code",
        "colab": {},
        "outputId": "5deb0972-6aca-48b8-95eb-22bdc355b326"
      },
      "source": [
        "alpha = [0.001,0.01,0.1,1,10,100]\n",
        "cv_log_error_array = []\n",
        "for i in alpha:\n",
        "    print(\"for C =\", i)\n",
        "    clf = LogisticRegression(C=i,n_jobs=-1 )\n",
        "    clf.fit(train_df, y_train)\n",
        "    sig_clf = CalibratedClassifierCV(clf, method=\"sigmoid\")\n",
        "    sig_clf.fit(train_df, y_train)\n",
        "    sig_clf_probs = sig_clf.predict_proba(cv_df)\n",
        "    cv_log_error_array.append(log_loss(y_cv, sig_clf_probs, labels=clf.classes_, eps=1e-15))\n",
        "    # to avoid rounding error while multiplying probabilites we use log-probability estimates\n",
        "    print(\"Log Loss :\",log_loss(y_cv, sig_clf_probs)) \n",
        "\n",
        "fig, ax = plt.subplots()\n",
        "ax.plot(alpha, cv_log_error_array,c='g')\n",
        "for i, txt in enumerate(np.round(cv_log_error_array,3)):\n",
        "    ax.annotate((alpha[i],str(txt)), (alpha[i],cv_log_error_array[i]))\n",
        "plt.grid()\n",
        "plt.title(\"Cross Validation Error for each alpha\")\n",
        "plt.xlabel(\"Alpha i's\")\n",
        "plt.ylabel(\"Error measure\")\n",
        "plt.show()\n",
        "\n",
        "\n",
        "best_alpha = np.argmin(cv_log_error_array)\n",
        "clf = LogisticRegression(C=alpha[best_alpha],n_jobs=-1)\n",
        "clf.fit(train_df, y_train)\n",
        "sig_clf = CalibratedClassifierCV(clf, method=\"sigmoid\")\n",
        "sig_clf.fit(train_df, y_train)\n",
        "\n",
        "predict_y = sig_clf.predict_proba(train_df)\n",
        "print('For values of best alpha = ', alpha[best_alpha], \"The train log loss is:\",log_loss(y_train, predict_y, labels=clf.classes_, eps=1e-15))\n",
        "predict_y = sig_clf.predict_proba(cv_df)\n",
        "print('For values of best alpha = ', alpha[best_alpha], \"The cross validation log loss is:\",log_loss(y_cv, predict_y, labels=clf.classes_, eps=1e-15))\n",
        "predict_y = sig_clf.predict_proba(test_df)\n",
        "print('For values of best alpha = ', alpha[best_alpha], \"The test log loss is:\",log_loss(y_test, predict_y, labels=clf.classes_, eps=1e-15))\n"
      ],
      "execution_count": null,
      "outputs": [
        {
          "output_type": "stream",
          "text": [
            "for C = 0.001\n"
          ],
          "name": "stdout"
        },
        {
          "output_type": "execute_result",
          "data": {
            "text/plain": [
              "LogisticRegression(C=0.001, n_jobs=-1)"
            ]
          },
          "metadata": {
            "tags": []
          },
          "execution_count": 168
        },
        {
          "output_type": "execute_result",
          "data": {
            "text/plain": [
              "CalibratedClassifierCV(base_estimator=LogisticRegression(C=0.001, n_jobs=-1))"
            ]
          },
          "metadata": {
            "tags": []
          },
          "execution_count": 168
        },
        {
          "output_type": "stream",
          "text": [
            "Log Loss : 0.5472165995142253\n",
            "for C = 0.01\n"
          ],
          "name": "stdout"
        },
        {
          "output_type": "execute_result",
          "data": {
            "text/plain": [
              "LogisticRegression(C=0.01, n_jobs=-1)"
            ]
          },
          "metadata": {
            "tags": []
          },
          "execution_count": 168
        },
        {
          "output_type": "execute_result",
          "data": {
            "text/plain": [
              "CalibratedClassifierCV(base_estimator=LogisticRegression(C=0.01, n_jobs=-1))"
            ]
          },
          "metadata": {
            "tags": []
          },
          "execution_count": 168
        },
        {
          "output_type": "stream",
          "text": [
            "Log Loss : 0.5307901120523942\n",
            "for C = 0.1\n"
          ],
          "name": "stdout"
        },
        {
          "output_type": "execute_result",
          "data": {
            "text/plain": [
              "LogisticRegression(C=0.1, n_jobs=-1)"
            ]
          },
          "metadata": {
            "tags": []
          },
          "execution_count": 168
        },
        {
          "output_type": "execute_result",
          "data": {
            "text/plain": [
              "CalibratedClassifierCV(base_estimator=LogisticRegression(C=0.1, n_jobs=-1))"
            ]
          },
          "metadata": {
            "tags": []
          },
          "execution_count": 168
        },
        {
          "output_type": "stream",
          "text": [
            "Log Loss : 0.4338696862860747\n",
            "for C = 1\n"
          ],
          "name": "stdout"
        },
        {
          "output_type": "execute_result",
          "data": {
            "text/plain": [
              "LogisticRegression(C=1, n_jobs=-1)"
            ]
          },
          "metadata": {
            "tags": []
          },
          "execution_count": 168
        },
        {
          "output_type": "execute_result",
          "data": {
            "text/plain": [
              "CalibratedClassifierCV(base_estimator=LogisticRegression(C=1, n_jobs=-1))"
            ]
          },
          "metadata": {
            "tags": []
          },
          "execution_count": 168
        },
        {
          "output_type": "stream",
          "text": [
            "Log Loss : 0.346314710335684\n",
            "for C = 10\n"
          ],
          "name": "stdout"
        },
        {
          "output_type": "execute_result",
          "data": {
            "text/plain": [
              "LogisticRegression(C=10, n_jobs=-1)"
            ]
          },
          "metadata": {
            "tags": []
          },
          "execution_count": 168
        },
        {
          "output_type": "execute_result",
          "data": {
            "text/plain": [
              "CalibratedClassifierCV(base_estimator=LogisticRegression(C=10, n_jobs=-1))"
            ]
          },
          "metadata": {
            "tags": []
          },
          "execution_count": 168
        },
        {
          "output_type": "stream",
          "text": [
            "Log Loss : 0.33017248990105685\n",
            "for C = 100\n"
          ],
          "name": "stdout"
        },
        {
          "output_type": "execute_result",
          "data": {
            "text/plain": [
              "LogisticRegression(C=100, n_jobs=-1)"
            ]
          },
          "metadata": {
            "tags": []
          },
          "execution_count": 168
        },
        {
          "output_type": "execute_result",
          "data": {
            "text/plain": [
              "CalibratedClassifierCV(base_estimator=LogisticRegression(C=100, n_jobs=-1))"
            ]
          },
          "metadata": {
            "tags": []
          },
          "execution_count": 168
        },
        {
          "output_type": "stream",
          "text": [
            "Log Loss : 0.3312399952076914\n"
          ],
          "name": "stdout"
        },
        {
          "output_type": "execute_result",
          "data": {
            "text/plain": [
              "[<matplotlib.lines.Line2D at 0x1bfc221e548>]"
            ]
          },
          "metadata": {
            "tags": []
          },
          "execution_count": 168
        },
        {
          "output_type": "execute_result",
          "data": {
            "text/plain": [
              "Text(0.001, 0.5472165995142253, \"(0.001, '0.547')\")"
            ]
          },
          "metadata": {
            "tags": []
          },
          "execution_count": 168
        },
        {
          "output_type": "execute_result",
          "data": {
            "text/plain": [
              "Text(0.01, 0.5307901120523942, \"(0.01, '0.531')\")"
            ]
          },
          "metadata": {
            "tags": []
          },
          "execution_count": 168
        },
        {
          "output_type": "execute_result",
          "data": {
            "text/plain": [
              "Text(0.1, 0.4338696862860747, \"(0.1, '0.434')\")"
            ]
          },
          "metadata": {
            "tags": []
          },
          "execution_count": 168
        },
        {
          "output_type": "execute_result",
          "data": {
            "text/plain": [
              "Text(1, 0.346314710335684, \"(1, '0.346')\")"
            ]
          },
          "metadata": {
            "tags": []
          },
          "execution_count": 168
        },
        {
          "output_type": "execute_result",
          "data": {
            "text/plain": [
              "Text(10, 0.33017248990105685, \"(10, '0.33')\")"
            ]
          },
          "metadata": {
            "tags": []
          },
          "execution_count": 168
        },
        {
          "output_type": "execute_result",
          "data": {
            "text/plain": [
              "Text(100, 0.3312399952076914, \"(100, '0.331')\")"
            ]
          },
          "metadata": {
            "tags": []
          },
          "execution_count": 168
        },
        {
          "output_type": "execute_result",
          "data": {
            "text/plain": [
              "Text(0.5, 1.0, 'Cross Validation Error for each alpha')"
            ]
          },
          "metadata": {
            "tags": []
          },
          "execution_count": 168
        },
        {
          "output_type": "execute_result",
          "data": {
            "text/plain": [
              "Text(0.5, 0, \"Alpha i's\")"
            ]
          },
          "metadata": {
            "tags": []
          },
          "execution_count": 168
        },
        {
          "output_type": "execute_result",
          "data": {
            "text/plain": [
              "Text(0, 0.5, 'Error measure')"
            ]
          },
          "metadata": {
            "tags": []
          },
          "execution_count": 168
        },
        {
          "output_type": "display_data",
          "data": {
            "image/png": "[encoded data removed]",
            "text/plain": [
              "<Figure size 1080x576 with 1 Axes>"
            ]
          },
          "metadata": {
            "tags": [],
            "needs_background": "light"
          }
        },
        {
          "output_type": "execute_result",
          "data": {
            "text/plain": [
              "LogisticRegression(C=10, n_jobs=-1)"
            ]
          },
          "metadata": {
            "tags": []
          },
          "execution_count": 168
        },
        {
          "output_type": "execute_result",
          "data": {
            "text/plain": [
              "CalibratedClassifierCV(base_estimator=LogisticRegression(C=10, n_jobs=-1))"
            ]
          },
          "metadata": {
            "tags": []
          },
          "execution_count": 168
        },
        {
          "output_type": "stream",
          "text": [
            "For values of best alpha =  10 The train log loss is: 0.32328024641296693\n",
            "For values of best alpha =  10 The cross validation log loss is: 0.33017248990105685\n",
            "For values of best alpha =  10 The test log loss is: 0.3356343124452068\n"
          ],
          "name": "stdout"
        }
      ]
    },
    {
      "cell_type": "code",
      "metadata": {
        "cell_id": "bed82765-e771-4e9e-bcee-0929b5ea74af",
        "id": "tSbOz7e61VsE",
        "colab_type": "code",
        "colab": {}
      },
      "source": [
        "lg=LogisticRegression(n_jobs=-1)\n",
        "clf = CalibratedClassifierCV(lg, method=\"sigmoid\")"
      ],
      "execution_count": 24,
      "outputs": []
    },
    {
      "cell_type": "code",
      "metadata": {
        "cell_id": "96acd097-3a50-4db3-8ece-18a70818b536",
        "id": "i7OL4Zgx1VsH",
        "colab_type": "code",
        "colab": {}
      },
      "source": [
        "params_LogisticRegression = {'base_estimator__C': [0.1,1,10,50,100]}\n",
        "\n",
        "\n",
        "gs_LogisticRegression = GridSearchCV(estimator=clf, \n",
        "                      param_grid=params_LogisticRegression, \n",
        "                      cv=10,\n",
        "                      verbose=1,  # verbose: the higher, the more messages\n",
        "                      scoring='neg_log_loss', \n",
        "                      return_train_score=True,n_jobs=-1)"
      ],
      "execution_count": 25,
      "outputs": []
    },
    {
      "cell_type": "code",
      "metadata": {
        "cell_id": "3cece451-dd12-42e0-9d37-9834b720fe38",
        "id": "hxuHsWKe1VsK",
        "colab_type": "code",
        "colab": {
          "base_uri": "https://localhost:8080/",
          "height": 476
        },
        "outputId": "2cd176af-a4c9-4e3e-f209-dc5b8be13656"
      },
      "source": [
        "%%time\n",
        "gs_LogisticRegression.fit(X_train,y_train)"
      ],
      "execution_count": 26,
      "outputs": [
        {
          "output_type": "stream",
          "text": [
            "Fitting 10 folds for each of 5 candidates, totalling 50 fits\n"
          ],
          "name": "stdout"
        },
        {
          "output_type": "stream",
          "text": [
            "[Parallel(n_jobs=-1)]: Using backend LokyBackend with 2 concurrent workers.\n",
            "[Parallel(n_jobs=-1)]: Done  46 tasks      | elapsed:   12.4s\n"
          ],
          "name": "stderr"
        },
        {
          "output_type": "stream",
          "text": [
            "CPU times: user 263 ms, sys: 7.33 ms, total: 270 ms\n",
            "Wall time: 13.7 s\n"
          ],
          "name": "stdout"
        },
        {
          "output_type": "stream",
          "text": [
            "[Parallel(n_jobs=-1)]: Done  50 out of  50 | elapsed:   13.5s finished\n"
          ],
          "name": "stderr"
        },
        {
          "output_type": "execute_result",
          "data": {
            "text/plain": [
              "GridSearchCV(cv=10, error_score=nan,\n",
              "             estimator=CalibratedClassifierCV(base_estimator=LogisticRegression(C=1.0,\n",
              "                                                                                class_weight=None,\n",
              "                                                                                dual=False,\n",
              "                                                                                fit_intercept=True,\n",
              "                                                                                intercept_scaling=1,\n",
              "                                                                                l1_ratio=None,\n",
              "                                                                                max_iter=100,\n",
              "                                                                                multi_class='auto',\n",
              "                                                                                n_jobs=-1,\n",
              "                                                                                penalty='l2',\n",
              "                                                                                random_state=None,\n",
              "                                                                                solver='lbfgs',\n",
              "                                                                                tol=0.0001,\n",
              "                                                                                verbose=0,\n",
              "                                                                                warm_start=False),\n",
              "                                              cv=None, method='sigmoid'),\n",
              "             iid='deprecated', n_jobs=-1,\n",
              "             param_grid={'base_estimator__C': [0.1, 1, 10, 50, 100]},\n",
              "             pre_dispatch='2*n_jobs', refit=True, return_train_score=True,\n",
              "             scoring='neg_log_loss', verbose=1)"
            ]
          },
          "metadata": {
            "tags": []
          },
          "execution_count": 26
        }
      ]
    },
    {
      "cell_type": "code",
      "metadata": {
        "cell_id": "2eb5f34d-b86c-41e1-bf58-ea821cfd2b8b",
        "id": "R_Dye9g81VsN",
        "colab_type": "code",
        "colab": {
          "base_uri": "https://localhost:8080/",
          "height": 34
        },
        "outputId": "f160e371-86c7-4080-8d10-d7fa34f38605"
      },
      "source": [
        "gs_LogisticRegression.best_params_"
      ],
      "execution_count": 27,
      "outputs": [
        {
          "output_type": "execute_result",
          "data": {
            "text/plain": [
              "{'base_estimator__C': 10}"
            ]
          },
          "metadata": {
            "tags": []
          },
          "execution_count": 27
        }
      ]
    },
    {
      "cell_type": "code",
      "metadata": {
        "cell_id": "149353d4-8bed-47d8-ae70-f4b17783afcc",
        "id": "68WdqGfW1VsO",
        "colab_type": "code",
        "colab": {
          "base_uri": "https://localhost:8080/",
          "height": 34
        },
        "outputId": "455fee98-a18e-4594-b5ae-5dea6469620b"
      },
      "source": [
        "gs_LogisticRegression.best_score_"
      ],
      "execution_count": 28,
      "outputs": [
        {
          "output_type": "execute_result",
          "data": {
            "text/plain": [
              "-0.3280067422943721"
            ]
          },
          "metadata": {
            "tags": []
          },
          "execution_count": 28
        }
      ]
    },
    {
      "cell_type": "code",
      "metadata": {
        "cell_id": "78261caa-49af-4e04-b2a8-0d7d32752abb",
        "id": "upJJ2uXD1VsQ",
        "colab_type": "code",
        "colab": {
          "base_uri": "https://localhost:8080/",
          "height": 34
        },
        "outputId": "88b19847-a68a-4b6f-9652-89d1c931489c"
      },
      "source": [
        "# test_df=test_df.drop(\"class\",axis=1)\n",
        "log_loss(y_test, gs_LogisticRegression.predict_proba(X_test), eps=1e-15)  \n",
        "\n",
        "log_loss(y_train, gs_LogisticRegression.predict_proba(X_train), eps=1e-15)\n",
        "\n",
        "print(\"Number of missclassified point :\", np.count_nonzero((gs_LogisticRegression.predict(X_test) - y_test))/y_test.shape[0])"
      ],
      "execution_count": 30,
      "outputs": [
        {
          "output_type": "execute_result",
          "data": {
            "text/plain": [
              "0.3349495795277906"
            ]
          },
          "metadata": {
            "tags": []
          },
          "execution_count": 30
        },
        {
          "output_type": "execute_result",
          "data": {
            "text/plain": [
              "0.3241074097080127"
            ]
          },
          "metadata": {
            "tags": []
          },
          "execution_count": 30
        },
        {
          "output_type": "stream",
          "text": [
            "Number of missclassified point : 0.15441176470588236\n"
          ],
          "name": "stdout"
        }
      ]
    },
    {
      "cell_type": "markdown",
      "metadata": {
        "cell_id": "5d0fd6d5-9a72-4ce9-b9f3-5b18c1ff424e",
        "id": "HSN1jxsC1VsS",
        "colab_type": "text"
      },
      "source": [
        "### Random Forest"
      ]
    },
    {
      "cell_type": "code",
      "metadata": {
        "cell_id": "a968eac0-bf91-41ab-92f1-84c0ae88a80c",
        "id": "8-1sh7Jv1VsS",
        "colab_type": "code",
        "colab": {}
      },
      "source": [
        "rf=RandomForestClassifier(n_jobs=-1,n_estimators=2500)\n",
        "clf = CalibratedClassifierCV(rf, method=\"sigmoid\")"
      ],
      "execution_count": null,
      "outputs": []
    },
    {
      "cell_type": "code",
      "metadata": {
        "cell_id": "4e1ec422-b90c-49a7-994e-df56e2b4ddeb",
        "id": "q3jXeQWB1VsV",
        "colab_type": "code",
        "colab": {}
      },
      "source": [
        "# params_RandomForest = {'base_estimator__n_estimators': [500]}\n",
        "params_RandomForest = {\n",
        "#     'base_estimator__n_estimators': list(range(500,3000, 500)),\n",
        "    'base_estimator__max_depth': list(range(1,10, 1))\n",
        "}\n",
        "\n",
        "gs_RandomForest = GridSearchCV(estimator=clf, \n",
        "                      param_grid=params_RandomForest, \n",
        "                      cv=2,\n",
        "                      verbose=1,  # verbose: the higher, the more messages\n",
        "                      scoring='neg_log_loss', \n",
        "                      return_train_score=True,n_jobs=-1)"
      ],
      "execution_count": null,
      "outputs": []
    },
    {
      "cell_type": "code",
      "metadata": {
        "cell_id": "8688449c-c2e8-4c84-b5e5-7e6ab7cec91b",
        "id": "QWqeqVkS1VsX",
        "colab_type": "code",
        "colab": {},
        "outputId": "408c39d6-1a86-4948-ec81-805982e0c3fd"
      },
      "source": [
        "%%time\n",
        "gs_RandomForest.fit(X_train,y_train)"
      ],
      "execution_count": null,
      "outputs": [
        {
          "output_type": "stream",
          "text": [
            "Fitting 2 folds for each of 9 candidates, totalling 18 fits\n",
            "[Parallel(n_jobs=-1)]: Using backend LokyBackend with 4 concurrent workers.\n",
            "[Parallel(n_jobs=-1)]: Done  18 out of  18 | elapsed:  4.8min finished\n",
            "CPU times: user 43.9 s, sys: 10.2 s, total: 54.1 s\n",
            "Wall time: 5min 27s\n"
          ],
          "name": "stdout"
        },
        {
          "output_type": "execute_result",
          "data": {
            "text/plain": [
              "GridSearchCV(cv=2,\n",
              "             estimator=CalibratedClassifierCV(base_estimator=RandomForestClassifier(n_estimators=2500,\n",
              "                                                                                    n_jobs=-1)),\n",
              "             n_jobs=-1,\n",
              "             param_grid={'base_estimator__max_depth': [1, 2, 3, 4, 5, 6, 7, 8,\n",
              "                                                       9]},\n",
              "             return_train_score=True, scoring='neg_log_loss', verbose=1)"
            ]
          },
          "metadata": {
            "tags": []
          },
          "execution_count": 45
        }
      ]
    },
    {
      "cell_type": "code",
      "metadata": {
        "cell_id": "efaa1e1b-b1b4-4703-b406-2246b2a74f9b",
        "id": "N69n_-lI1Vsb",
        "colab_type": "code",
        "colab": {},
        "outputId": "427d42ea-5829-43a9-a34c-8460f31585c9"
      },
      "source": [
        "gs_RandomForest.best_params_\n",
        "gs_RandomForest.best_score_"
      ],
      "execution_count": null,
      "outputs": [
        {
          "output_type": "execute_result",
          "data": {
            "text/plain": [
              "{'base_estimator__max_depth': 8}"
            ]
          },
          "metadata": {
            "tags": []
          },
          "execution_count": 46
        },
        {
          "output_type": "execute_result",
          "data": {
            "text/plain": [
              "-0.3660396110168394"
            ]
          },
          "metadata": {
            "tags": []
          },
          "execution_count": 46
        }
      ]
    },
    {
      "cell_type": "code",
      "metadata": {
        "cell_id": "d0290fb4-6af2-419e-8d61-dd81c3fc6b31",
        "id": "yV4CggFH1Vse",
        "colab_type": "code",
        "colab": {},
        "outputId": "b32aa9bf-d8e7-481e-a6f7-b1b338ae0091"
      },
      "source": [
        "log_loss(y_test, gs_RandomForest.predict_proba(X_test), eps=1e-15)  \n",
        "log_loss(y_train, gs_RandomForest.predict_proba(X_train), eps=1e-15)\n",
        "print(\"Number of missclassified point :\", np.count_nonzero((gs_RandomForest.predict(X_test) - y_test))/y_test.shape[0])"
      ],
      "execution_count": null,
      "outputs": [
        {
          "output_type": "execute_result",
          "data": {
            "text/plain": [
              "0.29888070530635236"
            ]
          },
          "metadata": {
            "tags": []
          },
          "execution_count": 47
        },
        {
          "output_type": "execute_result",
          "data": {
            "text/plain": [
              "0.26053276378850476"
            ]
          },
          "metadata": {
            "tags": []
          },
          "execution_count": 47
        },
        {
          "output_type": "stream",
          "text": [
            "Number of missclassified point : 0.13970588235294118\n"
          ],
          "name": "stdout"
        }
      ]
    },
    {
      "cell_type": "markdown",
      "metadata": {
        "tags": [],
        "cell_id": "0b49aceb-5151-457d-b46c-e62cf8cfc763",
        "id": "FJAPVUz71Vsg",
        "colab_type": "text"
      },
      "source": [
        "### Fitting Random forest again"
      ]
    },
    {
      "cell_type": "code",
      "metadata": {
        "tags": [],
        "cell_id": "29866867-d712-42ff-8e96-74bc44710b31",
        "id": "zvGdK65q1Vsh",
        "colab_type": "code",
        "colab": {}
      },
      "source": [
        "rf=RandomForestClassifier(n_jobs=-1,n_estimators=2500,max_depth=8)\r\n",
        "clf = CalibratedClassifierCV(rf, method=\"sigmoid\")"
      ],
      "execution_count": 31,
      "outputs": []
    },
    {
      "cell_type": "code",
      "metadata": {
        "tags": [],
        "cell_id": "9ecab456-c299-4813-97a3-d7534bf094cd",
        "id": "KOyN_j5l1Vsi",
        "colab_type": "code",
        "colab": {
          "base_uri": "https://localhost:8080/",
          "height": 357
        },
        "outputId": "7f204541-f651-4201-d64c-f6ee12c0edef"
      },
      "source": [
        "clf.fit(X_train,y_train)"
      ],
      "execution_count": 32,
      "outputs": [
        {
          "output_type": "execute_result",
          "data": {
            "text/plain": [
              "CalibratedClassifierCV(base_estimator=RandomForestClassifier(bootstrap=True,\n",
              "                                                             ccp_alpha=0.0,\n",
              "                                                             class_weight=None,\n",
              "                                                             criterion='gini',\n",
              "                                                             max_depth=8,\n",
              "                                                             max_features='auto',\n",
              "                                                             max_leaf_nodes=None,\n",
              "                                                             max_samples=None,\n",
              "                                                             min_impurity_decrease=0.0,\n",
              "                                                             min_impurity_split=None,\n",
              "                                                             min_samples_leaf=1,\n",
              "                                                             min_samples_split=2,\n",
              "                                                             min_weight_fraction_leaf=0.0,\n",
              "                                                             n_estimators=2500,\n",
              "                                                             n_jobs=-1,\n",
              "                                                             oob_score=False,\n",
              "                                                             random_state=None,\n",
              "                                                             verbose=0,\n",
              "                                                             warm_start=False),\n",
              "                       cv=None, method='sigmoid')"
            ]
          },
          "metadata": {
            "tags": []
          },
          "execution_count": 32
        }
      ]
    },
    {
      "cell_type": "code",
      "metadata": {
        "tags": [],
        "cell_id": "b735d824-c8f3-4152-9e70-924938fd048c",
        "id": "SLTfM3ic1Vsk",
        "colab_type": "code",
        "colab": {
          "base_uri": "https://localhost:8080/",
          "height": 34
        },
        "outputId": "b662e308-df2e-4eca-9b61-756a1ac6a888"
      },
      "source": [
        "log_loss(y_test, clf.predict_proba(X_test), eps=1e-15)  \r\n",
        "log_loss(y_train, clf.predict_proba(X_train), eps=1e-15)\r\n",
        "print(\"Number of missclassified point :\", np.count_nonzero((clf.predict(X_test) - y_test))/y_test.shape[0])"
      ],
      "execution_count": 33,
      "outputs": [
        {
          "output_type": "execute_result",
          "data": {
            "text/plain": [
              "0.3313001592788075"
            ]
          },
          "metadata": {
            "tags": []
          },
          "execution_count": 33
        },
        {
          "output_type": "execute_result",
          "data": {
            "text/plain": [
              "0.25712661197878145"
            ]
          },
          "metadata": {
            "tags": []
          },
          "execution_count": 33
        },
        {
          "output_type": "stream",
          "text": [
            "Number of missclassified point : 0.12867647058823528\n"
          ],
          "name": "stdout"
        }
      ]
    },
    {
      "cell_type": "code",
      "metadata": {
        "tags": [],
        "cell_id": "daf37441-266b-4219-8466-f2185d5c68a1",
        "id": "LBpKhyTo1Vsm",
        "colab_type": "code",
        "colab": {}
      },
      "source": [
        ""
      ],
      "execution_count": null,
      "outputs": []
    }
  ]
}