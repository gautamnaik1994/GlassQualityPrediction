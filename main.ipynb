{
 "cells": [
  {
   "cell_type": "markdown",
   "metadata": {
    "colab_type": "text",
    "id": "view-in-github"
   },
   "source": [
    "<a href=\"https://colab.research.google.com/github/gautamnaik1994/GlassQualityPrediction/blob/master/main.ipynb\" target=\"_parent\"><img src=\"https://colab.research.google.com/assets/colab-badge.svg\" alt=\"Open In Colab\"/></a>"
   ]
  },
  {
   "cell_type": "markdown",
   "metadata": {
    "cell_id": "324c7da9-63d5-43f9-8e4e-2cabe2fe66f3",
    "colab_type": "text",
    "id": "GRxMv0vQ1VqF"
   },
   "source": [
    "# Glass Quality Prediction\n",
    "https://www.machinehack.com/hackathons/glass_quality_prediction_weekend_hackathon_6\n",
    "\n",
    "### Overview\n",
    "We humans have been using glass since ancient times for a variety of applications from building construction to making decorative objects. With technology, glass and its applications have evolved, and today, we have different varieties of glass used for very different purposes from a computer monitor to a bulletproof car window depending on the grade of the glass produced. And not all grades or varieties are manufactured the same way. In this data science challenge, you as a data scientist must use the given data to predict the grade of the glass produced based on the given factors.Given are 15 distinguishing factors that can provide insight into what grade of the glass is being produced. Your objective as a data scientist is to build a machine learning model that can predict the grade of glass based on the given factors.\n",
    "\n",
    "### Evaluation\n",
    "The leaderboard is evaluated on the standard log_loss metric from sklearn\n",
    "\n"
   ]
  },
  {
   "cell_type": "code",
   "execution_count": 1,
   "metadata": {
    "cell_id": "1fd7d473-a501-4cdc-9a4c-1421b55c07d2",
    "colab": {},
    "colab_type": "code",
    "id": "bJPeV6Ej1VqN"
   },
   "outputs": [],
   "source": [
    "import pandas as pd\n",
    "import seaborn as sns\n",
    "from IPython.core.interactiveshell import InteractiveShell\n",
    "import matplotlib.pyplot as plt\n",
    "InteractiveShell.ast_node_interactivity = \"all\"\n",
    "from IPython.core.pylabtools import figsize\n",
    "import numpy as np\n",
    "import pickle\n",
    "from sklearn.metrics import confusion_matrix,classification_report,accuracy_score, log_loss\n",
    "from sklearn.model_selection import cross_val_score\n",
    "from sklearn.linear_model import LogisticRegression\n",
    "from sklearn.linear_model import SGDClassifier\n",
    "from sklearn.preprocessing import StandardScaler\n",
    "from sklearn.model_selection import train_test_split, GridSearchCV,RandomizedSearchCV\n",
    "from sklearn.ensemble import RandomForestClassifier\n",
    "from sklearn.model_selection import StratifiedKFold\n",
    "from sklearn.neighbors import KNeighborsClassifier\n",
    "from sklearn.naive_bayes import GaussianNB\n",
    "from sklearn.calibration import CalibratedClassifierCV\n",
    "import xgboost as xgb\n",
    "from scipy.stats import uniform, randint\n",
    "from scipy import stats\n",
    "from sklearn import tree"
   ]
  },
  {
   "cell_type": "code",
   "execution_count": 5,
   "metadata": {
    "colab": {
     "base_uri": "https://localhost:8080/",
     "height": 204
    },
    "colab_type": "code",
    "id": "979hdNjd2LIq",
    "outputId": "41d69825-f52f-463a-9cb7-e31129290b89"
   },
   "outputs": [
    {
     "name": "stdout",
     "output_type": "stream",
     "text": [
      "--2020-07-21 19:28:38--  https://raw.githubusercontent.com/gautamnaik1994/GlassQualityPrediction/master/Glass_Quality_Participants_Data/Train.csv\n",
      "Resolving raw.githubusercontent.com (raw.githubusercontent.com)... 151.101.0.133, 151.101.64.133, 151.101.128.133, ...\n",
      "Connecting to raw.githubusercontent.com (raw.githubusercontent.com)|151.101.0.133|:443... connected.\n",
      "HTTP request sent, awaiting response... 200 OK\n",
      "Length: 93708 (92K) [text/plain]\n",
      "Saving to: ‘Train.csv’\n",
      "\n",
      "Train.csv           100%[===================>]  91.51K  --.-KB/s    in 0.03s   \n",
      "\n",
      "2020-07-21 19:28:38 (2.89 MB/s) - ‘Train.csv’ saved [93708/93708]\n",
      "\n"
     ]
    }
   ],
   "source": [
    "!wget https://raw.githubusercontent.com/gautamnaik1994/GlassQualityPrediction/master/Glass_Quality_Participants_Data/Train.csv"
   ]
  },
  {
   "cell_type": "code",
   "execution_count": 6,
   "metadata": {
    "colab": {},
    "colab_type": "code",
    "id": "4jHK7AAH2ZN-"
   },
   "outputs": [],
   "source": [
    "# Only for Google Collab\n",
    "train=pd.read_csv(\"./Train.csv\")"
   ]
  },
  {
   "cell_type": "code",
   "execution_count": 2,
   "metadata": {
    "cell_id": "1085402e-c564-441e-877d-ee61d2dfff36",
    "colab": {},
    "colab_type": "code",
    "id": "kgP3kxzo1VqQ"
   },
   "outputs": [],
   "source": [
    "train=pd.read_csv(\"./Glass_Quality_Participants_Data/Train.csv\")\n",
    "test=pd.read_csv(\"./Glass_Quality_Participants_Data/Test.csv\")"
   ]
  },
  {
   "cell_type": "code",
   "execution_count": 3,
   "metadata": {
    "cell_id": "108920f4-3bb5-422a-a8d9-87aa8855d202",
    "colab": {},
    "colab_type": "code",
    "id": "dApWob-_1VqT"
   },
   "outputs": [],
   "source": [
    "train_orig=train.copy()"
   ]
  },
  {
   "cell_type": "code",
   "execution_count": 4,
   "metadata": {
    "cell_id": "52adf7bb-9a01-4025-bbdc-a1635b5cc8f0",
    "colab": {},
    "colab_type": "code",
    "id": "81PjF08-1VqW"
   },
   "outputs": [],
   "source": [
    "def show_missing_count(data):\n",
    "    miss_percent = (data.isnull().sum() / len(data)) * 100\n",
    "    missing = pd.DataFrame({\"Percent\":miss_percent, 'Count':data.isnull().sum()}).sort_values(by=\"Percent\", ascending=False)\n",
    "    missing=missing.loc[missing['Percent'] > 0]\n",
    "    return missing"
   ]
  },
  {
   "cell_type": "markdown",
   "metadata": {
    "cell_id": "8386bacc-e5a5-43f9-8968-aded64dc1aee",
    "colab_type": "text",
    "id": "A4u1eJAB1VqZ"
   },
   "source": [
    "## EDA"
   ]
  },
  {
   "cell_type": "code",
   "execution_count": null,
   "metadata": {
    "cell_id": "5400d394-c1b9-4fcc-bff1-cb66588d0d71",
    "colab": {},
    "colab_type": "code",
    "id": "HQZ2u08a1VqZ",
    "outputId": "c831e9fb-2e8a-4c95-81d0-2d6e2f0ffdb0"
   },
   "outputs": [
    {
     "data": {
      "text/html": [
       "<div>\n",
       "<style scoped>\n",
       "    .dataframe tbody tr th:only-of-type {\n",
       "        vertical-align: middle;\n",
       "    }\n",
       "\n",
       "    .dataframe tbody tr th {\n",
       "        vertical-align: top;\n",
       "    }\n",
       "\n",
       "    .dataframe thead th {\n",
       "        text-align: right;\n",
       "    }\n",
       "</style>\n",
       "<table border=\"1\" class=\"dataframe\">\n",
       "  <thead>\n",
       "    <tr style=\"text-align: right;\">\n",
       "      <th></th>\n",
       "      <th>grade_A_Component_1</th>\n",
       "      <th>grade_A_Component_2</th>\n",
       "      <th>max_luminosity</th>\n",
       "      <th>thickness</th>\n",
       "      <th>xmin</th>\n",
       "      <th>xmax</th>\n",
       "      <th>ymin</th>\n",
       "      <th>ymax</th>\n",
       "      <th>pixel_area</th>\n",
       "      <th>log_area</th>\n",
       "      <th>x_component_1</th>\n",
       "      <th>x_component_2</th>\n",
       "      <th>x_component_3</th>\n",
       "      <th>x_component_4</th>\n",
       "      <th>x_component_5</th>\n",
       "      <th>class</th>\n",
       "    </tr>\n",
       "  </thead>\n",
       "  <tbody>\n",
       "    <tr>\n",
       "      <th>0</th>\n",
       "      <td>0</td>\n",
       "      <td>1</td>\n",
       "      <td>150</td>\n",
       "      <td>36</td>\n",
       "      <td>144</td>\n",
       "      <td>172</td>\n",
       "      <td>947225</td>\n",
       "      <td>947332</td>\n",
       "      <td>439</td>\n",
       "      <td>439.099273</td>\n",
       "      <td>0</td>\n",
       "      <td>0</td>\n",
       "      <td>1</td>\n",
       "      <td>0</td>\n",
       "      <td>0</td>\n",
       "      <td>1</td>\n",
       "    </tr>\n",
       "    <tr>\n",
       "      <th>1</th>\n",
       "      <td>1</td>\n",
       "      <td>0</td>\n",
       "      <td>134</td>\n",
       "      <td>55</td>\n",
       "      <td>1144</td>\n",
       "      <td>1152</td>\n",
       "      <td>2379058</td>\n",
       "      <td>2379624</td>\n",
       "      <td>329</td>\n",
       "      <td>329.205616</td>\n",
       "      <td>1</td>\n",
       "      <td>0</td>\n",
       "      <td>0</td>\n",
       "      <td>0</td>\n",
       "      <td>0</td>\n",
       "      <td>1</td>\n",
       "    </tr>\n",
       "    <tr>\n",
       "      <th>2</th>\n",
       "      <td>1</td>\n",
       "      <td>0</td>\n",
       "      <td>135</td>\n",
       "      <td>65</td>\n",
       "      <td>950</td>\n",
       "      <td>974</td>\n",
       "      <td>1038442</td>\n",
       "      <td>1036754</td>\n",
       "      <td>300</td>\n",
       "      <td>300.120598</td>\n",
       "      <td>0</td>\n",
       "      <td>0</td>\n",
       "      <td>0</td>\n",
       "      <td>0</td>\n",
       "      <td>0</td>\n",
       "      <td>2</td>\n",
       "    </tr>\n",
       "    <tr>\n",
       "      <th>3</th>\n",
       "      <td>0</td>\n",
       "      <td>1</td>\n",
       "      <td>123</td>\n",
       "      <td>35</td>\n",
       "      <td>41</td>\n",
       "      <td>220</td>\n",
       "      <td>1705580</td>\n",
       "      <td>1705604</td>\n",
       "      <td>6803</td>\n",
       "      <td>6803.778622</td>\n",
       "      <td>0</td>\n",
       "      <td>0</td>\n",
       "      <td>1</td>\n",
       "      <td>0</td>\n",
       "      <td>0</td>\n",
       "      <td>1</td>\n",
       "    </tr>\n",
       "    <tr>\n",
       "      <th>4</th>\n",
       "      <td>1</td>\n",
       "      <td>0</td>\n",
       "      <td>138</td>\n",
       "      <td>69</td>\n",
       "      <td>462</td>\n",
       "      <td>466</td>\n",
       "      <td>1088124</td>\n",
       "      <td>1086579</td>\n",
       "      <td>251</td>\n",
       "      <td>251.401943</td>\n",
       "      <td>0</td>\n",
       "      <td>0</td>\n",
       "      <td>0</td>\n",
       "      <td>0</td>\n",
       "      <td>0</td>\n",
       "      <td>2</td>\n",
       "    </tr>\n",
       "    <tr>\n",
       "      <th>5</th>\n",
       "      <td>1</td>\n",
       "      <td>0</td>\n",
       "      <td>127</td>\n",
       "      <td>72</td>\n",
       "      <td>246</td>\n",
       "      <td>256</td>\n",
       "      <td>1137516</td>\n",
       "      <td>1136929</td>\n",
       "      <td>177</td>\n",
       "      <td>177.184821</td>\n",
       "      <td>0</td>\n",
       "      <td>1</td>\n",
       "      <td>0</td>\n",
       "      <td>0</td>\n",
       "      <td>0</td>\n",
       "      <td>1</td>\n",
       "    </tr>\n",
       "    <tr>\n",
       "      <th>6</th>\n",
       "      <td>0</td>\n",
       "      <td>1</td>\n",
       "      <td>99</td>\n",
       "      <td>39</td>\n",
       "      <td>242</td>\n",
       "      <td>359</td>\n",
       "      <td>87212</td>\n",
       "      <td>87169</td>\n",
       "      <td>3369</td>\n",
       "      <td>3369.037497</td>\n",
       "      <td>0</td>\n",
       "      <td>0</td>\n",
       "      <td>1</td>\n",
       "      <td>0</td>\n",
       "      <td>0</td>\n",
       "      <td>1</td>\n",
       "    </tr>\n",
       "    <tr>\n",
       "      <th>7</th>\n",
       "      <td>0</td>\n",
       "      <td>1</td>\n",
       "      <td>136</td>\n",
       "      <td>38</td>\n",
       "      <td>48</td>\n",
       "      <td>202</td>\n",
       "      <td>697615</td>\n",
       "      <td>696534</td>\n",
       "      <td>6159</td>\n",
       "      <td>6159.902918</td>\n",
       "      <td>0</td>\n",
       "      <td>0</td>\n",
       "      <td>1</td>\n",
       "      <td>0</td>\n",
       "      <td>0</td>\n",
       "      <td>1</td>\n",
       "    </tr>\n",
       "    <tr>\n",
       "      <th>8</th>\n",
       "      <td>0</td>\n",
       "      <td>1</td>\n",
       "      <td>121</td>\n",
       "      <td>43</td>\n",
       "      <td>42</td>\n",
       "      <td>214</td>\n",
       "      <td>4401789</td>\n",
       "      <td>4401986</td>\n",
       "      <td>5667</td>\n",
       "      <td>5667.675157</td>\n",
       "      <td>0</td>\n",
       "      <td>0</td>\n",
       "      <td>1</td>\n",
       "      <td>0</td>\n",
       "      <td>0</td>\n",
       "      <td>1</td>\n",
       "    </tr>\n",
       "    <tr>\n",
       "      <th>9</th>\n",
       "      <td>1</td>\n",
       "      <td>0</td>\n",
       "      <td>115</td>\n",
       "      <td>99</td>\n",
       "      <td>1289</td>\n",
       "      <td>1304</td>\n",
       "      <td>1005611</td>\n",
       "      <td>1006124</td>\n",
       "      <td>281</td>\n",
       "      <td>281.072866</td>\n",
       "      <td>1</td>\n",
       "      <td>0</td>\n",
       "      <td>0</td>\n",
       "      <td>0</td>\n",
       "      <td>0</td>\n",
       "      <td>1</td>\n",
       "    </tr>\n",
       "  </tbody>\n",
       "</table>\n",
       "</div>"
      ],
      "text/plain": [
       "   grade_A_Component_1  grade_A_Component_2  max_luminosity  thickness  xmin  \\\n",
       "0                    0                    1             150         36   144   \n",
       "1                    1                    0             134         55  1144   \n",
       "2                    1                    0             135         65   950   \n",
       "3                    0                    1             123         35    41   \n",
       "4                    1                    0             138         69   462   \n",
       "5                    1                    0             127         72   246   \n",
       "6                    0                    1              99         39   242   \n",
       "7                    0                    1             136         38    48   \n",
       "8                    0                    1             121         43    42   \n",
       "9                    1                    0             115         99  1289   \n",
       "\n",
       "   xmax     ymin     ymax  pixel_area     log_area  x_component_1  \\\n",
       "0   172   947225   947332         439   439.099273              0   \n",
       "1  1152  2379058  2379624         329   329.205616              1   \n",
       "2   974  1038442  1036754         300   300.120598              0   \n",
       "3   220  1705580  1705604        6803  6803.778622              0   \n",
       "4   466  1088124  1086579         251   251.401943              0   \n",
       "5   256  1137516  1136929         177   177.184821              0   \n",
       "6   359    87212    87169        3369  3369.037497              0   \n",
       "7   202   697615   696534        6159  6159.902918              0   \n",
       "8   214  4401789  4401986        5667  5667.675157              0   \n",
       "9  1304  1005611  1006124         281   281.072866              1   \n",
       "\n",
       "   x_component_2  x_component_3  x_component_4  x_component_5  class  \n",
       "0              0              1              0              0      1  \n",
       "1              0              0              0              0      1  \n",
       "2              0              0              0              0      2  \n",
       "3              0              1              0              0      1  \n",
       "4              0              0              0              0      2  \n",
       "5              1              0              0              0      1  \n",
       "6              0              1              0              0      1  \n",
       "7              0              1              0              0      1  \n",
       "8              0              1              0              0      1  \n",
       "9              0              0              0              0      1  "
      ]
     },
     "execution_count": 5,
     "metadata": {
      "tags": []
     },
     "output_type": "execute_result"
    },
    {
     "data": {
      "text/html": [
       "<div>\n",
       "<style scoped>\n",
       "    .dataframe tbody tr th:only-of-type {\n",
       "        vertical-align: middle;\n",
       "    }\n",
       "\n",
       "    .dataframe tbody tr th {\n",
       "        vertical-align: top;\n",
       "    }\n",
       "\n",
       "    .dataframe thead th {\n",
       "        text-align: right;\n",
       "    }\n",
       "</style>\n",
       "<table border=\"1\" class=\"dataframe\">\n",
       "  <thead>\n",
       "    <tr style=\"text-align: right;\">\n",
       "      <th></th>\n",
       "      <th>grade_A_Component_1</th>\n",
       "      <th>grade_A_Component_2</th>\n",
       "      <th>max_luminosity</th>\n",
       "      <th>thickness</th>\n",
       "      <th>xmin</th>\n",
       "      <th>xmax</th>\n",
       "      <th>ymin</th>\n",
       "      <th>ymax</th>\n",
       "      <th>pixel_area</th>\n",
       "      <th>log_area</th>\n",
       "      <th>x_component_1</th>\n",
       "      <th>x_component_2</th>\n",
       "      <th>x_component_3</th>\n",
       "      <th>x_component_4</th>\n",
       "      <th>x_component_5</th>\n",
       "    </tr>\n",
       "  </thead>\n",
       "  <tbody>\n",
       "    <tr>\n",
       "      <th>0</th>\n",
       "      <td>1</td>\n",
       "      <td>0</td>\n",
       "      <td>123</td>\n",
       "      <td>65</td>\n",
       "      <td>33</td>\n",
       "      <td>54</td>\n",
       "      <td>1646439</td>\n",
       "      <td>1646893</td>\n",
       "      <td>632</td>\n",
       "      <td>632.391749</td>\n",
       "      <td>0</td>\n",
       "      <td>1</td>\n",
       "      <td>0</td>\n",
       "      <td>0</td>\n",
       "      <td>0</td>\n",
       "    </tr>\n",
       "    <tr>\n",
       "      <th>1</th>\n",
       "      <td>0</td>\n",
       "      <td>1</td>\n",
       "      <td>158</td>\n",
       "      <td>99</td>\n",
       "      <td>125</td>\n",
       "      <td>132</td>\n",
       "      <td>189874</td>\n",
       "      <td>189529</td>\n",
       "      <td>421</td>\n",
       "      <td>421.928609</td>\n",
       "      <td>0</td>\n",
       "      <td>0</td>\n",
       "      <td>0</td>\n",
       "      <td>0</td>\n",
       "      <td>0</td>\n",
       "    </tr>\n",
       "    <tr>\n",
       "      <th>2</th>\n",
       "      <td>0</td>\n",
       "      <td>1</td>\n",
       "      <td>120</td>\n",
       "      <td>35</td>\n",
       "      <td>64</td>\n",
       "      <td>75</td>\n",
       "      <td>12986873</td>\n",
       "      <td>12986862</td>\n",
       "      <td>272</td>\n",
       "      <td>272.212214</td>\n",
       "      <td>1</td>\n",
       "      <td>0</td>\n",
       "      <td>0</td>\n",
       "      <td>0</td>\n",
       "      <td>0</td>\n",
       "    </tr>\n",
       "    <tr>\n",
       "      <th>3</th>\n",
       "      <td>0</td>\n",
       "      <td>1</td>\n",
       "      <td>130</td>\n",
       "      <td>39</td>\n",
       "      <td>57</td>\n",
       "      <td>177</td>\n",
       "      <td>309634</td>\n",
       "      <td>310824</td>\n",
       "      <td>3312</td>\n",
       "      <td>3312.310581</td>\n",
       "      <td>0</td>\n",
       "      <td>0</td>\n",
       "      <td>1</td>\n",
       "      <td>0</td>\n",
       "      <td>0</td>\n",
       "    </tr>\n",
       "    <tr>\n",
       "      <th>4</th>\n",
       "      <td>1</td>\n",
       "      <td>0</td>\n",
       "      <td>142</td>\n",
       "      <td>75</td>\n",
       "      <td>23</td>\n",
       "      <td>79</td>\n",
       "      <td>5368307</td>\n",
       "      <td>5367467</td>\n",
       "      <td>862</td>\n",
       "      <td>862.499179</td>\n",
       "      <td>0</td>\n",
       "      <td>0</td>\n",
       "      <td>0</td>\n",
       "      <td>0</td>\n",
       "      <td>0</td>\n",
       "    </tr>\n",
       "  </tbody>\n",
       "</table>\n",
       "</div>"
      ],
      "text/plain": [
       "   grade_A_Component_1  grade_A_Component_2  max_luminosity  thickness  xmin  \\\n",
       "0                    1                    0             123         65    33   \n",
       "1                    0                    1             158         99   125   \n",
       "2                    0                    1             120         35    64   \n",
       "3                    0                    1             130         39    57   \n",
       "4                    1                    0             142         75    23   \n",
       "\n",
       "   xmax      ymin      ymax  pixel_area     log_area  x_component_1  \\\n",
       "0    54   1646439   1646893         632   632.391749              0   \n",
       "1   132    189874    189529         421   421.928609              0   \n",
       "2    75  12986873  12986862         272   272.212214              1   \n",
       "3   177    309634    310824        3312  3312.310581              0   \n",
       "4    79   5368307   5367467         862   862.499179              0   \n",
       "\n",
       "   x_component_2  x_component_3  x_component_4  x_component_5  \n",
       "0              1              0              0              0  \n",
       "1              0              0              0              0  \n",
       "2              0              0              0              0  \n",
       "3              0              1              0              0  \n",
       "4              0              0              0              0  "
      ]
     },
     "execution_count": 5,
     "metadata": {
      "tags": []
     },
     "output_type": "execute_result"
    }
   ],
   "source": [
    "train.head(10)\n",
    "test.head()"
   ]
  },
  {
   "cell_type": "code",
   "execution_count": null,
   "metadata": {
    "cell_id": "2c537554-1444-4c22-823a-9f4093cb81ac",
    "colab": {},
    "colab_type": "code",
    "id": "cVz3jKc11Vqc",
    "outputId": "d2cd8a45-d148-48f9-eec3-05d11844a62e"
   },
   "outputs": [
    {
     "data": {
      "text/html": [
       "<div>\n",
       "<style scoped>\n",
       "    .dataframe tbody tr th:only-of-type {\n",
       "        vertical-align: middle;\n",
       "    }\n",
       "\n",
       "    .dataframe tbody tr th {\n",
       "        vertical-align: top;\n",
       "    }\n",
       "\n",
       "    .dataframe thead th {\n",
       "        text-align: right;\n",
       "    }\n",
       "</style>\n",
       "<table border=\"1\" class=\"dataframe\">\n",
       "  <thead>\n",
       "    <tr style=\"text-align: right;\">\n",
       "      <th></th>\n",
       "      <th>grade_A_Component_1</th>\n",
       "      <th>grade_A_Component_2</th>\n",
       "      <th>max_luminosity</th>\n",
       "      <th>thickness</th>\n",
       "      <th>xmin</th>\n",
       "      <th>xmax</th>\n",
       "      <th>ymin</th>\n",
       "      <th>ymax</th>\n",
       "      <th>pixel_area</th>\n",
       "      <th>log_area</th>\n",
       "      <th>x_component_1</th>\n",
       "      <th>x_component_2</th>\n",
       "      <th>x_component_3</th>\n",
       "      <th>x_component_4</th>\n",
       "      <th>x_component_5</th>\n",
       "      <th>class</th>\n",
       "    </tr>\n",
       "  </thead>\n",
       "  <tbody>\n",
       "    <tr>\n",
       "      <th>count</th>\n",
       "      <td>1358.000000</td>\n",
       "      <td>1358.000000</td>\n",
       "      <td>1358.000000</td>\n",
       "      <td>1358.000000</td>\n",
       "      <td>1358.000000</td>\n",
       "      <td>1358.000000</td>\n",
       "      <td>1.358000e+03</td>\n",
       "      <td>1.358000e+03</td>\n",
       "      <td>1358.000000</td>\n",
       "      <td>1358.000000</td>\n",
       "      <td>1358.000000</td>\n",
       "      <td>1358.000000</td>\n",
       "      <td>1358.000000</td>\n",
       "      <td>1358.000000</td>\n",
       "      <td>1358.000000</td>\n",
       "      <td>1358.000000</td>\n",
       "    </tr>\n",
       "    <tr>\n",
       "      <th>mean</th>\n",
       "      <td>0.406480</td>\n",
       "      <td>0.593520</td>\n",
       "      <td>137.893225</td>\n",
       "      <td>78.977909</td>\n",
       "      <td>567.370398</td>\n",
       "      <td>614.032401</td>\n",
       "      <td>1.660107e+06</td>\n",
       "      <td>1.660139e+06</td>\n",
       "      <td>1903.402798</td>\n",
       "      <td>1903.896240</td>\n",
       "      <td>0.081738</td>\n",
       "      <td>0.106038</td>\n",
       "      <td>0.197349</td>\n",
       "      <td>0.035346</td>\n",
       "      <td>0.027982</td>\n",
       "      <td>1.346834</td>\n",
       "    </tr>\n",
       "    <tr>\n",
       "      <th>std</th>\n",
       "      <td>0.491357</td>\n",
       "      <td>0.491357</td>\n",
       "      <td>20.480512</td>\n",
       "      <td>55.324842</td>\n",
       "      <td>522.013094</td>\n",
       "      <td>500.505513</td>\n",
       "      <td>1.778153e+06</td>\n",
       "      <td>1.778177e+06</td>\n",
       "      <td>3839.156721</td>\n",
       "      <td>3839.163241</td>\n",
       "      <td>0.274066</td>\n",
       "      <td>0.308000</td>\n",
       "      <td>0.398145</td>\n",
       "      <td>0.184721</td>\n",
       "      <td>0.164983</td>\n",
       "      <td>0.476138</td>\n",
       "    </tr>\n",
       "    <tr>\n",
       "      <th>min</th>\n",
       "      <td>0.000000</td>\n",
       "      <td>0.000000</td>\n",
       "      <td>71.000000</td>\n",
       "      <td>35.000000</td>\n",
       "      <td>0.000000</td>\n",
       "      <td>4.000000</td>\n",
       "      <td>7.527000e+03</td>\n",
       "      <td>7.453000e+03</td>\n",
       "      <td>3.000000</td>\n",
       "      <td>3.445293</td>\n",
       "      <td>0.000000</td>\n",
       "      <td>0.000000</td>\n",
       "      <td>0.000000</td>\n",
       "      <td>0.000000</td>\n",
       "      <td>0.000000</td>\n",
       "      <td>1.000000</td>\n",
       "    </tr>\n",
       "    <tr>\n",
       "      <th>25%</th>\n",
       "      <td>0.000000</td>\n",
       "      <td>0.000000</td>\n",
       "      <td>127.000000</td>\n",
       "      <td>42.000000</td>\n",
       "      <td>53.000000</td>\n",
       "      <td>192.000000</td>\n",
       "      <td>4.662742e+05</td>\n",
       "      <td>4.666918e+05</td>\n",
       "      <td>234.000000</td>\n",
       "      <td>234.335948</td>\n",
       "      <td>0.000000</td>\n",
       "      <td>0.000000</td>\n",
       "      <td>0.000000</td>\n",
       "      <td>0.000000</td>\n",
       "      <td>0.000000</td>\n",
       "      <td>1.000000</td>\n",
       "    </tr>\n",
       "    <tr>\n",
       "      <th>50%</th>\n",
       "      <td>0.000000</td>\n",
       "      <td>1.000000</td>\n",
       "      <td>137.000000</td>\n",
       "      <td>66.000000</td>\n",
       "      <td>407.500000</td>\n",
       "      <td>457.000000</td>\n",
       "      <td>1.216168e+06</td>\n",
       "      <td>1.214700e+06</td>\n",
       "      <td>346.000000</td>\n",
       "      <td>346.044490</td>\n",
       "      <td>0.000000</td>\n",
       "      <td>0.000000</td>\n",
       "      <td>0.000000</td>\n",
       "      <td>0.000000</td>\n",
       "      <td>0.000000</td>\n",
       "      <td>1.000000</td>\n",
       "    </tr>\n",
       "    <tr>\n",
       "      <th>75%</th>\n",
       "      <td>1.000000</td>\n",
       "      <td>1.000000</td>\n",
       "      <td>146.000000</td>\n",
       "      <td>83.000000</td>\n",
       "      <td>1041.750000</td>\n",
       "      <td>1064.000000</td>\n",
       "      <td>2.210012e+06</td>\n",
       "      <td>2.210076e+06</td>\n",
       "      <td>915.250000</td>\n",
       "      <td>915.367817</td>\n",
       "      <td>0.000000</td>\n",
       "      <td>0.000000</td>\n",
       "      <td>0.000000</td>\n",
       "      <td>0.000000</td>\n",
       "      <td>0.000000</td>\n",
       "      <td>2.000000</td>\n",
       "    </tr>\n",
       "    <tr>\n",
       "      <th>max</th>\n",
       "      <td>1.000000</td>\n",
       "      <td>1.000000</td>\n",
       "      <td>266.000000</td>\n",
       "      <td>305.000000</td>\n",
       "      <td>1692.000000</td>\n",
       "      <td>1717.000000</td>\n",
       "      <td>1.291748e+07</td>\n",
       "      <td>1.291731e+07</td>\n",
       "      <td>37392.000000</td>\n",
       "      <td>37392.672970</td>\n",
       "      <td>1.000000</td>\n",
       "      <td>1.000000</td>\n",
       "      <td>1.000000</td>\n",
       "      <td>1.000000</td>\n",
       "      <td>1.000000</td>\n",
       "      <td>2.000000</td>\n",
       "    </tr>\n",
       "  </tbody>\n",
       "</table>\n",
       "</div>"
      ],
      "text/plain": [
       "       grade_A_Component_1  grade_A_Component_2  max_luminosity    thickness  \\\n",
       "count          1358.000000          1358.000000     1358.000000  1358.000000   \n",
       "mean              0.406480             0.593520      137.893225    78.977909   \n",
       "std               0.491357             0.491357       20.480512    55.324842   \n",
       "min               0.000000             0.000000       71.000000    35.000000   \n",
       "25%               0.000000             0.000000      127.000000    42.000000   \n",
       "50%               0.000000             1.000000      137.000000    66.000000   \n",
       "75%               1.000000             1.000000      146.000000    83.000000   \n",
       "max               1.000000             1.000000      266.000000   305.000000   \n",
       "\n",
       "              xmin         xmax          ymin          ymax    pixel_area  \\\n",
       "count  1358.000000  1358.000000  1.358000e+03  1.358000e+03   1358.000000   \n",
       "mean    567.370398   614.032401  1.660107e+06  1.660139e+06   1903.402798   \n",
       "std     522.013094   500.505513  1.778153e+06  1.778177e+06   3839.156721   \n",
       "min       0.000000     4.000000  7.527000e+03  7.453000e+03      3.000000   \n",
       "25%      53.000000   192.000000  4.662742e+05  4.666918e+05    234.000000   \n",
       "50%     407.500000   457.000000  1.216168e+06  1.214700e+06    346.000000   \n",
       "75%    1041.750000  1064.000000  2.210012e+06  2.210076e+06    915.250000   \n",
       "max    1692.000000  1717.000000  1.291748e+07  1.291731e+07  37392.000000   \n",
       "\n",
       "           log_area  x_component_1  x_component_2  x_component_3  \\\n",
       "count   1358.000000    1358.000000    1358.000000    1358.000000   \n",
       "mean    1903.896240       0.081738       0.106038       0.197349   \n",
       "std     3839.163241       0.274066       0.308000       0.398145   \n",
       "min        3.445293       0.000000       0.000000       0.000000   \n",
       "25%      234.335948       0.000000       0.000000       0.000000   \n",
       "50%      346.044490       0.000000       0.000000       0.000000   \n",
       "75%      915.367817       0.000000       0.000000       0.000000   \n",
       "max    37392.672970       1.000000       1.000000       1.000000   \n",
       "\n",
       "       x_component_4  x_component_5        class  \n",
       "count    1358.000000    1358.000000  1358.000000  \n",
       "mean        0.035346       0.027982     1.346834  \n",
       "std         0.184721       0.164983     0.476138  \n",
       "min         0.000000       0.000000     1.000000  \n",
       "25%         0.000000       0.000000     1.000000  \n",
       "50%         0.000000       0.000000     1.000000  \n",
       "75%         0.000000       0.000000     2.000000  \n",
       "max         1.000000       1.000000     2.000000  "
      ]
     },
     "execution_count": 6,
     "metadata": {
      "tags": []
     },
     "output_type": "execute_result"
    },
    {
     "name": "stdout",
     "output_type": "stream",
     "text": [
      "<class 'pandas.core.frame.DataFrame'>\n",
      "RangeIndex: 1358 entries, 0 to 1357\n",
      "Data columns (total 16 columns):\n",
      " #   Column               Non-Null Count  Dtype  \n",
      "---  ------               --------------  -----  \n",
      " 0   grade_A_Component_1  1358 non-null   int64  \n",
      " 1   grade_A_Component_2  1358 non-null   int64  \n",
      " 2   max_luminosity       1358 non-null   int64  \n",
      " 3   thickness            1358 non-null   int64  \n",
      " 4   xmin                 1358 non-null   int64  \n",
      " 5   xmax                 1358 non-null   int64  \n",
      " 6   ymin                 1358 non-null   int64  \n",
      " 7   ymax                 1358 non-null   int64  \n",
      " 8   pixel_area           1358 non-null   int64  \n",
      " 9   log_area             1358 non-null   float64\n",
      " 10  x_component_1        1358 non-null   int64  \n",
      " 11  x_component_2        1358 non-null   int64  \n",
      " 12  x_component_3        1358 non-null   int64  \n",
      " 13  x_component_4        1358 non-null   int64  \n",
      " 14  x_component_5        1358 non-null   int64  \n",
      " 15  class                1358 non-null   int64  \n",
      "dtypes: float64(1), int64(15)\n",
      "memory usage: 169.9 KB\n"
     ]
    }
   ],
   "source": [
    "train.describe()\n",
    "train.info()"
   ]
  },
  {
   "cell_type": "code",
   "execution_count": null,
   "metadata": {
    "cell_id": "3d14a8d8-c73d-4a20-9ae6-40c491eb2fa2",
    "colab": {},
    "colab_type": "code",
    "id": "WKkoMx_11Vqf"
   },
   "outputs": [],
   "source": [
    "class1=train.loc[train[\"class\"]==1]\n",
    "class2=train.loc[train[\"class\"]==2]"
   ]
  },
  {
   "cell_type": "code",
   "execution_count": null,
   "metadata": {
    "cell_id": "9c47331a-9c48-4ae8-872c-36bcded13910",
    "colab": {},
    "colab_type": "code",
    "id": "ouHI1rML1Vqi",
    "outputId": "f0e997d7-397f-4549-fe18-dcd2e08a2955"
   },
   "outputs": [
    {
     "data": {
      "text/plain": [
       "1    887\n",
       "2    471\n",
       "Name: class, dtype: int64"
      ]
     },
     "execution_count": 8,
     "metadata": {
      "tags": []
     },
     "output_type": "execute_result"
    }
   ],
   "source": [
    "train[\"class\"].value_counts()"
   ]
  },
  {
   "cell_type": "code",
   "execution_count": null,
   "metadata": {
    "cell_id": "cbd21511-70e5-4629-bab6-a3929e8dcf7f",
    "colab": {},
    "colab_type": "code",
    "id": "WU0fkjRk1Vqk",
    "outputId": "9a10e460-97ec-49b5-98f1-bbcf59279c75"
   },
   "outputs": [
    {
     "data": {
      "text/plain": [
       "<matplotlib.axes._subplots.AxesSubplot at 0x1bfba4d9788>"
      ]
     },
     "execution_count": 46,
     "metadata": {
      "tags": []
     },
     "output_type": "execute_result"
    },
    {
     "name": "stdout",
     "output_type": "stream",
     "text": [
      "Skew : 1.2660266921078014\n",
      "Kurtosis : 6.009707701418586\n"
     ]
    },
    {
     "data": {
      "image/png": "[encoded data removed]",
      "text/plain": [
       "<Figure size 432x288 with 1 Axes>"
      ]
     },
     "metadata": {
      "needs_background": "light",
      "tags": []
     },
     "output_type": "display_data"
    }
   ],
   "source": [
    "train[\"max_luminosity\"].hist(bins=50);\n",
    "print(f'Skew : {train[\"max_luminosity\"].skew()}')\n",
    "print(f'Kurtosis : {train[\"max_luminosity\"].kurtosis()}')"
   ]
  },
  {
   "cell_type": "code",
   "execution_count": 21,
   "metadata": {
    "cell_id": "f8bdb00b-e0f5-4ae1-b16e-ce5b9f2da058",
    "colab": {},
    "colab_type": "code",
    "id": "hlryz2xy1Vqn",
    "outputId": "01a45188-6e72-4ad8-f36b-3685c3b8ce19"
   },
   "outputs": [
    {
     "name": "stdout",
     "output_type": "stream",
     "text": [
      "Skew using Log: 0.08469729350101923\n"
     ]
    },
    {
     "data": {
      "image/png": "[encoded data removed]",
      "text/plain": [
       "<Figure size 432x288 with 1 Axes>"
      ]
     },
     "metadata": {
      "needs_background": "light"
     },
     "output_type": "display_data"
    }
   ],
   "source": [
    "plt.hist(np.log(train[\"max_luminosity\"]), bins=50);\n",
    "print(f'Skew using Log Transofrm: {np.log(train[\"max_luminosity\"]).skew()}');"
   ]
  },
  {
   "cell_type": "code",
   "execution_count": 33,
   "metadata": {},
   "outputs": [
    {
     "data": {
      "text/plain": [
       "Text(0.5, 0, '')"
      ]
     },
     "execution_count": 33,
     "metadata": {},
     "output_type": "execute_result"
    },
    {
     "data": {
      "text/plain": [
       "Text(0.5, 1.0, 'Probplot against normal distribution')"
      ]
     },
     "execution_count": 33,
     "metadata": {},
     "output_type": "execute_result"
    },
    {
     "data": {
      "text/plain": [
       "Text(0.5, 1.0, 'Probplot after Box-Cox transformation')"
      ]
     },
     "execution_count": 33,
     "metadata": {},
     "output_type": "execute_result"
    },
    {
     "name": "stdout",
     "output_type": "stream",
     "text": [
      "Skew for Log Transform 0.08469729350101923 \n",
      "Skew for BoxCox Tranform -0.013254623954250193 \n"
     ]
    },
    {
     "data": {
      "image/png": "[encoded data removed]",
      "text/plain": [
       "<Figure size 432x288 with 2 Axes>"
      ]
     },
     "metadata": {
      "needs_background": "light"
     },
     "output_type": "display_data"
    }
   ],
   "source": [
    "fig = plt.figure()\n",
    "ax1 = fig.add_subplot(211)\n",
    "x = np.log(train[\"max_luminosity\"])\n",
    "prob = stats.probplot(x, dist=stats.norm, plot=ax1)\n",
    "ax1.set_xlabel('')\n",
    "ax1.set_title('Probplot against normal distribution')\n",
    "ax2 = fig.add_subplot(212)\n",
    "xt, _ = stats.boxcox(train[\"max_luminosity\"])\n",
    "prob = stats.probplot(xt, dist=stats.norm, plot=ax2)\n",
    "ax2.set_title('Probplot after Box-Cox transformation')\n",
    "plt.tight_layout()\n",
    "\n",
    "print(f'Skew for Log Transform {x.skew()} \\nSkew for BoxCox Tranform {pd.Series(xt).skew()} ')"
   ]
  },
  {
   "cell_type": "code",
   "execution_count": null,
   "metadata": {},
   "outputs": [],
   "source": []
  },
  {
   "cell_type": "code",
   "execution_count": null,
   "metadata": {
    "cell_id": "4332e243-0068-4bb8-82df-14cdba8bf0e0",
    "colab": {},
    "colab_type": "code",
    "id": "vq5r0zz01Vqq",
    "outputId": "7a21efaf-85e9-49bf-9242-5d23d6b4fb59"
   },
   "outputs": [
    {
     "data": {
      "text/plain": [
       "<matplotlib.axes._subplots.AxesSubplot at 0x1bfba36fe48>"
      ]
     },
     "execution_count": 10,
     "metadata": {
      "tags": []
     },
     "output_type": "execute_result"
    },
    {
     "data": {
      "image/png": "[encoded data removed]",
      "text/plain": [
       "<Figure size 432x288 with 1 Axes>"
      ]
     },
     "metadata": {
      "needs_background": "light",
      "tags": []
     },
     "output_type": "display_data"
    }
   ],
   "source": [
    "sns.violinplot(y=\"max_luminosity\",data=train, x=\"class\")"
   ]
  },
  {
   "cell_type": "code",
   "execution_count": 5,
   "metadata": {
    "cell_id": "c9b1b962-e2c9-468c-a9fd-ccf6f9c49592",
    "colab": {},
    "colab_type": "code",
    "id": "y686o78t1Vqs",
    "outputId": "3b39a04b-c721-444a-b76e-e1e128a190cf"
   },
   "outputs": [
    {
     "data": {
      "text/plain": [
       "<matplotlib.axes._subplots.AxesSubplot at 0x204c87c0388>"
      ]
     },
     "execution_count": 5,
     "metadata": {},
     "output_type": "execute_result"
    },
    {
     "data": {
      "image/png": "[encoded data removed]",
      "text/plain": [
       "<Figure size 432x288 with 1 Axes>"
      ]
     },
     "metadata": {
      "needs_background": "light"
     },
     "output_type": "display_data"
    }
   ],
   "source": [
    "train[\"thickness\"].hist(bins=3)"
   ]
  },
  {
   "cell_type": "code",
   "execution_count": 4,
   "metadata": {},
   "outputs": [
    {
     "data": {
      "image/png": "[encoded data removed]",
      "text/plain": [
       "<Figure size 432x288 with 1 Axes>"
      ]
     },
     "metadata": {
      "needs_background": "light"
     },
     "output_type": "display_data"
    }
   ],
   "source": [
    "plt.hist(np.log(train[\"thickness\"]), bins=50);"
   ]
  },
  {
   "cell_type": "code",
   "execution_count": null,
   "metadata": {
    "cell_id": "09a9cc7d-75c4-426b-9737-53a2ce5a273d",
    "colab": {},
    "colab_type": "code",
    "id": "R5j29Cjn1Vqw",
    "outputId": "fd08b23e-4632-4a9d-97c0-623fbb628307"
   },
   "outputs": [
    {
     "data": {
      "text/plain": [
       "<matplotlib.axes._subplots.AxesSubplot at 0x1bfba541748>"
      ]
     },
     "execution_count": 12,
     "metadata": {
      "tags": []
     },
     "output_type": "execute_result"
    },
    {
     "data": {
      "image/png": "[encoded data removed]",
      "text/plain": [
       "<Figure size 432x288 with 1 Axes>"
      ]
     },
     "metadata": {
      "needs_background": "light",
      "tags": []
     },
     "output_type": "display_data"
    }
   ],
   "source": [
    "sns.violinplot(y=\"thickness\",data=train, x=\"class\")"
   ]
  },
  {
   "cell_type": "code",
   "execution_count": null,
   "metadata": {
    "cell_id": "32d489e1-cef4-4670-b145-31391a85be94",
    "colab": {},
    "colab_type": "code",
    "id": "JzLQNTV11Vqz",
    "outputId": "c57f080c-c247-4f59-ed8b-3ba63b23e861"
   },
   "outputs": [
    {
     "data": {
      "text/plain": [
       "<matplotlib.axes._subplots.AxesSubplot at 0x1bfba59af88>"
      ]
     },
     "execution_count": 13,
     "metadata": {
      "tags": []
     },
     "output_type": "execute_result"
    },
    {
     "data": {
      "image/png": "[encoded data removed]",
      "text/plain": [
       "<Figure size 432x288 with 1 Axes>"
      ]
     },
     "metadata": {
      "needs_background": "light",
      "tags": []
     },
     "output_type": "display_data"
    }
   ],
   "source": [
    "train[\"pixel_area\"].hist(bins=50)"
   ]
  },
  {
   "cell_type": "code",
   "execution_count": null,
   "metadata": {
    "cell_id": "b91792f7-7064-4cce-a418-f2da47c59e5f",
    "colab": {},
    "colab_type": "code",
    "id": "T_rJhOsg1Vq1",
    "outputId": "8d937938-f879-4afb-fe08-b58d0273f6de"
   },
   "outputs": [
    {
     "data": {
      "text/plain": [
       "<matplotlib.axes._subplots.AxesSubplot at 0x1bfbee840c8>"
      ]
     },
     "execution_count": 85,
     "metadata": {
      "tags": []
     },
     "output_type": "execute_result"
    },
    {
     "data": {
      "image/png": "[encoded data removed]",
      "text/plain": [
       "<Figure size 432x288 with 1 Axes>"
      ]
     },
     "metadata": {
      "needs_background": "light",
      "tags": []
     },
     "output_type": "display_data"
    }
   ],
   "source": [
    "np.log(train[\"pixel_area\"]).hist(bins=50)\n"
   ]
  },
  {
   "cell_type": "code",
   "execution_count": null,
   "metadata": {
    "cell_id": "34606336-1f5e-4add-9548-60491ae4aec8",
    "colab": {},
    "colab_type": "code",
    "id": "HSlrd6yF1Vq4",
    "outputId": "7f219f5c-1992-4c12-c7fa-e5e3e3638cda"
   },
   "outputs": [
    {
     "data": {
      "image/png": "[encoded data removed]",
      "text/plain": [
       "<Figure size 432x288 with 1 Axes>"
      ]
     },
     "metadata": {
      "needs_background": "light",
      "tags": []
     },
     "output_type": "display_data"
    }
   ],
   "source": [
    "plt.hist(train[\"pixel_area\"], 50, density=True, histtype='step',cumulative=True);"
   ]
  },
  {
   "cell_type": "code",
   "execution_count": null,
   "metadata": {
    "cell_id": "4e973003-8972-46c5-b40e-50ea36e9d165",
    "colab": {},
    "colab_type": "code",
    "id": "7HeO1LDH1Vq6",
    "outputId": "edabb4a0-b410-4a4a-a4d9-7384733c80cc"
   },
   "outputs": [
    {
     "data": {
      "text/html": [
       "<div>\n",
       "<style scoped>\n",
       "    .dataframe tbody tr th:only-of-type {\n",
       "        vertical-align: middle;\n",
       "    }\n",
       "\n",
       "    .dataframe tbody tr th {\n",
       "        vertical-align: top;\n",
       "    }\n",
       "\n",
       "    .dataframe thead th {\n",
       "        text-align: right;\n",
       "    }\n",
       "</style>\n",
       "<table border=\"1\" class=\"dataframe\">\n",
       "  <thead>\n",
       "    <tr style=\"text-align: right;\">\n",
       "      <th></th>\n",
       "      <th>grade_A_Component_1</th>\n",
       "      <th>grade_A_Component_2</th>\n",
       "      <th>max_luminosity</th>\n",
       "      <th>thickness</th>\n",
       "      <th>xmin</th>\n",
       "      <th>xmax</th>\n",
       "      <th>ymin</th>\n",
       "      <th>ymax</th>\n",
       "      <th>pixel_area</th>\n",
       "      <th>log_area</th>\n",
       "      <th>x_component_1</th>\n",
       "      <th>x_component_2</th>\n",
       "      <th>x_component_3</th>\n",
       "      <th>x_component_4</th>\n",
       "      <th>x_component_5</th>\n",
       "      <th>class</th>\n",
       "    </tr>\n",
       "  </thead>\n",
       "  <tbody>\n",
       "    <tr>\n",
       "      <th>count</th>\n",
       "      <td>8.0</td>\n",
       "      <td>8.0</td>\n",
       "      <td>8.000000</td>\n",
       "      <td>8.000000</td>\n",
       "      <td>8.000000</td>\n",
       "      <td>8.000000</td>\n",
       "      <td>8.000000e+00</td>\n",
       "      <td>8.000000e+00</td>\n",
       "      <td>8.000000</td>\n",
       "      <td>8.000000</td>\n",
       "      <td>8.0</td>\n",
       "      <td>8.0</td>\n",
       "      <td>8.000000</td>\n",
       "      <td>8.0</td>\n",
       "      <td>8.0</td>\n",
       "      <td>8.000000</td>\n",
       "    </tr>\n",
       "    <tr>\n",
       "      <th>mean</th>\n",
       "      <td>0.0</td>\n",
       "      <td>1.0</td>\n",
       "      <td>153.250000</td>\n",
       "      <td>38.500000</td>\n",
       "      <td>5.875000</td>\n",
       "      <td>319.125000</td>\n",
       "      <td>6.325196e+05</td>\n",
       "      <td>6.329789e+05</td>\n",
       "      <td>24788.875000</td>\n",
       "      <td>24789.448257</td>\n",
       "      <td>0.0</td>\n",
       "      <td>0.0</td>\n",
       "      <td>0.875000</td>\n",
       "      <td>0.0</td>\n",
       "      <td>0.0</td>\n",
       "      <td>1.125000</td>\n",
       "    </tr>\n",
       "    <tr>\n",
       "      <th>std</th>\n",
       "      <td>0.0</td>\n",
       "      <td>0.0</td>\n",
       "      <td>8.241879</td>\n",
       "      <td>3.070598</td>\n",
       "      <td>6.243568</td>\n",
       "      <td>222.752545</td>\n",
       "      <td>6.685811e+05</td>\n",
       "      <td>6.686643e+05</td>\n",
       "      <td>5488.647672</td>\n",
       "      <td>5488.746230</td>\n",
       "      <td>0.0</td>\n",
       "      <td>0.0</td>\n",
       "      <td>0.353553</td>\n",
       "      <td>0.0</td>\n",
       "      <td>0.0</td>\n",
       "      <td>0.353553</td>\n",
       "    </tr>\n",
       "    <tr>\n",
       "      <th>min</th>\n",
       "      <td>0.0</td>\n",
       "      <td>1.0</td>\n",
       "      <td>143.000000</td>\n",
       "      <td>35.000000</td>\n",
       "      <td>0.000000</td>\n",
       "      <td>151.000000</td>\n",
       "      <td>3.075550e+05</td>\n",
       "      <td>3.096670e+05</td>\n",
       "      <td>20752.000000</td>\n",
       "      <td>20752.149798</td>\n",
       "      <td>0.0</td>\n",
       "      <td>0.0</td>\n",
       "      <td>0.000000</td>\n",
       "      <td>0.0</td>\n",
       "      <td>0.0</td>\n",
       "      <td>1.000000</td>\n",
       "    </tr>\n",
       "    <tr>\n",
       "      <th>25%</th>\n",
       "      <td>0.0</td>\n",
       "      <td>1.0</td>\n",
       "      <td>145.250000</td>\n",
       "      <td>35.750000</td>\n",
       "      <td>2.500000</td>\n",
       "      <td>223.750000</td>\n",
       "      <td>3.418710e+05</td>\n",
       "      <td>3.419968e+05</td>\n",
       "      <td>21175.250000</td>\n",
       "      <td>21175.653058</td>\n",
       "      <td>0.0</td>\n",
       "      <td>0.0</td>\n",
       "      <td>1.000000</td>\n",
       "      <td>0.0</td>\n",
       "      <td>0.0</td>\n",
       "      <td>1.000000</td>\n",
       "    </tr>\n",
       "    <tr>\n",
       "      <th>50%</th>\n",
       "      <td>0.0</td>\n",
       "      <td>1.0</td>\n",
       "      <td>156.000000</td>\n",
       "      <td>38.500000</td>\n",
       "      <td>5.000000</td>\n",
       "      <td>226.500000</td>\n",
       "      <td>4.132280e+05</td>\n",
       "      <td>4.134760e+05</td>\n",
       "      <td>23373.500000</td>\n",
       "      <td>23374.240741</td>\n",
       "      <td>0.0</td>\n",
       "      <td>0.0</td>\n",
       "      <td>1.000000</td>\n",
       "      <td>0.0</td>\n",
       "      <td>0.0</td>\n",
       "      <td>1.000000</td>\n",
       "    </tr>\n",
       "    <tr>\n",
       "      <th>75%</th>\n",
       "      <td>0.0</td>\n",
       "      <td>1.0</td>\n",
       "      <td>157.750000</td>\n",
       "      <td>41.250000</td>\n",
       "      <td>5.750000</td>\n",
       "      <td>283.500000</td>\n",
       "      <td>4.759692e+05</td>\n",
       "      <td>4.769512e+05</td>\n",
       "      <td>25597.250000</td>\n",
       "      <td>25598.000504</td>\n",
       "      <td>0.0</td>\n",
       "      <td>0.0</td>\n",
       "      <td>1.000000</td>\n",
       "      <td>0.0</td>\n",
       "      <td>0.0</td>\n",
       "      <td>1.000000</td>\n",
       "    </tr>\n",
       "    <tr>\n",
       "      <th>max</th>\n",
       "      <td>0.0</td>\n",
       "      <td>1.0</td>\n",
       "      <td>163.000000</td>\n",
       "      <td>42.000000</td>\n",
       "      <td>20.000000</td>\n",
       "      <td>830.000000</td>\n",
       "      <td>2.278939e+06</td>\n",
       "      <td>2.279698e+06</td>\n",
       "      <td>37392.000000</td>\n",
       "      <td>37392.672970</td>\n",
       "      <td>0.0</td>\n",
       "      <td>0.0</td>\n",
       "      <td>1.000000</td>\n",
       "      <td>0.0</td>\n",
       "      <td>0.0</td>\n",
       "      <td>2.000000</td>\n",
       "    </tr>\n",
       "  </tbody>\n",
       "</table>\n",
       "</div>"
      ],
      "text/plain": [
       "       grade_A_Component_1  grade_A_Component_2  max_luminosity  thickness  \\\n",
       "count                  8.0                  8.0        8.000000   8.000000   \n",
       "mean                   0.0                  1.0      153.250000  38.500000   \n",
       "std                    0.0                  0.0        8.241879   3.070598   \n",
       "min                    0.0                  1.0      143.000000  35.000000   \n",
       "25%                    0.0                  1.0      145.250000  35.750000   \n",
       "50%                    0.0                  1.0      156.000000  38.500000   \n",
       "75%                    0.0                  1.0      157.750000  41.250000   \n",
       "max                    0.0                  1.0      163.000000  42.000000   \n",
       "\n",
       "            xmin        xmax          ymin          ymax    pixel_area  \\\n",
       "count   8.000000    8.000000  8.000000e+00  8.000000e+00      8.000000   \n",
       "mean    5.875000  319.125000  6.325196e+05  6.329789e+05  24788.875000   \n",
       "std     6.243568  222.752545  6.685811e+05  6.686643e+05   5488.647672   \n",
       "min     0.000000  151.000000  3.075550e+05  3.096670e+05  20752.000000   \n",
       "25%     2.500000  223.750000  3.418710e+05  3.419968e+05  21175.250000   \n",
       "50%     5.000000  226.500000  4.132280e+05  4.134760e+05  23373.500000   \n",
       "75%     5.750000  283.500000  4.759692e+05  4.769512e+05  25597.250000   \n",
       "max    20.000000  830.000000  2.278939e+06  2.279698e+06  37392.000000   \n",
       "\n",
       "           log_area  x_component_1  x_component_2  x_component_3  \\\n",
       "count      8.000000            8.0            8.0       8.000000   \n",
       "mean   24789.448257            0.0            0.0       0.875000   \n",
       "std     5488.746230            0.0            0.0       0.353553   \n",
       "min    20752.149798            0.0            0.0       0.000000   \n",
       "25%    21175.653058            0.0            0.0       1.000000   \n",
       "50%    23374.240741            0.0            0.0       1.000000   \n",
       "75%    25598.000504            0.0            0.0       1.000000   \n",
       "max    37392.672970            0.0            0.0       1.000000   \n",
       "\n",
       "       x_component_4  x_component_5     class  \n",
       "count            8.0            8.0  8.000000  \n",
       "mean             0.0            0.0  1.125000  \n",
       "std              0.0            0.0  0.353553  \n",
       "min              0.0            0.0  1.000000  \n",
       "25%              0.0            0.0  1.000000  \n",
       "50%              0.0            0.0  1.000000  \n",
       "75%              0.0            0.0  1.000000  \n",
       "max              0.0            0.0  2.000000  "
      ]
     },
     "execution_count": 35,
     "metadata": {
      "tags": []
     },
     "output_type": "execute_result"
    }
   ],
   "source": [
    "train.loc[train[\"pixel_area\"]>20000].describe()  "
   ]
  },
  {
   "cell_type": "code",
   "execution_count": null,
   "metadata": {
    "cell_id": "4f7cca10-ec20-4a58-9175-e160900ea4ed",
    "colab": {},
    "colab_type": "code",
    "id": "uRXTQBhb1Vq9",
    "outputId": "0bb8b3ea-8634-4ac3-e662-9096114199eb"
   },
   "outputs": [
    {
     "data": {
      "text/plain": [
       "<matplotlib.axes._subplots.AxesSubplot at 0x1bfba698d88>"
      ]
     },
     "execution_count": 14,
     "metadata": {
      "tags": []
     },
     "output_type": "execute_result"
    },
    {
     "data": {
      "image/png": "[encoded data removed]",
      "text/plain": [
       "<Figure size 432x288 with 1 Axes>"
      ]
     },
     "metadata": {
      "needs_background": "light",
      "tags": []
     },
     "output_type": "display_data"
    }
   ],
   "source": [
    "sns.violinplot(y=\"pixel_area\",data=train, x=\"class\")"
   ]
  },
  {
   "cell_type": "code",
   "execution_count": null,
   "metadata": {
    "cell_id": "fe484240-f7ec-4bfe-81db-49e0c44564d6",
    "colab": {},
    "colab_type": "code",
    "id": "x_E5wmvO1VrA",
    "outputId": "b3567479-fb20-4e94-dfb3-08df38bd95b8"
   },
   "outputs": [
    {
     "name": "stdout",
     "output_type": "stream",
     "text": [
      "Wall time: 347 ms\n"
     ]
    },
    {
     "data": {
      "image/png": "[encoded data removed]",
      "text/plain": [
       "<Figure size 432x288 with 4 Axes>"
      ]
     },
     "metadata": {
      "needs_background": "light",
      "tags": []
     },
     "output_type": "display_data"
    }
   ],
   "source": [
    "%%time\n",
    "\n",
    "cols=[\"xmin\"\t,\"xmax\"\t,\"ymin\"\t,\"ymax\"\t]\n",
    "\n",
    "fig, axes = plt.subplots(2, 2)\n",
    "cnt=0\n",
    "for row in axes:\n",
    "    for col in row:\n",
    "#         col.hist(df.iloc[:,cnt])\n",
    "#         col.set_title(cols[cnt])\n",
    "        sns.distplot(train[cols[cnt]] ,ax=col)\n",
    "        cnt=cnt+1\n",
    "\n",
    "plt.tight_layout()"
   ]
  },
  {
   "cell_type": "code",
   "execution_count": null,
   "metadata": {
    "cell_id": "e12e3105-d39a-4f76-95ef-1a2e2dad9e42",
    "colab": {},
    "colab_type": "code",
    "id": "eKB2juXP1VrC"
   },
   "outputs": [],
   "source": [
    "tmpArea=abs(train[\"xmax\"]-train[\"xmin\"]) * abs(train[\"ymax\"]-train[\"ymin\"])"
   ]
  },
  {
   "cell_type": "code",
   "execution_count": null,
   "metadata": {
    "cell_id": "a305bf60-526f-49ea-b0ce-cfe9123ad73d",
    "colab": {},
    "colab_type": "code",
    "id": "gaqxzUC51VrE",
    "outputId": "f5bfd63a-1421-49df-d116-2ce65982fdc4"
   },
   "outputs": [
    {
     "data": {
      "text/plain": [
       "count    1.358000e+03\n",
       "mean     3.198133e+04\n",
       "std      8.714268e+04\n",
       "min      0.000000e+00\n",
       "25%      4.011000e+03\n",
       "50%      9.195500e+03\n",
       "75%      2.090000e+04\n",
       "max      1.635686e+06\n",
       "dtype: float64"
      ]
     },
     "execution_count": 75,
     "metadata": {
      "tags": []
     },
     "output_type": "execute_result"
    }
   ],
   "source": [
    "tmpArea.describe()"
   ]
  },
  {
   "cell_type": "code",
   "execution_count": null,
   "metadata": {
    "cell_id": "7e61792c-68b0-4124-bc72-2e0eaa204d14",
    "colab": {},
    "colab_type": "code",
    "id": "WB3LDU4D1VrH",
    "outputId": "ad5831fd-7626-4154-9b64-a177c23c007a"
   },
   "outputs": [
    {
     "data": {
      "text/plain": [
       "144    0\n",
       "464    0\n",
       "dtype: int64"
      ]
     },
     "execution_count": 71,
     "metadata": {
      "tags": []
     },
     "output_type": "execute_result"
    }
   ],
   "source": [
    "tmpArea.loc[tmpArea ==0]"
   ]
  },
  {
   "cell_type": "code",
   "execution_count": null,
   "metadata": {
    "cell_id": "48775287-9d39-4ace-8e68-ed1855cd23b7",
    "colab": {},
    "colab_type": "code",
    "id": "CkjRlnbH1VrJ",
    "outputId": "aa6b1013-b187-4d82-eee7-35e97e9f990d"
   },
   "outputs": [
    {
     "data": {
      "text/plain": [
       "grade_A_Component_1    1.000000e+00\n",
       "grade_A_Component_2    0.000000e+00\n",
       "max_luminosity         1.360000e+02\n",
       "thickness              7.500000e+01\n",
       "xmin                   7.590000e+02\n",
       "xmax                   7.710000e+02\n",
       "ymin                   3.897375e+06\n",
       "ymax                   3.897375e+06\n",
       "pixel_area             2.060000e+02\n",
       "log_area               2.063788e+02\n",
       "x_component_1          0.000000e+00\n",
       "x_component_2          0.000000e+00\n",
       "x_component_3          0.000000e+00\n",
       "x_component_4          0.000000e+00\n",
       "x_component_5          0.000000e+00\n",
       "class                  1.000000e+00\n",
       "Name: 464, dtype: float64"
      ]
     },
     "execution_count": 63,
     "metadata": {
      "tags": []
     },
     "output_type": "execute_result"
    }
   ],
   "source": [
    "train.iloc[464,:]"
   ]
  },
  {
   "cell_type": "markdown",
   "metadata": {
    "cell_id": "c445c94c-f1eb-4640-a1ce-ef3efb728aef",
    "colab_type": "text",
    "id": "nj2nHAZ71VrL"
   },
   "source": [
    "Need to drop rows with \"area\" == 0"
   ]
  },
  {
   "cell_type": "code",
   "execution_count": null,
   "metadata": {
    "cell_id": "1bb49331-d5f1-47a8-bcd7-7c50d45632ec",
    "colab": {},
    "colab_type": "code",
    "id": "10qcRusE1VrM",
    "outputId": "22b1b6c5-c56f-41fd-f7cf-f56e26b4616d"
   },
   "outputs": [
    {
     "data": {
      "text/plain": [
       "<matplotlib.axes._subplots.AxesSubplot at 0x1bfbda3fdc8>"
      ]
     },
     "execution_count": 78,
     "metadata": {
      "tags": []
     },
     "output_type": "execute_result"
    },
    {
     "data": {
      "image/png": "[encoded data removed]",
      "text/plain": [
       "<Figure size 432x288 with 1 Axes>"
      ]
     },
     "metadata": {
      "needs_background": "light",
      "tags": []
     },
     "output_type": "display_data"
    }
   ],
   "source": [
    "tmpArea=tmpArea.loc[tmpArea > 0]\n",
    "tmpArea.hist()"
   ]
  },
  {
   "cell_type": "code",
   "execution_count": null,
   "metadata": {
    "cell_id": "139abee4-9b78-4b3a-b22d-9862dd24671f",
    "colab": {},
    "colab_type": "code",
    "id": "-f1IFcji1VrP",
    "outputId": "7367a6ed-d3b4-41d7-eb20-06a73bc1f2e4"
   },
   "outputs": [
    {
     "data": {
      "text/plain": [
       "<matplotlib.axes._subplots.AxesSubplot at 0x1bfbd992b88>"
      ]
     },
     "execution_count": 77,
     "metadata": {
      "tags": []
     },
     "output_type": "execute_result"
    },
    {
     "data": {
      "image/png": "[encoded data removed]",
      "text/plain": [
       "<Figure size 432x288 with 1 Axes>"
      ]
     },
     "metadata": {
      "needs_background": "light",
      "tags": []
     },
     "output_type": "display_data"
    }
   ],
   "source": [
    "np.log(tmpArea).hist()"
   ]
  },
  {
   "cell_type": "code",
   "execution_count": null,
   "metadata": {
    "cell_id": "64a7052b-ba13-4187-9124-9f55aa737c46",
    "colab": {},
    "colab_type": "code",
    "id": "CF2OryyE1VrS",
    "outputId": "c0b0a860-428d-4923-ea04-22cc50bfbb4d"
   },
   "outputs": [
    {
     "data": {
      "text/plain": [
       "<matplotlib.axes._subplots.AxesSubplot at 0x1bfbe28af88>"
      ]
     },
     "execution_count": 82,
     "metadata": {
      "tags": []
     },
     "output_type": "execute_result"
    },
    {
     "data": {
      "image/png": "[encoded data removed]",
      "text/plain": [
       "<Figure size 432x288 with 1 Axes>"
      ]
     },
     "metadata": {
      "needs_background": "light",
      "tags": []
     },
     "output_type": "display_data"
    }
   ],
   "source": [
    "tmpVol=abs(train[\"xmax\"]-train[\"xmin\"]) * abs(train[\"ymax\"]-train[\"ymin\"]) * train[\"thickness\"]\n",
    "tmpVol = tmpVol.loc[tmpVol > 0]\n",
    "np.log(tmpVol).hist()"
   ]
  },
  {
   "cell_type": "code",
   "execution_count": null,
   "metadata": {
    "cell_id": "a5890d97-a034-44fb-8657-5a24f5c82232",
    "colab": {},
    "colab_type": "code",
    "id": "dAZH_uoh1VrU",
    "outputId": "9a0b44f1-4f3e-4a14-db26-cb7330da288b"
   },
   "outputs": [
    {
     "name": "stdout",
     "output_type": "stream",
     "text": [
      "Wall time: 279 ms\n"
     ]
    },
    {
     "data": {
      "image/png": "[encoded data removed]",
      "text/plain": [
       "<Figure size 432x288 with 6 Axes>"
      ]
     },
     "metadata": {
      "needs_background": "light",
      "tags": []
     },
     "output_type": "display_data"
    }
   ],
   "source": [
    "%%time\n",
    "\n",
    "cols=[\"x_component_1\",\"x_component_2\",\"x_component_3\",\"x_component_4\",\"x_component_5\",\"x_component_5\"]\n",
    "\n",
    "fig, axes = plt.subplots(2, 3)\n",
    "cnt=0\n",
    "for row in axes:\n",
    "    for col in row:\n",
    "#         col.hist(df.iloc[:,cnt])\n",
    "#         col.set_title(cols[cnt])\n",
    "        sns.violinplot(y=cols[cnt],data=train, x=\"class\" ,ax=col)\n",
    "        cnt=cnt+1\n",
    "\n",
    "plt.tight_layout()"
   ]
  },
  {
   "cell_type": "code",
   "execution_count": null,
   "metadata": {
    "cell_id": "70a575e9-bf1c-4807-b62b-b4f20948c9d8",
    "colab": {},
    "colab_type": "code",
    "id": "Ok_PMJwN1VrW",
    "outputId": "46621fb7-3d74-4957-a35d-c776f86d1090"
   },
   "outputs": [
    {
     "name": "stdout",
     "output_type": "stream",
     "text": [
      "Wall time: 284 ms\n"
     ]
    },
    {
     "data": {
      "image/png": "[encoded data removed]",
      "text/plain": [
       "<Figure size 432x288 with 6 Axes>"
      ]
     },
     "metadata": {
      "needs_background": "light",
      "tags": []
     },
     "output_type": "display_data"
    }
   ],
   "source": [
    "%%time\n",
    "\n",
    "cols=[\"x_component_1\",\"x_component_2\",\"x_component_3\",\"x_component_4\",\"x_component_5\",\"x_component_5\"]\n",
    "\n",
    "fig, axes = plt.subplots(2, 3)\n",
    "cnt=0\n",
    "for row in axes:\n",
    "    for col in row:\n",
    "        sns.boxplot(y=cols[cnt],data=train, x=\"class\" ,ax=col)\n",
    "        cnt=cnt+1\n",
    "        \n",
    "plt.tight_layout()"
   ]
  },
  {
   "cell_type": "markdown",
   "metadata": {
    "cell_id": "10155bf3-4b7b-4678-af99-81b12f583c78",
    "colab_type": "text",
    "id": "KKkMmqCD1VrY"
   },
   "source": [
    "It is clear from above plot that \"x_component_3\" can be used to separate class 1 and class 2"
   ]
  },
  {
   "cell_type": "markdown",
   "metadata": {
    "cell_id": "5c0e05ff-3a9c-47cc-80c6-a0a8519d1f03",
    "colab_type": "text",
    "id": "2A3sMSBe1VrZ"
   },
   "source": [
    "## Feature Engineering"
   ]
  },
  {
   "cell_type": "code",
   "execution_count": 8,
   "metadata": {
    "cell_id": "fda0abbb-bcb2-4732-bec7-1492df817dec",
    "colab": {},
    "colab_type": "code",
    "id": "4LokcJ7a1Vra"
   },
   "outputs": [],
   "source": [
    "def features(data):\n",
    "    data[\"log_max_luminosity\"]=np.log(data[\"max_luminosity\"])\n",
    "    data[\"area\"] = abs(data[\"xmax\"]-data[\"xmin\"]) * abs(data[\"ymax\"]-data[\"ymin\"])\n",
    "    data = data.loc[data[\"area\"]>0].copy() ##to hide \"Try using .loc[row_indexer,col_indexer] = value instead\" error\n",
    "    data[\"volume\"]=data[\"area\"] * data[\"thickness\"]\n",
    "    \n",
    "    data[\"log_area\"] = np.log(data[\"area\"])\n",
    "    data[\"log_volume\"] = np.log(data[\"volume\"])\n",
    "    data[\"log_pixel_area\"] = np.log(data[\"pixel_area\"])\n",
    "    data[\"is_grade_one\"] = data[\"x_component_3\"].apply(lambda x: 1 if x==1 else 0)\n",
    "    data=data.drop([\"area\",\"volume\",\"max_luminosity\",\"xmax\",\"xmin\",\"ymax\",\"ymin\",\"pixel_area\",\"grade_A_Component_2\"],axis=1)\n",
    "    return data\n",
    "    "
   ]
  },
  {
   "cell_type": "code",
   "execution_count": 9,
   "metadata": {
    "cell_id": "1afea553-7c99-4906-9d64-aa73796fc748",
    "colab": {
     "base_uri": "https://localhost:8080/",
     "height": 224
    },
    "colab_type": "code",
    "id": "7-4fyimY1Vrd",
    "outputId": "b5e93292-b40e-4ff7-b81b-b4f33b8bbf53"
   },
   "outputs": [
    {
     "data": {
      "text/html": [
       "<div>\n",
       "<style scoped>\n",
       "    .dataframe tbody tr th:only-of-type {\n",
       "        vertical-align: middle;\n",
       "    }\n",
       "\n",
       "    .dataframe tbody tr th {\n",
       "        vertical-align: top;\n",
       "    }\n",
       "\n",
       "    .dataframe thead th {\n",
       "        text-align: right;\n",
       "    }\n",
       "</style>\n",
       "<table border=\"1\" class=\"dataframe\">\n",
       "  <thead>\n",
       "    <tr style=\"text-align: right;\">\n",
       "      <th></th>\n",
       "      <th>grade_A_Component_1</th>\n",
       "      <th>thickness</th>\n",
       "      <th>log_area</th>\n",
       "      <th>x_component_1</th>\n",
       "      <th>x_component_2</th>\n",
       "      <th>x_component_3</th>\n",
       "      <th>x_component_4</th>\n",
       "      <th>x_component_5</th>\n",
       "      <th>class</th>\n",
       "      <th>log_max_luminosity</th>\n",
       "      <th>log_volume</th>\n",
       "      <th>log_pixel_area</th>\n",
       "      <th>is_grade_one</th>\n",
       "    </tr>\n",
       "  </thead>\n",
       "  <tbody>\n",
       "    <tr>\n",
       "      <th>0</th>\n",
       "      <td>0</td>\n",
       "      <td>36</td>\n",
       "      <td>8.005033</td>\n",
       "      <td>0</td>\n",
       "      <td>0</td>\n",
       "      <td>1</td>\n",
       "      <td>0</td>\n",
       "      <td>0</td>\n",
       "      <td>1</td>\n",
       "      <td>5.010635</td>\n",
       "      <td>11.588552</td>\n",
       "      <td>6.084499</td>\n",
       "      <td>1</td>\n",
       "    </tr>\n",
       "    <tr>\n",
       "      <th>1</th>\n",
       "      <td>1</td>\n",
       "      <td>55</td>\n",
       "      <td>8.418036</td>\n",
       "      <td>1</td>\n",
       "      <td>0</td>\n",
       "      <td>0</td>\n",
       "      <td>0</td>\n",
       "      <td>0</td>\n",
       "      <td>1</td>\n",
       "      <td>4.897840</td>\n",
       "      <td>12.425369</td>\n",
       "      <td>5.796058</td>\n",
       "      <td>0</td>\n",
       "    </tr>\n",
       "    <tr>\n",
       "      <th>2</th>\n",
       "      <td>1</td>\n",
       "      <td>65</td>\n",
       "      <td>10.609354</td>\n",
       "      <td>0</td>\n",
       "      <td>0</td>\n",
       "      <td>0</td>\n",
       "      <td>0</td>\n",
       "      <td>0</td>\n",
       "      <td>2</td>\n",
       "      <td>4.905275</td>\n",
       "      <td>14.783741</td>\n",
       "      <td>5.703782</td>\n",
       "      <td>0</td>\n",
       "    </tr>\n",
       "    <tr>\n",
       "      <th>3</th>\n",
       "      <td>0</td>\n",
       "      <td>35</td>\n",
       "      <td>8.365440</td>\n",
       "      <td>0</td>\n",
       "      <td>0</td>\n",
       "      <td>1</td>\n",
       "      <td>0</td>\n",
       "      <td>0</td>\n",
       "      <td>1</td>\n",
       "      <td>4.812184</td>\n",
       "      <td>11.920788</td>\n",
       "      <td>8.825119</td>\n",
       "      <td>1</td>\n",
       "    </tr>\n",
       "    <tr>\n",
       "      <th>4</th>\n",
       "      <td>1</td>\n",
       "      <td>69</td>\n",
       "      <td>8.729074</td>\n",
       "      <td>0</td>\n",
       "      <td>0</td>\n",
       "      <td>0</td>\n",
       "      <td>0</td>\n",
       "      <td>0</td>\n",
       "      <td>2</td>\n",
       "      <td>4.927254</td>\n",
       "      <td>12.963180</td>\n",
       "      <td>5.525453</td>\n",
       "      <td>0</td>\n",
       "    </tr>\n",
       "  </tbody>\n",
       "</table>\n",
       "</div>"
      ],
      "text/plain": [
       "   grade_A_Component_1  thickness   log_area  x_component_1  x_component_2  \\\n",
       "0                    0         36   8.005033              0              0   \n",
       "1                    1         55   8.418036              1              0   \n",
       "2                    1         65  10.609354              0              0   \n",
       "3                    0         35   8.365440              0              0   \n",
       "4                    1         69   8.729074              0              0   \n",
       "\n",
       "   x_component_3  x_component_4  x_component_5  class  log_max_luminosity  \\\n",
       "0              1              0              0      1            5.010635   \n",
       "1              0              0              0      1            4.897840   \n",
       "2              0              0              0      2            4.905275   \n",
       "3              1              0              0      1            4.812184   \n",
       "4              0              0              0      2            4.927254   \n",
       "\n",
       "   log_volume  log_pixel_area  is_grade_one  \n",
       "0   11.588552        6.084499             1  \n",
       "1   12.425369        5.796058             0  \n",
       "2   14.783741        5.703782             0  \n",
       "3   11.920788        8.825119             1  \n",
       "4   12.963180        5.525453             0  "
      ]
     },
     "execution_count": 9,
     "metadata": {},
     "output_type": "execute_result"
    }
   ],
   "source": [
    "X=features(train)\n",
    "X.head()"
   ]
  },
  {
   "cell_type": "code",
   "execution_count": 10,
   "metadata": {
    "cell_id": "523b05b7-743a-4401-a3a1-b4226bf80a30",
    "colab": {
     "base_uri": "https://localhost:8080/",
     "height": 609
    },
    "colab_type": "code",
    "id": "MDrc1bNr1Vrf",
    "outputId": "72e4af5e-a15d-4fbe-dfa4-6b28633b8ef3"
   },
   "outputs": [
    {
     "data": {
      "text/plain": [
       "<matplotlib.axes._subplots.AxesSubplot at 0x204c8954d08>"
      ]
     },
     "execution_count": 10,
     "metadata": {},
     "output_type": "execute_result"
    },
    {
     "data": {
      "image/png": "[encoded data removed]",
      "text/plain": [
       "<Figure size 1080x576 with 2 Axes>"
      ]
     },
     "metadata": {
      "needs_background": "light"
     },
     "output_type": "display_data"
    }
   ],
   "source": [
    "figsize(15,8)\n",
    "sns.heatmap(X.corr(),cmap=\"viridis\",annot=True)"
   ]
  },
  {
   "cell_type": "markdown",
   "metadata": {
    "cell_id": "b2ba944e-bd3a-4f55-a267-83e5182714b5",
    "colab_type": "text",
    "id": "xyLn4PKd1Vrh"
   },
   "source": [
    "## Modelling"
   ]
  },
  {
   "cell_type": "code",
   "execution_count": 11,
   "metadata": {
    "cell_id": "7a20309f-4cb5-4b49-b8f1-253519b0dcca",
    "colab": {},
    "colab_type": "code",
    "id": "hojiqsPY1Vri"
   },
   "outputs": [],
   "source": [
    "y_true = X['class'].values\n",
    "\n",
    "X_train, X_test, y_train, y_test = train_test_split(X, y_true, stratify=y_true, test_size=0.2)\n",
    "# Cross Validation Set\n",
    "# X_train_cv, X_test_cv, y_train_cv, y_test_cv = train_test_split(X_train, y_train, stratify=y_train, test_size=0.2)"
   ]
  },
  {
   "cell_type": "code",
   "execution_count": 12,
   "metadata": {
    "cell_id": "b4c25055-c626-49c0-9f93-fa02b8e68e5f",
    "colab": {
     "base_uri": "https://localhost:8080/",
     "height": 51
    },
    "colab_type": "code",
    "id": "pyg2yidk1Vrm",
    "outputId": "9d548084-276b-4f1d-d4db-7a7b2014c3e2"
   },
   "outputs": [
    {
     "name": "stdout",
     "output_type": "stream",
     "text": [
      "Number of points in train data: 1084\n",
      "Number of points in test data: 272\n"
     ]
    }
   ],
   "source": [
    "print('Number of points in train data:', X_train.shape[0])\n",
    "print('Number of points in test data:', X_test.shape[0])"
   ]
  },
  {
   "cell_type": "code",
   "execution_count": 13,
   "metadata": {
    "cell_id": "726962be-4cbf-4a00-99b0-895da9b88d1b",
    "colab": {
     "base_uri": "https://localhost:8080/",
     "height": 119
    },
    "colab_type": "code",
    "id": "XNmD1Rl81Vrp",
    "outputId": "66c57bca-e124-4dc9-f909-1db30a6b4ee6"
   },
   "outputs": [
    {
     "name": "stdout",
     "output_type": "stream",
     "text": [
      "Number of data points in train_df class 1 : 708 ( 65.314 %)\n",
      "Number of data points in train_df class 2 : 376 ( 34.686 %)\n",
      "--------------------------------------------------------------------------------\n",
      "Number of data points in test_df class 1 : 178 ( 65.441 %)\n",
      "Number of data points in test_df class 2 : 94 ( 34.559 %)\n",
      "--------------------------------------------------------------------------------\n"
     ]
    }
   ],
   "source": [
    "\n",
    "train_class_distribution = X_train['class'].value_counts()\n",
    "test_class_distribution = X_test['class'].value_counts()\n",
    "\n",
    "sorted_yi = np.argsort(-train_class_distribution.values)\n",
    "\n",
    "for i in sorted_yi:\n",
    "    print('Number of data points in train_df class', i+1, ':',train_class_distribution.values[i], '(', np.round((train_class_distribution.values[i]/X_train.shape[0]*100), 3), '%)')\n",
    "\n",
    "    \n",
    "print('-'*80)\n",
    "\n",
    "sorted_yi = np.argsort(-test_class_distribution.values)\n",
    "for i in sorted_yi:\n",
    "    print('Number of data points in test_df class', i+1, ':',test_class_distribution.values[i], '(', np.round((test_class_distribution.values[i]/X_test.shape[0]*100), 3), '%)')\n",
    "\n",
    "print('-'*80)\n"
   ]
  },
  {
   "cell_type": "code",
   "execution_count": null,
   "metadata": {
    "cell_id": "9244072e-45aa-4b95-bb83-66dfd4ace3e2",
    "colab": {},
    "colab_type": "code",
    "id": "96O9Kb421Vrt",
    "outputId": "20727241-41fb-4468-9fc4-bab8cf9101dc"
   },
   "outputs": [
    {
     "data": {
      "text/plain": [
       "array([[0.30052897, 0.39555626]])"
      ]
     },
     "execution_count": 148,
     "metadata": {
      "tags": []
     },
     "output_type": "execute_result"
    },
    {
     "data": {
      "text/plain": [
       "0.6960852363964121"
      ]
     },
     "execution_count": 148,
     "metadata": {
      "tags": []
     },
     "output_type": "execute_result"
    },
    {
     "data": {
      "text/plain": [
       "array([[0.43174163, 0.56825837]])"
      ]
     },
     "execution_count": 148,
     "metadata": {
      "tags": []
     },
     "output_type": "execute_result"
    },
    {
     "data": {
      "text/plain": [
       "1.0"
      ]
     },
     "execution_count": 148,
     "metadata": {
      "tags": []
     },
     "output_type": "execute_result"
    }
   ],
   "source": [
    "# rand_probs=np.random.rand(1,2)\n",
    "# rand_probs\n",
    "# sum(sum(rand_probs))\n",
    "# rand_probs/sum(sum(rand_probs))\n",
    "# sum(sum(rand_probs/sum(sum(rand_probs))))\n",
    "# cv_predicted_y[i] = ((rand_probs/sum(sum(rand_probs)))[0])"
   ]
  },
  {
   "cell_type": "code",
   "execution_count": 14,
   "metadata": {
    "cell_id": "81dd074e-4c61-482d-9057-30e4ca555589",
    "colab": {
     "base_uri": "https://localhost:8080/",
     "height": 51
    },
    "colab_type": "code",
    "id": "rh1qCIO_1Vrw",
    "outputId": "cd62ba77-fbca-406e-be3a-1d132119b7cb"
   },
   "outputs": [
    {
     "name": "stdout",
     "output_type": "stream",
     "text": [
      "Log loss on Train data using Random Model 0.8463118030930884\n",
      "Log loss on Test Data using Random Model 0.91343195960209\n"
     ]
    }
   ],
   "source": [
    "X_test_len = X_test.shape[0]\n",
    "X_train_len = X_train.shape[0]\n",
    "\n",
    "# we create a output array that has exactly same size as the CV data\n",
    "predicted_y = np.zeros((X_train_len,2))\n",
    "for i in range(X_train_len):\n",
    "    rand_probs = np.random.rand(1,2)\n",
    "    predicted_y[i] = ((rand_probs/sum(sum(rand_probs)))[0])\n",
    "print(\"Log loss on Train data using Random Model\",log_loss(y_train,predicted_y, eps=1e-15))\n",
    "\n",
    "\n",
    "# Test-Set error.\n",
    "#we create a output array that has exactly same as the test data\n",
    "test_predicted_y = np.zeros((X_test_len,2))\n",
    "for i in range(X_test_len):\n",
    "    rand_probs = np.random.rand(1,2)\n",
    "    test_predicted_y[i] = ((rand_probs/sum(sum(rand_probs)))[0])\n",
    "print(\"Log loss on Test Data using Random Model\",log_loss(y_test,test_predicted_y, eps=1e-15))"
   ]
  },
  {
   "cell_type": "code",
   "execution_count": 15,
   "metadata": {
    "cell_id": "c5327368-a1cb-496f-9f37-779a2a5a4894",
    "colab": {
     "base_uri": "https://localhost:8080/",
     "height": 102
    },
    "colab_type": "code",
    "id": "u-5MdORT1Vry",
    "outputId": "f4125bd9-b9dd-4837-cc58-9bf9fd1f5741"
   },
   "outputs": [
    {
     "name": "stderr",
     "output_type": "stream",
     "text": [
      "C:\\ProgramData\\Anaconda3\\lib\\site-packages\\pandas\\core\\frame.py:3997: SettingWithCopyWarning: \n",
      "A value is trying to be set on a copy of a slice from a DataFrame\n",
      "\n",
      "See the caveats in the documentation: https://pandas.pydata.org/pandas-docs/stable/user_guide/indexing.html#returning-a-view-versus-a-copy\n",
      "  errors=errors,\n"
     ]
    }
   ],
   "source": [
    "# dropping class column \n",
    "\n",
    "X_train.drop(\"class\",inplace=True,axis=1)\n",
    "X_test.drop(\"class\",inplace=True,axis=1)"
   ]
  },
  {
   "cell_type": "markdown",
   "metadata": {
    "cell_id": "87174f02-fba8-4259-bd41-6862a942661d",
    "colab_type": "text",
    "id": "pwW1DJXB1Vr3"
   },
   "source": [
    "### Naive Bayes"
   ]
  },
  {
   "cell_type": "code",
   "execution_count": 16,
   "metadata": {
    "cell_id": "6f40a8cb-3063-4d90-9252-e8c5b9ebad71",
    "colab": {
     "base_uri": "https://localhost:8080/",
     "height": 68
    },
    "colab_type": "code",
    "id": "o7xcoeAo1Vr3",
    "outputId": "fed135c1-267b-499c-d7c0-18a514bf92a7"
   },
   "outputs": [
    {
     "data": {
      "text/plain": [
       "GaussianNB()"
      ]
     },
     "execution_count": 16,
     "metadata": {},
     "output_type": "execute_result"
    },
    {
     "data": {
      "text/plain": [
       "CalibratedClassifierCV(base_estimator=GaussianNB())"
      ]
     },
     "execution_count": 16,
     "metadata": {},
     "output_type": "execute_result"
    }
   ],
   "source": [
    "# X_train, test_df, y_train, y_test = train_test_split(X, y_true, stratify=y_true, test_size=0.2)\n",
    "# train_df, cv_df, y_train, y_cv = train_test_split(X_train, y_train, stratify=y_train, test_size=0.2)\n",
    "\n",
    "clf = GaussianNB()\n",
    "clf.fit(X_train, y_train)\n",
    "sig_clf = CalibratedClassifierCV(clf, method=\"sigmoid\")\n",
    "sig_clf.fit(X_train, y_train)"
   ]
  },
  {
   "cell_type": "code",
   "execution_count": 17,
   "metadata": {
    "cell_id": "655361c6-4e09-480c-8af6-eb81adc1a746",
    "colab": {
     "base_uri": "https://localhost:8080/",
     "height": 68
    },
    "colab_type": "code",
    "id": "DlbI3XbU1Vr-",
    "outputId": "d6af63bb-50c7-48e5-dd02-a0293cc562bd"
   },
   "outputs": [
    {
     "name": "stdout",
     "output_type": "stream",
     "text": [
      "The train log loss is: 0.3715482798040975\n",
      "The test log loss is: 0.34645440771751007\n",
      "Number of missclassified point : 0.18382352941176472\n"
     ]
    }
   ],
   "source": [
    "predict_y = sig_clf.predict_proba(X_train)\n",
    "print(\"The train log loss is:\",log_loss(y_train, predict_y,  eps=1e-15))\n",
    "predict_y = sig_clf.predict_proba(X_test)\n",
    "print(\"The test log loss is:\",log_loss(y_test, predict_y,  eps=1e-15))\n",
    "print(\"Number of missclassified point :\", np.count_nonzero((sig_clf.predict(X_test) - y_test))/y_test.shape[0])"
   ]
  },
  {
   "cell_type": "markdown",
   "metadata": {
    "cell_id": "e9ff056d-c7b6-49f3-874f-af66bb829ac9",
    "colab_type": "text",
    "id": "CVcjXAXJ1VsB"
   },
   "source": [
    "### Logistic Regression"
   ]
  },
  {
   "cell_type": "markdown",
   "metadata": {},
   "source": [
    "#### Scaling Data"
   ]
  },
  {
   "cell_type": "code",
   "execution_count": 22,
   "metadata": {},
   "outputs": [],
   "source": [
    "sc=StandardScaler()\n",
    "X_train_scaled=sc.fit_transform(X_train);\n",
    "X_test_scaled=sc.transform(X_test)"
   ]
  },
  {
   "cell_type": "code",
   "execution_count": 23,
   "metadata": {
    "cell_id": "bed82765-e771-4e9e-bcee-0929b5ea74af",
    "colab": {},
    "colab_type": "code",
    "id": "tSbOz7e61VsE"
   },
   "outputs": [],
   "source": [
    "lg=LogisticRegression(n_jobs=-1)\n",
    "clf = CalibratedClassifierCV(lg, method=\"sigmoid\")"
   ]
  },
  {
   "cell_type": "code",
   "execution_count": 24,
   "metadata": {
    "cell_id": "96acd097-3a50-4db3-8ece-18a70818b536",
    "colab": {},
    "colab_type": "code",
    "id": "i7OL4Zgx1VsH"
   },
   "outputs": [],
   "source": [
    "params_LogisticRegression = {'base_estimator__C': [0.1,1,10,50,100]}\n",
    "\n",
    "\n",
    "gs_LogisticRegression = GridSearchCV(estimator=clf, \n",
    "                      param_grid=params_LogisticRegression, \n",
    "                      cv=10,\n",
    "                      verbose=1,  # verbose: the higher, the more messages\n",
    "                      scoring='neg_log_loss', \n",
    "                      return_train_score=True,n_jobs=-1)"
   ]
  },
  {
   "cell_type": "code",
   "execution_count": 25,
   "metadata": {
    "cell_id": "3cece451-dd12-42e0-9d37-9834b720fe38",
    "colab": {
     "base_uri": "https://localhost:8080/",
     "height": 476
    },
    "colab_type": "code",
    "id": "hxuHsWKe1VsK",
    "outputId": "2cd176af-a4c9-4e3e-f209-dc5b8be13656"
   },
   "outputs": [
    {
     "name": "stdout",
     "output_type": "stream",
     "text": [
      "Fitting 10 folds for each of 5 candidates, totalling 50 fits\n"
     ]
    },
    {
     "name": "stderr",
     "output_type": "stream",
     "text": [
      "[Parallel(n_jobs=-1)]: Using backend LokyBackend with 8 concurrent workers.\n",
      "[Parallel(n_jobs=-1)]: Done  34 tasks      | elapsed:    4.3s\n"
     ]
    },
    {
     "name": "stdout",
     "output_type": "stream",
     "text": [
      "Wall time: 5.66 s\n"
     ]
    },
    {
     "name": "stderr",
     "output_type": "stream",
     "text": [
      "[Parallel(n_jobs=-1)]: Done  50 out of  50 | elapsed:    5.5s finished\n"
     ]
    },
    {
     "data": {
      "text/plain": [
       "GridSearchCV(cv=10,\n",
       "             estimator=CalibratedClassifierCV(base_estimator=LogisticRegression(n_jobs=-1)),\n",
       "             n_jobs=-1, param_grid={'base_estimator__C': [0.1, 1, 10, 50, 100]},\n",
       "             return_train_score=True, scoring='neg_log_loss', verbose=1)"
      ]
     },
     "execution_count": 25,
     "metadata": {},
     "output_type": "execute_result"
    }
   ],
   "source": [
    "%%time\n",
    "gs_LogisticRegression.fit(X_train_scaled,y_train)"
   ]
  },
  {
   "cell_type": "code",
   "execution_count": 26,
   "metadata": {
    "cell_id": "2eb5f34d-b86c-41e1-bf58-ea821cfd2b8b",
    "colab": {
     "base_uri": "https://localhost:8080/",
     "height": 34
    },
    "colab_type": "code",
    "id": "R_Dye9g81VsN",
    "outputId": "f160e371-86c7-4080-8d10-d7fa34f38605"
   },
   "outputs": [
    {
     "data": {
      "text/plain": [
       "{'base_estimator__C': 10}"
      ]
     },
     "execution_count": 26,
     "metadata": {},
     "output_type": "execute_result"
    },
    {
     "data": {
      "text/plain": [
       "-0.3373891407043027"
      ]
     },
     "execution_count": 26,
     "metadata": {},
     "output_type": "execute_result"
    }
   ],
   "source": [
    "gs_LogisticRegression.best_params_\n",
    "gs_LogisticRegression.best_score_"
   ]
  },
  {
   "cell_type": "markdown",
   "metadata": {},
   "source": [
    "### Fitting Logistic Regression again"
   ]
  },
  {
   "cell_type": "code",
   "execution_count": 27,
   "metadata": {},
   "outputs": [
    {
     "data": {
      "text/plain": [
       "CalibratedClassifierCV(base_estimator=LogisticRegression(C=10, n_jobs=-1))"
      ]
     },
     "execution_count": 27,
     "metadata": {},
     "output_type": "execute_result"
    }
   ],
   "source": [
    "lg=LogisticRegression(n_jobs=-1,C=10)\n",
    "clf = CalibratedClassifierCV(lg, method=\"sigmoid\")\n",
    "clf.fit(X_train_scaled,y_train)"
   ]
  },
  {
   "cell_type": "code",
   "execution_count": 28,
   "metadata": {
    "cell_id": "78261caa-49af-4e04-b2a8-0d7d32752abb",
    "colab": {
     "base_uri": "https://localhost:8080/",
     "height": 34
    },
    "colab_type": "code",
    "id": "upJJ2uXD1VsQ",
    "outputId": "88b19847-a68a-4b6f-9652-89d1c931489c"
   },
   "outputs": [
    {
     "data": {
      "text/plain": [
       "0.29674421462795975"
      ]
     },
     "execution_count": 28,
     "metadata": {},
     "output_type": "execute_result"
    },
    {
     "data": {
      "text/plain": [
       "0.33322242826523063"
      ]
     },
     "execution_count": 28,
     "metadata": {},
     "output_type": "execute_result"
    },
    {
     "name": "stdout",
     "output_type": "stream",
     "text": [
      "Number of missclassified point : 0.16176470588235295\n"
     ]
    }
   ],
   "source": [
    "# test_df=test_df.drop(\"class\",axis=1)\n",
    "log_loss(y_test, clf.predict_proba(X_test_scaled), eps=1e-15)  \n",
    "\n",
    "log_loss(y_train, clf.predict_proba(X_train_scaled), eps=1e-15)\n",
    "\n",
    "print(\"Number of missclassified point :\", np.count_nonzero((clf.predict(X_test_scaled) - y_test))/y_test.shape[0])"
   ]
  },
  {
   "cell_type": "markdown",
   "metadata": {},
   "source": [
    "### Weighted Logistic regression"
   ]
  },
  {
   "cell_type": "code",
   "execution_count": 31,
   "metadata": {},
   "outputs": [],
   "source": [
    "w = {1:1, 2:2}\n",
    "lg=LogisticRegression(n_jobs=-1,class_weight=w)\n",
    "clf = CalibratedClassifierCV(lg, method=\"sigmoid\")"
   ]
  },
  {
   "cell_type": "code",
   "execution_count": 33,
   "metadata": {
    "cell_id": "96acd097-3a50-4db3-8ece-18a70818b536",
    "colab": {},
    "colab_type": "code",
    "id": "i7OL4Zgx1VsH"
   },
   "outputs": [],
   "source": [
    "params_LogisticRegression = {'base_estimator__C': [0.1,1,10,50,100]}\n",
    "\n",
    "\n",
    "gs_LogisticRegression = GridSearchCV(estimator=clf, \n",
    "                      param_grid=params_LogisticRegression, \n",
    "                      cv=10,\n",
    "                      verbose=1,  # verbose: the higher, the more messages\n",
    "                      scoring='neg_log_loss', \n",
    "                      return_train_score=True,n_jobs=-1)"
   ]
  },
  {
   "cell_type": "code",
   "execution_count": 34,
   "metadata": {
    "cell_id": "3cece451-dd12-42e0-9d37-9834b720fe38",
    "colab": {
     "base_uri": "https://localhost:8080/",
     "height": 476
    },
    "colab_type": "code",
    "id": "hxuHsWKe1VsK",
    "outputId": "2cd176af-a4c9-4e3e-f209-dc5b8be13656"
   },
   "outputs": [
    {
     "name": "stdout",
     "output_type": "stream",
     "text": [
      "Fitting 10 folds for each of 5 candidates, totalling 50 fits\n"
     ]
    },
    {
     "name": "stderr",
     "output_type": "stream",
     "text": [
      "[Parallel(n_jobs=-1)]: Using backend LokyBackend with 8 concurrent workers.\n",
      "[Parallel(n_jobs=-1)]: Done  34 tasks      | elapsed:    4.4s\n"
     ]
    },
    {
     "name": "stdout",
     "output_type": "stream",
     "text": [
      "Wall time: 5.76 s\n"
     ]
    },
    {
     "name": "stderr",
     "output_type": "stream",
     "text": [
      "[Parallel(n_jobs=-1)]: Done  50 out of  50 | elapsed:    5.5s finished\n"
     ]
    },
    {
     "data": {
      "text/plain": [
       "GridSearchCV(cv=10,\n",
       "             estimator=CalibratedClassifierCV(base_estimator=LogisticRegression(class_weight={1: 1,\n",
       "                                                                                              2: 2},\n",
       "                                                                                n_jobs=-1)),\n",
       "             n_jobs=-1, param_grid={'base_estimator__C': [0.1, 1, 10, 50, 100]},\n",
       "             return_train_score=True, scoring='neg_log_loss', verbose=1)"
      ]
     },
     "execution_count": 34,
     "metadata": {},
     "output_type": "execute_result"
    }
   ],
   "source": [
    "%%time\n",
    "gs_LogisticRegression.fit(X_train_scaled,y_train)"
   ]
  },
  {
   "cell_type": "code",
   "execution_count": 35,
   "metadata": {
    "cell_id": "2eb5f34d-b86c-41e1-bf58-ea821cfd2b8b",
    "colab": {
     "base_uri": "https://localhost:8080/",
     "height": 34
    },
    "colab_type": "code",
    "id": "R_Dye9g81VsN",
    "outputId": "f160e371-86c7-4080-8d10-d7fa34f38605"
   },
   "outputs": [
    {
     "data": {
      "text/plain": [
       "{'base_estimator__C': 1}"
      ]
     },
     "execution_count": 35,
     "metadata": {},
     "output_type": "execute_result"
    },
    {
     "data": {
      "text/plain": [
       "-0.33690322565381725"
      ]
     },
     "execution_count": 35,
     "metadata": {},
     "output_type": "execute_result"
    }
   ],
   "source": [
    "gs_LogisticRegression.best_params_\n",
    "gs_LogisticRegression.best_score_"
   ]
  },
  {
   "cell_type": "code",
   "execution_count": 37,
   "metadata": {
    "cell_id": "78261caa-49af-4e04-b2a8-0d7d32752abb",
    "colab": {
     "base_uri": "https://localhost:8080/",
     "height": 34
    },
    "colab_type": "code",
    "id": "upJJ2uXD1VsQ",
    "outputId": "88b19847-a68a-4b6f-9652-89d1c931489c"
   },
   "outputs": [
    {
     "data": {
      "text/plain": [
       "0.2947854552866888"
      ]
     },
     "execution_count": 37,
     "metadata": {},
     "output_type": "execute_result"
    },
    {
     "data": {
      "text/plain": [
       "0.3328764601921969"
      ]
     },
     "execution_count": 37,
     "metadata": {},
     "output_type": "execute_result"
    },
    {
     "name": "stdout",
     "output_type": "stream",
     "text": [
      "Number of missclassified point : 0.15441176470588236\n"
     ]
    }
   ],
   "source": [
    "# test_df=test_df.drop(\"class\",axis=1)\n",
    "log_loss(y_test, gs_LogisticRegression.predict_proba(X_test_scaled), eps=1e-15)  \n",
    "\n",
    "log_loss(y_train, gs_LogisticRegression.predict_proba(X_train_scaled), eps=1e-15)\n",
    "\n",
    "print(\"Number of missclassified point :\", np.count_nonzero((gs_LogisticRegression.predict(X_test_scaled) - y_test))/y_test.shape[0])"
   ]
  },
  {
   "cell_type": "markdown",
   "metadata": {
    "cell_id": "5d0fd6d5-9a72-4ce9-b9f3-5b18c1ff424e",
    "colab_type": "text",
    "id": "HSN1jxsC1VsS"
   },
   "source": [
    "### Random Forest"
   ]
  },
  {
   "cell_type": "code",
   "execution_count": 29,
   "metadata": {
    "cell_id": "a968eac0-bf91-41ab-92f1-84c0ae88a80c",
    "colab": {},
    "colab_type": "code",
    "id": "8-1sh7Jv1VsS"
   },
   "outputs": [],
   "source": [
    "rf=RandomForestClassifier(n_jobs=-1)\n",
    "clf = CalibratedClassifierCV(rf, method=\"sigmoid\")"
   ]
  },
  {
   "cell_type": "code",
   "execution_count": 57,
   "metadata": {
    "cell_id": "4e1ec422-b90c-49a7-994e-df56e2b4ddeb",
    "colab": {},
    "colab_type": "code",
    "id": "q3jXeQWB1VsV"
   },
   "outputs": [],
   "source": [
    "# params_RandomForest = {'base_estimator__n_estimators': [500]}\n",
    "params_RandomForest = {\n",
    "    'base_estimator__n_estimators': list(range(1000,3000, 500)),\n",
    "    'base_estimator__max_depth': list(range(5,10, 1))\n",
    "}\n",
    "\n",
    "gs_RandomForest = GridSearchCV(estimator=clf, \n",
    "                      param_grid=params_RandomForest, \n",
    "                      cv=2,\n",
    "                      verbose=1,  # verbose: the higher, the more messages\n",
    "                      scoring='neg_log_loss', \n",
    "                      return_train_score=True,n_jobs=-1)"
   ]
  },
  {
   "cell_type": "code",
   "execution_count": 58,
   "metadata": {
    "cell_id": "8688449c-c2e8-4c84-b5e5-7e6ab7cec91b",
    "colab": {},
    "colab_type": "code",
    "id": "QWqeqVkS1VsX",
    "outputId": "408c39d6-1a86-4948-ec81-805982e0c3fd"
   },
   "outputs": [
    {
     "name": "stdout",
     "output_type": "stream",
     "text": [
      "Fitting 2 folds for each of 20 candidates, totalling 40 fits\n"
     ]
    },
    {
     "name": "stderr",
     "output_type": "stream",
     "text": [
      "[Parallel(n_jobs=-1)]: Using backend LokyBackend with 8 concurrent workers.\n",
      "[Parallel(n_jobs=-1)]: Done  40 out of  40 | elapsed:  4.7min finished\n"
     ]
    },
    {
     "name": "stdout",
     "output_type": "stream",
     "text": [
      "Wall time: 5min 2s\n"
     ]
    },
    {
     "data": {
      "text/plain": [
       "GridSearchCV(cv=2,\n",
       "             estimator=CalibratedClassifierCV(base_estimator=RandomForestClassifier(n_jobs=-1)),\n",
       "             n_jobs=-1,\n",
       "             param_grid={'base_estimator__max_depth': [5, 6, 7, 8, 9],\n",
       "                         'base_estimator__n_estimators': [1000, 1500, 2000,\n",
       "                                                          2500]},\n",
       "             return_train_score=True, scoring='neg_log_loss', verbose=1)"
      ]
     },
     "execution_count": 58,
     "metadata": {},
     "output_type": "execute_result"
    }
   ],
   "source": [
    "%%time\n",
    "gs_RandomForest.fit(X_train,y_train)"
   ]
  },
  {
   "cell_type": "code",
   "execution_count": 59,
   "metadata": {
    "cell_id": "efaa1e1b-b1b4-4703-b406-2246b2a74f9b",
    "colab": {},
    "colab_type": "code",
    "id": "N69n_-lI1Vsb",
    "outputId": "427d42ea-5829-43a9-a34c-8460f31585c9"
   },
   "outputs": [
    {
     "data": {
      "text/plain": [
       "{'base_estimator__max_depth': 9, 'base_estimator__n_estimators': 1500}"
      ]
     },
     "execution_count": 59,
     "metadata": {},
     "output_type": "execute_result"
    },
    {
     "data": {
      "text/plain": [
       "-0.3280033008567645"
      ]
     },
     "execution_count": 59,
     "metadata": {},
     "output_type": "execute_result"
    }
   ],
   "source": [
    "gs_RandomForest.best_params_\n",
    "gs_RandomForest.best_score_"
   ]
  },
  {
   "cell_type": "code",
   "execution_count": 60,
   "metadata": {
    "cell_id": "d0290fb4-6af2-419e-8d61-dd81c3fc6b31",
    "colab": {},
    "colab_type": "code",
    "id": "yV4CggFH1Vse",
    "outputId": "b32aa9bf-d8e7-481e-a6f7-b1b338ae0091"
   },
   "outputs": [
    {
     "data": {
      "text/plain": [
       "0.3240417273152885"
      ]
     },
     "execution_count": 60,
     "metadata": {},
     "output_type": "execute_result"
    },
    {
     "data": {
      "text/plain": [
       "0.23225488070091116"
      ]
     },
     "execution_count": 60,
     "metadata": {},
     "output_type": "execute_result"
    },
    {
     "name": "stdout",
     "output_type": "stream",
     "text": [
      "Number of missclassified point : 0.15073529411764705\n"
     ]
    }
   ],
   "source": [
    "log_loss(y_test, gs_RandomForest.predict_proba(X_test), eps=1e-15)  \n",
    "log_loss(y_train, gs_RandomForest.predict_proba(X_train), eps=1e-15)\n",
    "print(\"Number of missclassified point :\", np.count_nonzero((gs_RandomForest.predict(X_test) - y_test))/y_test.shape[0])"
   ]
  },
  {
   "cell_type": "markdown",
   "metadata": {
    "cell_id": "0b49aceb-5151-457d-b46c-e62cf8cfc763",
    "colab_type": "text",
    "id": "FJAPVUz71Vsg",
    "tags": []
   },
   "source": [
    "### Fitting Random forest again"
   ]
  },
  {
   "cell_type": "code",
   "execution_count": 61,
   "metadata": {
    "cell_id": "29866867-d712-42ff-8e96-74bc44710b31",
    "colab": {},
    "colab_type": "code",
    "id": "zvGdK65q1Vsh",
    "tags": []
   },
   "outputs": [],
   "source": [
    "rf=RandomForestClassifier(n_jobs=-1,n_estimators=1500,max_depth=9)\r\n",
    "clf = CalibratedClassifierCV(rf, method=\"sigmoid\")"
   ]
  },
  {
   "cell_type": "code",
   "execution_count": 62,
   "metadata": {
    "cell_id": "9ecab456-c299-4813-97a3-d7534bf094cd",
    "colab": {
     "base_uri": "https://localhost:8080/",
     "height": 357
    },
    "colab_type": "code",
    "id": "KOyN_j5l1Vsi",
    "outputId": "7f204541-f651-4201-d64c-f6ee12c0edef",
    "tags": []
   },
   "outputs": [
    {
     "data": {
      "text/plain": [
       "CalibratedClassifierCV(base_estimator=RandomForestClassifier(max_depth=9,\n",
       "                                                             n_estimators=1500,\n",
       "                                                             n_jobs=-1))"
      ]
     },
     "execution_count": 62,
     "metadata": {},
     "output_type": "execute_result"
    }
   ],
   "source": [
    "clf.fit(X_train,y_train)"
   ]
  },
  {
   "cell_type": "code",
   "execution_count": 63,
   "metadata": {
    "cell_id": "b735d824-c8f3-4152-9e70-924938fd048c",
    "colab": {
     "base_uri": "https://localhost:8080/",
     "height": 34
    },
    "colab_type": "code",
    "id": "SLTfM3ic1Vsk",
    "outputId": "b662e308-df2e-4eca-9b61-756a1ac6a888",
    "tags": []
   },
   "outputs": [
    {
     "data": {
      "text/plain": [
       "0.3226303913724208"
      ]
     },
     "execution_count": 63,
     "metadata": {},
     "output_type": "execute_result"
    },
    {
     "data": {
      "text/plain": [
       "0.23184649511802355"
      ]
     },
     "execution_count": 63,
     "metadata": {},
     "output_type": "execute_result"
    },
    {
     "name": "stdout",
     "output_type": "stream",
     "text": [
      "Number of missclassified point : 0.15073529411764705\n"
     ]
    }
   ],
   "source": [
    "log_loss(y_test, clf.predict_proba(X_test), eps=1e-15)  \r\n",
    "log_loss(y_train, clf.predict_proba(X_train), eps=1e-15)\r\n",
    "print(\"Number of missclassified point :\", np.count_nonzero((clf.predict(X_test) - y_test))/y_test.shape[0])"
   ]
  },
  {
   "cell_type": "code",
   "execution_count": 28,
   "metadata": {},
   "outputs": [
    {
     "data": {
      "text/plain": [
       "array([-0.29917337, -0.26336441, -0.30549149, -0.26999743, -0.31055607,\n",
       "       -0.37453625, -0.30227998, -0.35036632, -0.36391736, -0.34055382])"
      ]
     },
     "execution_count": 28,
     "metadata": {},
     "output_type": "execute_result"
    }
   ],
   "source": [
    "# cross_val_score(clf,X_train,y_train,scoring=\"neg_log_loss\",cv=10,n_jobs=-1) "
   ]
  },
  {
   "cell_type": "markdown",
   "metadata": {},
   "source": [
    "### Xgboost"
   ]
  },
  {
   "cell_type": "code",
   "execution_count": 64,
   "metadata": {
    "cell_id": "daf37441-266b-4219-8466-f2185d5c68a1",
    "colab": {},
    "colab_type": "code",
    "id": "LBpKhyTo1Vsm",
    "tags": []
   },
   "outputs": [
    {
     "data": {
      "text/plain": [
       "XGBClassifier(eval_metric='logloss', n_jobs=-1)"
      ]
     },
     "execution_count": 64,
     "metadata": {},
     "output_type": "execute_result"
    }
   ],
   "source": [
    "xgb_model = xgb.XGBClassifier(objective=\"binary:logistic\",n_jobs=-1,eval_metric=\"logloss\")\n",
    "xgb_model.fit(X_train, y_train)"
   ]
  },
  {
   "cell_type": "code",
   "execution_count": 65,
   "metadata": {
    "cell_id": "daf37441-266b-4219-8466-f2185d5c68a1",
    "colab": {},
    "colab_type": "code",
    "id": "LBpKhyTo1Vsm",
    "tags": []
   },
   "outputs": [
    {
     "data": {
      "text/plain": [
       "0.31499815812704207"
      ]
     },
     "execution_count": 65,
     "metadata": {},
     "output_type": "execute_result"
    },
    {
     "data": {
      "text/plain": [
       "0.27654227591549285"
      ]
     },
     "execution_count": 65,
     "metadata": {},
     "output_type": "execute_result"
    },
    {
     "name": "stdout",
     "output_type": "stream",
     "text": [
      "Number of missclassified point : 0.16176470588235295\n"
     ]
    }
   ],
   "source": [
    "\n",
    "log_loss(y_test, xgb_model.predict_proba(X_test), eps=1e-15)  \n",
    "log_loss(y_train, xgb_model.predict_proba(X_train), eps=1e-15)\n",
    "print(\"Number of missclassified point :\", np.count_nonzero((xgb_model.predict(X_test) - y_test))/y_test.shape[0])"
   ]
  },
  {
   "cell_type": "code",
   "execution_count": 66,
   "metadata": {},
   "outputs": [
    {
     "data": {
      "text/plain": [
       "<matplotlib.axes._subplots.AxesSubplot at 0x1bcf6be0c48>"
      ]
     },
     "execution_count": 66,
     "metadata": {},
     "output_type": "execute_result"
    },
    {
     "data": {
      "image/png": "[encoded data removed]",
      "text/plain": [
       "<Figure size 1080x576 with 1 Axes>"
      ]
     },
     "metadata": {
      "needs_background": "light"
     },
     "output_type": "display_data"
    }
   ],
   "source": [
    "xgb.plot_importance(xgb_model)"
   ]
  },
  {
   "cell_type": "code",
   "execution_count": 67,
   "metadata": {},
   "outputs": [],
   "source": [
    "params = {\n",
    "    \"colsample_bytree\": uniform(0.7, 0.3),\n",
    "    \"gamma\": uniform(0, 0.5),\n",
    "    \"learning_rate\": uniform(0.03, 0.3), # default 0.1 \n",
    "    \"max_depth\": randint(2, 6), # default 3\n",
    "    \"n_estimators\": randint(100, 150), # default 100\n",
    "    \"subsample\": uniform(0.6, 0.4)\n",
    "}\n",
    "\n",
    "search = RandomizedSearchCV(xgb_model, param_distributions=params, random_state=42, n_iter=200, cv=3, verbose=1, n_jobs=-1, return_train_score=True)"
   ]
  },
  {
   "cell_type": "code",
   "execution_count": 68,
   "metadata": {},
   "outputs": [
    {
     "name": "stdout",
     "output_type": "stream",
     "text": [
      "Fitting 3 folds for each of 200 candidates, totalling 600 fits\n"
     ]
    },
    {
     "name": "stderr",
     "output_type": "stream",
     "text": [
      "[Parallel(n_jobs=-1)]: Using backend LokyBackend with 8 concurrent workers.\n",
      "[Parallel(n_jobs=-1)]: Done  34 tasks      | elapsed:    3.1s\n",
      "[Parallel(n_jobs=-1)]: Done 184 tasks      | elapsed:    6.3s\n",
      "[Parallel(n_jobs=-1)]: Done 434 tasks      | elapsed:   11.6s\n",
      "[Parallel(n_jobs=-1)]: Done 600 out of 600 | elapsed:   14.8s finished\n"
     ]
    },
    {
     "data": {
      "text/plain": [
       "RandomizedSearchCV(cv=3,\n",
       "                   estimator=XGBClassifier(eval_metric='logloss', n_jobs=-1),\n",
       "                   n_iter=200, n_jobs=-1,\n",
       "                   param_distributions={'colsample_bytree': <scipy.stats._distn_infrastructure.rv_frozen object at 0x000001BCF6EE3188>,\n",
       "                                        'gamma': <scipy.stats._distn_infrastructure.rv_frozen object at 0x000001BCF6EE3408>,\n",
       "                                        'learning_rate': <scipy.stats._distn_infrastructure.rv_frozen object at 0x000001BCF6EE3708>,\n",
       "                                        'max_depth': <scipy.stats._distn_infrastructure.rv_frozen object at 0x000001BCF6EE31C8>,\n",
       "                                        'n_estimators': <scipy.stats._distn_infrastructure.rv_frozen object at 0x000001BCF6EE3948>,\n",
       "                                        'subsample': <scipy.stats._distn_infrastructure.rv_frozen object at 0x000001BCF6EE3D08>},\n",
       "                   random_state=42, return_train_score=True, verbose=1)"
      ]
     },
     "execution_count": 68,
     "metadata": {},
     "output_type": "execute_result"
    }
   ],
   "source": [
    "search.fit(X_train, y_train)"
   ]
  },
  {
   "cell_type": "code",
   "execution_count": 69,
   "metadata": {},
   "outputs": [
    {
     "data": {
      "text/plain": [
       "0.307579415047418"
      ]
     },
     "execution_count": 69,
     "metadata": {},
     "output_type": "execute_result"
    },
    {
     "data": {
      "text/plain": [
       "0.2435375416644495"
      ]
     },
     "execution_count": 69,
     "metadata": {},
     "output_type": "execute_result"
    },
    {
     "name": "stdout",
     "output_type": "stream",
     "text": [
      "Number of missclassified point : 0.15441176470588236\n"
     ]
    }
   ],
   "source": [
    "log_loss(y_test, search.predict_proba(X_test), eps=1e-15)  \n",
    "log_loss(y_train, search.predict_proba(X_train), eps=1e-15)\n",
    "print(\"Number of missclassified point :\", np.count_nonzero((search.predict(X_test) - y_test))/y_test.shape[0])"
   ]
  },
  {
   "cell_type": "code",
   "execution_count": 58,
   "metadata": {},
   "outputs": [
    {
     "data": {
      "text/plain": [
       "{'colsample_bytree': 0.8808345646069895,\n",
       " 'gamma': 0.13547882125756494,\n",
       " 'learning_rate': 0.06995553756712491,\n",
       " 'max_depth': 4,\n",
       " 'n_estimators': 105,\n",
       " 'subsample': 0.9799199653167696}"
      ]
     },
     "execution_count": 58,
     "metadata": {},
     "output_type": "execute_result"
    },
    {
     "data": {
      "text/plain": [
       "0.8523897705881452"
      ]
     },
     "execution_count": 58,
     "metadata": {},
     "output_type": "execute_result"
    }
   ],
   "source": [
    "search.best_params_\n",
    "search.best_score_"
   ]
  },
  {
   "cell_type": "code",
   "execution_count": 70,
   "metadata": {},
   "outputs": [
    {
     "data": {
      "text/plain": [
       "{'colsample_bytree': 0.7412562832437979,\n",
       " 'gamma': 0.17053317552512925,\n",
       " 'learning_rate': 0.06404205637217672,\n",
       " 'max_depth': 4,\n",
       " 'n_estimators': 130,\n",
       " 'subsample': 0.9509357413523924}"
      ]
     },
     "execution_count": 70,
     "metadata": {},
     "output_type": "execute_result"
    },
    {
     "data": {
      "text/plain": [
       "0.8514715109961587"
      ]
     },
     "execution_count": 70,
     "metadata": {},
     "output_type": "execute_result"
    }
   ],
   "source": [
    "search.best_params_\n",
    "search.best_score_"
   ]
  },
  {
   "cell_type": "code",
   "execution_count": 71,
   "metadata": {},
   "outputs": [
    {
     "data": {
      "text/html": [
       "<div>\n",
       "<style scoped>\n",
       "    .dataframe tbody tr th:only-of-type {\n",
       "        vertical-align: middle;\n",
       "    }\n",
       "\n",
       "    .dataframe tbody tr th {\n",
       "        vertical-align: top;\n",
       "    }\n",
       "\n",
       "    .dataframe thead th {\n",
       "        text-align: right;\n",
       "    }\n",
       "</style>\n",
       "<table border=\"1\" class=\"dataframe\">\n",
       "  <thead>\n",
       "    <tr style=\"text-align: right;\">\n",
       "      <th></th>\n",
       "      <th>grade_A_Component_1</th>\n",
       "      <th>thickness</th>\n",
       "      <th>log_area</th>\n",
       "      <th>x_component_1</th>\n",
       "      <th>x_component_2</th>\n",
       "      <th>x_component_3</th>\n",
       "      <th>x_component_4</th>\n",
       "      <th>x_component_5</th>\n",
       "      <th>log_max_luminosity</th>\n",
       "      <th>log_volume</th>\n",
       "      <th>log_pixel_area</th>\n",
       "      <th>is_grade_one</th>\n",
       "    </tr>\n",
       "  </thead>\n",
       "  <tbody>\n",
       "    <tr>\n",
       "      <th>177</th>\n",
       "      <td>0</td>\n",
       "      <td>90</td>\n",
       "      <td>8.551401</td>\n",
       "      <td>1</td>\n",
       "      <td>0</td>\n",
       "      <td>0</td>\n",
       "      <td>0</td>\n",
       "      <td>0</td>\n",
       "      <td>4.615121</td>\n",
       "      <td>13.051211</td>\n",
       "      <td>5.680173</td>\n",
       "      <td>0</td>\n",
       "    </tr>\n",
       "    <tr>\n",
       "      <th>778</th>\n",
       "      <td>1</td>\n",
       "      <td>69</td>\n",
       "      <td>8.854237</td>\n",
       "      <td>0</td>\n",
       "      <td>1</td>\n",
       "      <td>0</td>\n",
       "      <td>0</td>\n",
       "      <td>0</td>\n",
       "      <td>4.890349</td>\n",
       "      <td>13.088343</td>\n",
       "      <td>6.475433</td>\n",
       "      <td>0</td>\n",
       "    </tr>\n",
       "    <tr>\n",
       "      <th>782</th>\n",
       "      <td>0</td>\n",
       "      <td>36</td>\n",
       "      <td>11.438999</td>\n",
       "      <td>0</td>\n",
       "      <td>0</td>\n",
       "      <td>1</td>\n",
       "      <td>0</td>\n",
       "      <td>0</td>\n",
       "      <td>4.934474</td>\n",
       "      <td>15.022518</td>\n",
       "      <td>8.688791</td>\n",
       "      <td>1</td>\n",
       "    </tr>\n",
       "    <tr>\n",
       "      <th>1074</th>\n",
       "      <td>1</td>\n",
       "      <td>97</td>\n",
       "      <td>7.544332</td>\n",
       "      <td>1</td>\n",
       "      <td>0</td>\n",
       "      <td>0</td>\n",
       "      <td>0</td>\n",
       "      <td>0</td>\n",
       "      <td>4.875197</td>\n",
       "      <td>12.119043</td>\n",
       "      <td>5.541264</td>\n",
       "      <td>0</td>\n",
       "    </tr>\n",
       "    <tr>\n",
       "      <th>1244</th>\n",
       "      <td>0</td>\n",
       "      <td>45</td>\n",
       "      <td>9.037771</td>\n",
       "      <td>0</td>\n",
       "      <td>0</td>\n",
       "      <td>0</td>\n",
       "      <td>0</td>\n",
       "      <td>0</td>\n",
       "      <td>4.812184</td>\n",
       "      <td>12.844434</td>\n",
       "      <td>5.135798</td>\n",
       "      <td>0</td>\n",
       "    </tr>\n",
       "  </tbody>\n",
       "</table>\n",
       "</div>"
      ],
      "text/plain": [
       "      grade_A_Component_1  thickness   log_area  x_component_1  x_component_2  \\\n",
       "177                     0         90   8.551401              1              0   \n",
       "778                     1         69   8.854237              0              1   \n",
       "782                     0         36  11.438999              0              0   \n",
       "1074                    1         97   7.544332              1              0   \n",
       "1244                    0         45   9.037771              0              0   \n",
       "\n",
       "      x_component_3  x_component_4  x_component_5  log_max_luminosity  \\\n",
       "177               0              0              0            4.615121   \n",
       "778               0              0              0            4.890349   \n",
       "782               1              0              0            4.934474   \n",
       "1074              0              0              0            4.875197   \n",
       "1244              0              0              0            4.812184   \n",
       "\n",
       "      log_volume  log_pixel_area  is_grade_one  \n",
       "177    13.051211        5.680173             0  \n",
       "778    13.088343        6.475433             0  \n",
       "782    15.022518        8.688791             1  \n",
       "1074   12.119043        5.541264             0  \n",
       "1244   12.844434        5.135798             0  "
      ]
     },
     "execution_count": 71,
     "metadata": {},
     "output_type": "execute_result"
    }
   ],
   "source": [
    "X_train.head()"
   ]
  },
  {
   "cell_type": "code",
   "execution_count": null,
   "metadata": {},
   "outputs": [],
   "source": [
    "# Do weighted refression"
   ]
  }
 ],
 "metadata": {
  "colab": {
   "include_colab_link": true,
   "name": "main.ipynb",
   "provenance": []
  },
  "deepnote_execution_queue": [],
  "deepnote_notebook_id": "23b64a66-a67f-48e7-8109-7b3713a195bc",
  "kernelspec": {
   "display_name": "Python 3",
   "language": "python",
   "name": "python3"
  },
  "language_info": {
   "codemirror_mode": {
    "name": "ipython",
    "version": 3
   },
   "file_extension": ".py",
   "mimetype": "text/x-python",
   "name": "python",
   "nbconvert_exporter": "python",
   "pygments_lexer": "ipython3",
   "version": "3.7.6"
  }
 },
 "nbformat": 4,
 "nbformat_minor": 4
}
